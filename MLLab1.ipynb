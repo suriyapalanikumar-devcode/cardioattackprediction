{
  "nbformat": 4,
  "nbformat_minor": 0,
  "metadata": {
    "colab": {
      "name": "MLLab1.ipynb",
      "provenance": [],
      "collapsed_sections": []
    },
    "kernelspec": {
      "name": "python3",
      "display_name": "Python 3"
    }
  },
  "cells": [
    {
      "cell_type": "code",
      "metadata": {
        "id": "4t0HSW86ySiV",
        "colab": {
          "base_uri": "https://localhost:8080/"
        },
        "outputId": "5f59ee5c-eb89-4f15-ed08-27c7fa769e74"
      },
      "source": [
        "!pip install --upgrade yellowbrick"
      ],
      "execution_count": null,
      "outputs": [
        {
          "output_type": "stream",
          "text": [
            "Collecting yellowbrick\n",
            "\u001b[?25l  Downloading https://files.pythonhosted.org/packages/3a/15/58feb940b6a2f52d3335cccf9e5d00704ec5ba62782da83f7e2abeca5e4b/yellowbrick-1.3.post1-py3-none-any.whl (271kB)\n",
            "\r\u001b[K     |█▏                              | 10kB 16.1MB/s eta 0:00:01\r\u001b[K     |██▍                             | 20kB 22.3MB/s eta 0:00:01\r\u001b[K     |███▋                            | 30kB 20.5MB/s eta 0:00:01\r\u001b[K     |████▉                           | 40kB 14.1MB/s eta 0:00:01\r\u001b[K     |██████                          | 51kB 15.5MB/s eta 0:00:01\r\u001b[K     |███████▎                        | 61kB 17.6MB/s eta 0:00:01\r\u001b[K     |████████▌                       | 71kB 14.3MB/s eta 0:00:01\r\u001b[K     |█████████▋                      | 81kB 15.0MB/s eta 0:00:01\r\u001b[K     |██████████▉                     | 92kB 12.5MB/s eta 0:00:01\r\u001b[K     |████████████                    | 102kB 13.2MB/s eta 0:00:01\r\u001b[K     |█████████████▎                  | 112kB 13.2MB/s eta 0:00:01\r\u001b[K     |██████████████▌                 | 122kB 13.2MB/s eta 0:00:01\r\u001b[K     |███████████████▊                | 133kB 13.2MB/s eta 0:00:01\r\u001b[K     |█████████████████               | 143kB 13.2MB/s eta 0:00:01\r\u001b[K     |██████████████████              | 153kB 13.2MB/s eta 0:00:01\r\u001b[K     |███████████████████▎            | 163kB 13.2MB/s eta 0:00:01\r\u001b[K     |████████████████████▌           | 174kB 13.2MB/s eta 0:00:01\r\u001b[K     |█████████████████████▊          | 184kB 13.2MB/s eta 0:00:01\r\u001b[K     |███████████████████████         | 194kB 13.2MB/s eta 0:00:01\r\u001b[K     |████████████████████████▏       | 204kB 13.2MB/s eta 0:00:01\r\u001b[K     |█████████████████████████▍      | 215kB 13.2MB/s eta 0:00:01\r\u001b[K     |██████████████████████████▋     | 225kB 13.2MB/s eta 0:00:01\r\u001b[K     |███████████████████████████▊    | 235kB 13.2MB/s eta 0:00:01\r\u001b[K     |█████████████████████████████   | 245kB 13.2MB/s eta 0:00:01\r\u001b[K     |██████████████████████████████▏ | 256kB 13.2MB/s eta 0:00:01\r\u001b[K     |███████████████████████████████▍| 266kB 13.2MB/s eta 0:00:01\r\u001b[K     |████████████████████████████████| 276kB 13.2MB/s \n",
            "\u001b[?25hRequirement already satisfied, skipping upgrade: numpy<1.20,>=1.16.0 in /usr/local/lib/python3.7/dist-packages (from yellowbrick) (1.19.5)\n",
            "Requirement already satisfied, skipping upgrade: matplotlib!=3.0.0,>=2.0.2 in /usr/local/lib/python3.7/dist-packages (from yellowbrick) (3.2.2)\n",
            "Requirement already satisfied, skipping upgrade: scipy>=1.0.0 in /usr/local/lib/python3.7/dist-packages (from yellowbrick) (1.4.1)\n",
            "Requirement already satisfied, skipping upgrade: scikit-learn>=0.20 in /usr/local/lib/python3.7/dist-packages (from yellowbrick) (0.22.2.post1)\n",
            "Requirement already satisfied, skipping upgrade: cycler>=0.10.0 in /usr/local/lib/python3.7/dist-packages (from yellowbrick) (0.10.0)\n",
            "Requirement already satisfied, skipping upgrade: pyparsing!=2.0.4,!=2.1.2,!=2.1.6,>=2.0.1 in /usr/local/lib/python3.7/dist-packages (from matplotlib!=3.0.0,>=2.0.2->yellowbrick) (2.4.7)\n",
            "Requirement already satisfied, skipping upgrade: python-dateutil>=2.1 in /usr/local/lib/python3.7/dist-packages (from matplotlib!=3.0.0,>=2.0.2->yellowbrick) (2.8.1)\n",
            "Requirement already satisfied, skipping upgrade: kiwisolver>=1.0.1 in /usr/local/lib/python3.7/dist-packages (from matplotlib!=3.0.0,>=2.0.2->yellowbrick) (1.3.1)\n",
            "Requirement already satisfied, skipping upgrade: joblib>=0.11 in /usr/local/lib/python3.7/dist-packages (from scikit-learn>=0.20->yellowbrick) (1.0.1)\n",
            "Requirement already satisfied, skipping upgrade: six in /usr/local/lib/python3.7/dist-packages (from cycler>=0.10.0->yellowbrick) (1.15.0)\n",
            "Installing collected packages: yellowbrick\n",
            "  Found existing installation: yellowbrick 0.9.1\n",
            "    Uninstalling yellowbrick-0.9.1:\n",
            "      Successfully uninstalled yellowbrick-0.9.1\n",
            "Successfully installed yellowbrick-1.3.post1\n"
          ],
          "name": "stdout"
        }
      ]
    },
    {
      "cell_type": "code",
      "metadata": {
        "id": "uGVoGjk261CL"
      },
      "source": [
        "#Task 1"
      ],
      "execution_count": null,
      "outputs": []
    },
    {
      "cell_type": "code",
      "metadata": {
        "id": "z5igx9X_64pW",
        "colab": {
          "base_uri": "https://localhost:8080/"
        },
        "outputId": "82666882-0585-4b57-9d6c-eb3371545c80"
      },
      "source": [
        "#Importing packages\n",
        "\n",
        "import pandas as pd\n",
        "import numpy as np\n",
        "import math\n",
        "import seaborn as sns\n",
        "import matplotlib.pyplot as plt\n",
        "from sklearn.preprocessing import OneHotEncoder, LabelEncoder, StandardScaler, MinMaxScaler, PolynomialFeatures, OrdinalEncoder\n",
        "from sklearn.compose import ColumnTransformer\n",
        "from sklearn.impute import KNNImputer\n",
        "from sklearn.model_selection import train_test_split, GridSearchCV, validation_curve, cross_val_score, RandomizedSearchCV, StratifiedKFold,RepeatedStratifiedKFold\n",
        "from sklearn.linear_model import LogisticRegression, LinearRegression, Ridge, Lasso, RidgeClassifier\n",
        "from sklearn.metrics import accuracy_score, confusion_matrix, classification_report, roc_auc_score\n",
        "from sklearn.tree import DecisionTreeRegressor, DecisionTreeClassifier\n",
        "from yellowbrick.model_selection import FeatureImportances\n",
        "from sklearn.ensemble import RandomForestClassifier\n",
        "from sklearn.metrics import r2_score, mean_squared_error\n",
        "from fancyimpute import KNN\n",
        "import keras\n",
        "from keras.models import Sequential\n",
        "from keras.layers import Dense, Dropout\n",
        "from sklearn.neighbors import KNeighborsClassifier\n",
        "from sklearn.svm import SVC\n",
        "from sklearn.ensemble import AdaBoostClassifier, GradientBoostingClassifier\n",
        "#from sklearn.model_selection import RepeatedStratifiedKFold\n",
        "import xgboost as xgb\n",
        "from math import sqrt\n",
        "from sklearn.naive_bayes import GaussianNB\n",
        "from sklearn.pipeline import Pipeline\n",
        "import lightgbm as lgb\n",
        "from statistics import mean, stdev\n",
        "from sklearn.feature_selection import SelectKBest, chi2"
      ],
      "execution_count": 5,
      "outputs": [
        {
          "output_type": "stream",
          "text": [
            "/usr/local/lib/python3.7/dist-packages/sklearn/externals/six.py:31: FutureWarning: The module is deprecated in version 0.21 and will be removed in version 0.23 since we've dropped support for Python 2.7. Please rely on the official version of six (https://pypi.org/project/six/).\n",
            "  \"(https://pypi.org/project/six/).\", FutureWarning)\n"
          ],
          "name": "stderr"
        }
      ]
    },
    {
      "cell_type": "code",
      "metadata": {
        "id": "MZ0xZyGS7DyM"
      },
      "source": [
        "# from google.colab import drive\n",
        "# drive.mount(\"/content/drive/\")\n",
        "cardio_train = pd.read_csv(\"/content/drive/MyDrive/ML/Lab1/cardio-train.csv\", sep=\";\")\n",
        "cardio_valid = pd.read_csv(\"/content/drive/MyDrive/ML/Lab1/cardio-validation.csv\")\n",
        "cardio_test = pd.read_csv(\"/content/drive/MyDrive/ML/Lab1/cardio-test.csv\")\n",
        "cardio_valid_1 = cardio_valid.iloc[:251,:]\n",
        "cardio_valid_2 = cardio_valid.iloc[251:,:]"
      ],
      "execution_count": 6,
      "outputs": []
    },
    {
      "cell_type": "code",
      "metadata": {
        "colab": {
          "base_uri": "https://localhost:8080/",
          "height": 87
        },
        "id": "5-UxbKgvnolJ",
        "outputId": "da36ddec-099b-49cb-f23b-5e6acef6fbc1"
      },
      "source": [
        "#1.Identify the dataset columns into nominal,categorical,continues etc.categories\n",
        "\n",
        "\"\"\"\n",
        "1. Age(days) - Continuous(Infinite number of real values)\n",
        "2. Height(cm) - Interval (Consistent Units)\n",
        "3. Weight(kg) - Interval (Consistent Units)\n",
        "4. Gender - Nominal/Categorical \n",
        "5. Systolic blood pressure - Continuous\n",
        "6. Diastolic blood pressure - Continuous\n",
        "7. Cholesterol - Nominal/Categorical\n",
        "8. Glucose - Nominal/Categorical\n",
        "9. Smoking - Nominal/Categorical\n",
        "10. Alcohol intake - Nominal/Categorical\n",
        "11. Physical activity - Nominal/Categorical\n",
        "12. Presence(1)or absence(0)of cardiovascular disease - Nominal/Categorical\n",
        "\n",
        "\"\"\""
      ],
      "execution_count": null,
      "outputs": [
        {
          "output_type": "execute_result",
          "data": {
            "application/vnd.google.colaboratory.intrinsic+json": {
              "type": "string"
            },
            "text/plain": [
              "'\\n1. Age(days) - Continuous(Infinite number of real values)\\n2. Height(cm) - Interval (Consistent Units)\\n3. Weight(kg) - Interval (Consistent Units)\\n4. Gender - Nominal/Categorical \\n5. Systolic blood pressure - Continuous\\n6. Diastolic blood pressure - Continuous\\n7. Cholesterol - Nominal/Categorical\\n8. Glucose - Nominal/Categorical\\n9. Smoking - Nominal/Categorical\\n10. Alcohol intake - Nominal/Categorical\\n11. Physical activity - Nominal/Categorical\\n12. Presence(1)or absence(0)of cardiovascular disease - Nominal/Categorical\\n\\n'"
            ]
          },
          "metadata": {
            "tags": []
          },
          "execution_count": 23
        }
      ]
    },
    {
      "cell_type": "code",
      "metadata": {
        "colab": {
          "base_uri": "https://localhost:8080/"
        },
        "id": "BaqxkBDb0Jgx",
        "outputId": "3d1a1c55-3c89-482e-9a6f-65787c211449"
      },
      "source": [
        "#2)Use dataframe.info and dataframe.describe to get the insights about the data.\n",
        "cardio_train.info()"
      ],
      "execution_count": null,
      "outputs": [
        {
          "output_type": "stream",
          "text": [
            "<class 'pandas.core.frame.DataFrame'>\n",
            "RangeIndex: 500 entries, 0 to 499\n",
            "Data columns (total 13 columns):\n",
            " #   Column       Non-Null Count  Dtype  \n",
            "---  ------       --------------  -----  \n",
            " 0   id           500 non-null    int64  \n",
            " 1   age          335 non-null    float64\n",
            " 2   gender       329 non-null    object \n",
            " 3   height       198 non-null    float64\n",
            " 4   weight       336 non-null    float64\n",
            " 5   ap_hi        347 non-null    float64\n",
            " 6   ap_lo        332 non-null    float64\n",
            " 7   cholesterol  333 non-null    object \n",
            " 8   gluc         333 non-null    object \n",
            " 9   smoke        326 non-null    float64\n",
            " 10  alco         335 non-null    float64\n",
            " 11  active       343 non-null    float64\n",
            " 12  cardio       500 non-null    int64  \n",
            "dtypes: float64(8), int64(2), object(3)\n",
            "memory usage: 50.9+ KB\n"
          ],
          "name": "stdout"
        }
      ]
    },
    {
      "cell_type": "code",
      "metadata": {
        "colab": {
          "base_uri": "https://localhost:8080/",
          "height": 294
        },
        "id": "E357ODkJ0g9j",
        "outputId": "363a2f46-315c-449d-d1ad-0831939640a2"
      },
      "source": [
        "cardio_train.describe()"
      ],
      "execution_count": null,
      "outputs": [
        {
          "output_type": "execute_result",
          "data": {
            "text/html": [
              "<div>\n",
              "<style scoped>\n",
              "    .dataframe tbody tr th:only-of-type {\n",
              "        vertical-align: middle;\n",
              "    }\n",
              "\n",
              "    .dataframe tbody tr th {\n",
              "        vertical-align: top;\n",
              "    }\n",
              "\n",
              "    .dataframe thead th {\n",
              "        text-align: right;\n",
              "    }\n",
              "</style>\n",
              "<table border=\"1\" class=\"dataframe\">\n",
              "  <thead>\n",
              "    <tr style=\"text-align: right;\">\n",
              "      <th></th>\n",
              "      <th>id</th>\n",
              "      <th>age</th>\n",
              "      <th>height</th>\n",
              "      <th>weight</th>\n",
              "      <th>ap_hi</th>\n",
              "      <th>ap_lo</th>\n",
              "      <th>smoke</th>\n",
              "      <th>alco</th>\n",
              "      <th>active</th>\n",
              "      <th>cardio</th>\n",
              "    </tr>\n",
              "  </thead>\n",
              "  <tbody>\n",
              "    <tr>\n",
              "      <th>count</th>\n",
              "      <td>500.000000</td>\n",
              "      <td>335.000000</td>\n",
              "      <td>198.000000</td>\n",
              "      <td>336.000000</td>\n",
              "      <td>347.000000</td>\n",
              "      <td>332.000000</td>\n",
              "      <td>326.000000</td>\n",
              "      <td>335.000000</td>\n",
              "      <td>343.000000</td>\n",
              "      <td>500.000000</td>\n",
              "    </tr>\n",
              "    <tr>\n",
              "      <th>mean</th>\n",
              "      <td>50279.916000</td>\n",
              "      <td>19490.886567</td>\n",
              "      <td>163.934343</td>\n",
              "      <td>74.347321</td>\n",
              "      <td>128.685879</td>\n",
              "      <td>90.060241</td>\n",
              "      <td>0.092025</td>\n",
              "      <td>0.065672</td>\n",
              "      <td>0.813411</td>\n",
              "      <td>0.502000</td>\n",
              "    </tr>\n",
              "    <tr>\n",
              "      <th>std</th>\n",
              "      <td>29913.623631</td>\n",
              "      <td>2466.702487</td>\n",
              "      <td>8.258559</td>\n",
              "      <td>14.335964</td>\n",
              "      <td>18.490176</td>\n",
              "      <td>87.396945</td>\n",
              "      <td>0.289505</td>\n",
              "      <td>0.248078</td>\n",
              "      <td>0.390150</td>\n",
              "      <td>0.500497</td>\n",
              "    </tr>\n",
              "    <tr>\n",
              "      <th>min</th>\n",
              "      <td>38.000000</td>\n",
              "      <td>14334.000000</td>\n",
              "      <td>120.000000</td>\n",
              "      <td>45.000000</td>\n",
              "      <td>12.000000</td>\n",
              "      <td>60.000000</td>\n",
              "      <td>0.000000</td>\n",
              "      <td>0.000000</td>\n",
              "      <td>0.000000</td>\n",
              "      <td>0.000000</td>\n",
              "    </tr>\n",
              "    <tr>\n",
              "      <th>25%</th>\n",
              "      <td>23446.500000</td>\n",
              "      <td>17988.500000</td>\n",
              "      <td>159.250000</td>\n",
              "      <td>65.000000</td>\n",
              "      <td>120.000000</td>\n",
              "      <td>80.000000</td>\n",
              "      <td>0.000000</td>\n",
              "      <td>0.000000</td>\n",
              "      <td>1.000000</td>\n",
              "      <td>0.000000</td>\n",
              "    </tr>\n",
              "    <tr>\n",
              "      <th>50%</th>\n",
              "      <td>51913.500000</td>\n",
              "      <td>19719.000000</td>\n",
              "      <td>165.000000</td>\n",
              "      <td>72.000000</td>\n",
              "      <td>120.000000</td>\n",
              "      <td>80.000000</td>\n",
              "      <td>0.000000</td>\n",
              "      <td>0.000000</td>\n",
              "      <td>1.000000</td>\n",
              "      <td>1.000000</td>\n",
              "    </tr>\n",
              "    <tr>\n",
              "      <th>75%</th>\n",
              "      <td>78656.000000</td>\n",
              "      <td>21597.500000</td>\n",
              "      <td>168.000000</td>\n",
              "      <td>82.000000</td>\n",
              "      <td>140.000000</td>\n",
              "      <td>90.000000</td>\n",
              "      <td>0.000000</td>\n",
              "      <td>0.000000</td>\n",
              "      <td>1.000000</td>\n",
              "      <td>1.000000</td>\n",
              "    </tr>\n",
              "    <tr>\n",
              "      <th>max</th>\n",
              "      <td>99662.000000</td>\n",
              "      <td>23479.000000</td>\n",
              "      <td>187.000000</td>\n",
              "      <td>155.000000</td>\n",
              "      <td>190.000000</td>\n",
              "      <td>1000.000000</td>\n",
              "      <td>1.000000</td>\n",
              "      <td>1.000000</td>\n",
              "      <td>1.000000</td>\n",
              "      <td>1.000000</td>\n",
              "    </tr>\n",
              "  </tbody>\n",
              "</table>\n",
              "</div>"
            ],
            "text/plain": [
              "                 id           age  ...      active      cardio\n",
              "count    500.000000    335.000000  ...  343.000000  500.000000\n",
              "mean   50279.916000  19490.886567  ...    0.813411    0.502000\n",
              "std    29913.623631   2466.702487  ...    0.390150    0.500497\n",
              "min       38.000000  14334.000000  ...    0.000000    0.000000\n",
              "25%    23446.500000  17988.500000  ...    1.000000    0.000000\n",
              "50%    51913.500000  19719.000000  ...    1.000000    1.000000\n",
              "75%    78656.000000  21597.500000  ...    1.000000    1.000000\n",
              "max    99662.000000  23479.000000  ...    1.000000    1.000000\n",
              "\n",
              "[8 rows x 10 columns]"
            ]
          },
          "metadata": {
            "tags": []
          },
          "execution_count": 25
        }
      ]
    },
    {
      "cell_type": "code",
      "metadata": {
        "colab": {
          "base_uri": "https://localhost:8080/"
        },
        "id": "sJq-NKvs2hDq",
        "outputId": "35b235e9-9603-483a-d8a3-fd2a844320d1"
      },
      "source": [
        "# 3. Finding the number of non Null values\n",
        "df_rows = len(cardio_train.index)\n",
        "print(\"Number of NaN in each columns of the dataframe\")\n",
        "for index,value in cardio_train.count().items():\n",
        "  val_nan = df_rows-value\n",
        "  print(index+\" \"+str(val_nan))"
      ],
      "execution_count": null,
      "outputs": [
        {
          "output_type": "stream",
          "text": [
            "Number of NaN in each columns of the dataframe\n",
            "id 0\n",
            "age 165\n",
            "gender 171\n",
            "height 302\n",
            "weight 164\n",
            "ap_hi 153\n",
            "ap_lo 168\n",
            "cholesterol 167\n",
            "gluc 167\n",
            "smoke 174\n",
            "alco 165\n",
            "active 157\n",
            "cardio 0\n"
          ],
          "name": "stdout"
        }
      ]
    },
    {
      "cell_type": "code",
      "metadata": {
        "colab": {
          "base_uri": "https://localhost:8080/",
          "height": 79
        },
        "id": "acAZHMAF4RkU",
        "outputId": "12d8d623-6aa1-4978-af5c-add363ba4eac"
      },
      "source": [
        "#4a) Finding the oldest patient\n",
        "cardio_train[(cardio_train[\"age\"]==cardio_train[\"age\"].max())]"
      ],
      "execution_count": null,
      "outputs": [
        {
          "output_type": "execute_result",
          "data": {
            "text/html": [
              "<div>\n",
              "<style scoped>\n",
              "    .dataframe tbody tr th:only-of-type {\n",
              "        vertical-align: middle;\n",
              "    }\n",
              "\n",
              "    .dataframe tbody tr th {\n",
              "        vertical-align: top;\n",
              "    }\n",
              "\n",
              "    .dataframe thead th {\n",
              "        text-align: right;\n",
              "    }\n",
              "</style>\n",
              "<table border=\"1\" class=\"dataframe\">\n",
              "  <thead>\n",
              "    <tr style=\"text-align: right;\">\n",
              "      <th></th>\n",
              "      <th>id</th>\n",
              "      <th>age</th>\n",
              "      <th>gender</th>\n",
              "      <th>height</th>\n",
              "      <th>weight</th>\n",
              "      <th>ap_hi</th>\n",
              "      <th>ap_lo</th>\n",
              "      <th>cholesterol</th>\n",
              "      <th>gluc</th>\n",
              "      <th>smoke</th>\n",
              "      <th>alco</th>\n",
              "      <th>active</th>\n",
              "      <th>cardio</th>\n",
              "    </tr>\n",
              "  </thead>\n",
              "  <tbody>\n",
              "    <tr>\n",
              "      <th>485</th>\n",
              "      <td>75606</td>\n",
              "      <td>23479.0</td>\n",
              "      <td>NaN</td>\n",
              "      <td>NaN</td>\n",
              "      <td>NaN</td>\n",
              "      <td>120.0</td>\n",
              "      <td>80.0</td>\n",
              "      <td>Normal</td>\n",
              "      <td>NaN</td>\n",
              "      <td>0.0</td>\n",
              "      <td>NaN</td>\n",
              "      <td>1.0</td>\n",
              "      <td>1</td>\n",
              "    </tr>\n",
              "  </tbody>\n",
              "</table>\n",
              "</div>"
            ],
            "text/plain": [
              "        id      age gender  height  weight  ...  gluc  smoke alco active  cardio\n",
              "485  75606  23479.0    NaN     NaN     NaN  ...   NaN    0.0  NaN    1.0       1\n",
              "\n",
              "[1 rows x 13 columns]"
            ]
          },
          "metadata": {
            "tags": []
          },
          "execution_count": 31
        }
      ]
    },
    {
      "cell_type": "code",
      "metadata": {
        "colab": {
          "base_uri": "https://localhost:8080/",
          "height": 79
        },
        "id": "nOMDIT_U_YYk",
        "outputId": "f1781e63-86e0-46de-a565-74e269dfa5d1"
      },
      "source": [
        "#4b) Finding the youngest patient\n",
        "cardio_train[cardio_train[\"age\"]==cardio_train[\"age\"].min()]"
      ],
      "execution_count": null,
      "outputs": [
        {
          "output_type": "execute_result",
          "data": {
            "text/html": [
              "<div>\n",
              "<style scoped>\n",
              "    .dataframe tbody tr th:only-of-type {\n",
              "        vertical-align: middle;\n",
              "    }\n",
              "\n",
              "    .dataframe tbody tr th {\n",
              "        vertical-align: top;\n",
              "    }\n",
              "\n",
              "    .dataframe thead th {\n",
              "        text-align: right;\n",
              "    }\n",
              "</style>\n",
              "<table border=\"1\" class=\"dataframe\">\n",
              "  <thead>\n",
              "    <tr style=\"text-align: right;\">\n",
              "      <th></th>\n",
              "      <th>id</th>\n",
              "      <th>age</th>\n",
              "      <th>gender</th>\n",
              "      <th>height</th>\n",
              "      <th>weight</th>\n",
              "      <th>ap_hi</th>\n",
              "      <th>ap_lo</th>\n",
              "      <th>cholesterol</th>\n",
              "      <th>gluc</th>\n",
              "      <th>smoke</th>\n",
              "      <th>alco</th>\n",
              "      <th>active</th>\n",
              "      <th>cardio</th>\n",
              "    </tr>\n",
              "  </thead>\n",
              "  <tbody>\n",
              "    <tr>\n",
              "      <th>147</th>\n",
              "      <td>44000</td>\n",
              "      <td>14334.0</td>\n",
              "      <td>NaN</td>\n",
              "      <td>163.0</td>\n",
              "      <td>NaN</td>\n",
              "      <td>130.0</td>\n",
              "      <td>NaN</td>\n",
              "      <td>Normal</td>\n",
              "      <td>NaN</td>\n",
              "      <td>0.0</td>\n",
              "      <td>0.0</td>\n",
              "      <td>NaN</td>\n",
              "      <td>0</td>\n",
              "    </tr>\n",
              "  </tbody>\n",
              "</table>\n",
              "</div>"
            ],
            "text/plain": [
              "        id      age gender  height  weight  ...  gluc  smoke alco active  cardio\n",
              "147  44000  14334.0    NaN   163.0     NaN  ...   NaN    0.0  0.0    NaN       0\n",
              "\n",
              "[1 rows x 13 columns]"
            ]
          },
          "metadata": {
            "tags": []
          },
          "execution_count": 32
        }
      ]
    },
    {
      "cell_type": "code",
      "metadata": {
        "colab": {
          "base_uri": "https://localhost:8080/",
          "height": 1000
        },
        "id": "tC14Z2IU_ej5",
        "outputId": "865f39cb-4929-4a52-f2dd-a2f9e1cde4d2"
      },
      "source": [
        "#4c) Finding the average age group\n",
        "#Finding the mean\n",
        "age_mean = round(cardio_train[\"age\"].mean())\n",
        "min_param = math.floor(age_mean/1000)*1000\n",
        "max_param = min_param+1000\n",
        "\n",
        "print(cardio_train[(cardio_train[\"age\"]>=min_param) & (cardio_train[\"age\"]<=max_param)])\n",
        "\n",
        "\n",
        "\"\"\"Comments and Observations:\n",
        "Taking the mean value and findng the average age(in days) group\n",
        "\"\"\"\n",
        "\n"
      ],
      "execution_count": null,
      "outputs": [
        {
          "output_type": "stream",
          "text": [
            "        id      age gender  height  ...  smoke  alco  active cardio\n",
            "2    10483  19761.0    NaN   170.0  ...    0.0   0.0     1.0      1\n",
            "3    22798  19035.0    Men     NaN  ...    0.0   NaN     NaN      0\n",
            "7    75053  19233.0    NaN     NaN  ...    0.0   0.0     NaN      0\n",
            "10   72532  19023.0    NaN     NaN  ...    0.0   0.0     NaN      1\n",
            "29   45690  19601.0    Men     NaN  ...    0.0   0.0     NaN      0\n",
            "53   48053  19791.0    Men     NaN  ...    0.0   0.0     1.0      1\n",
            "67   13418  19648.0    NaN     NaN  ...    NaN   NaN     1.0      0\n",
            "69   99662  19745.0    NaN     NaN  ...    NaN   NaN     1.0      0\n",
            "85    8697  19641.0    NaN   164.0  ...    0.0   NaN     1.0      1\n",
            "86   52175  19714.0    NaN   175.0  ...    NaN   0.0     1.0      1\n",
            "92   81012  19842.0    Men     NaN  ...    NaN   NaN     NaN      1\n",
            "102  13408  19678.0    Men   158.0  ...    0.0   NaN     1.0      0\n",
            "117  53065  19051.0    Men     NaN  ...    0.0   0.0     NaN      0\n",
            "143  41936  19169.0    NaN   168.0  ...    NaN   0.0     NaN      0\n",
            "146  91154  19802.0    Men   162.0  ...    0.0   0.0     1.0      1\n",
            "158  53416  19511.0    Men     NaN  ...    0.0   0.0     NaN      0\n",
            "160  66863  19116.0    Men     NaN  ...    0.0   0.0     0.0      1\n",
            "172  33104  19959.0    NaN     NaN  ...    1.0   0.0     1.0      0\n",
            "174   2061  19116.0  Women     NaN  ...    0.0   0.0     0.0      0\n",
            "184  19024  19647.0  Women     NaN  ...    0.0   0.0     1.0      1\n",
            "194  88051  19119.0    Men   166.0  ...    0.0   NaN     NaN      1\n",
            "201  56943  19810.0    NaN     NaN  ...    0.0   0.0     1.0      1\n",
            "207  23928  19803.0  Women     NaN  ...    NaN   0.0     NaN      0\n",
            "210  64655  19844.0    NaN     NaN  ...    0.0   NaN     NaN      0\n",
            "216  30401  19852.0    Men     NaN  ...    0.0   0.0     1.0      1\n",
            "219  12489  19563.0    NaN   165.0  ...    0.0   NaN     1.0      0\n",
            "222   5918  19673.0    NaN     NaN  ...    0.0   0.0     NaN      1\n",
            "223  93951  19719.0    Men   154.0  ...    NaN   NaN     NaN      0\n",
            "227  94577  19039.0    Men   165.0  ...    NaN   0.0     NaN      1\n",
            "230  37950  19656.0    Men     NaN  ...    0.0   0.0     NaN      1\n",
            "250  64653  19632.0    Men     NaN  ...    NaN   NaN     0.0      0\n",
            "278  78615  19126.0    Men   166.0  ...    0.0   0.0     NaN      1\n",
            "285   2260  19201.0    Men   165.0  ...    NaN   0.0     1.0      0\n",
            "288  67190  19896.0  Women   162.0  ...    0.0   0.0     NaN      1\n",
            "291  74998  19017.0    Men   168.0  ...    0.0   NaN     1.0      1\n",
            "295  18064  19746.0    NaN   163.0  ...    0.0   0.0     1.0      0\n",
            "308  83992  19739.0    Men     NaN  ...    0.0   NaN     1.0      0\n",
            "329  87216  19912.0    NaN   168.0  ...    NaN   0.0     0.0      1\n",
            "349  40635  19041.0    Men   165.0  ...    NaN   NaN     1.0      0\n",
            "357  16071  19708.0  Women     NaN  ...    0.0   0.0     NaN      1\n",
            "386   4145  19522.0    Men     NaN  ...    0.0   NaN     NaN      1\n",
            "390  67558  19216.0    Men   165.0  ...    0.0   NaN     NaN      1\n",
            "393   8083  19762.0    NaN     NaN  ...    NaN   0.0     NaN      1\n",
            "394  98709  19077.0  Women     NaN  ...    0.0   NaN     1.0      1\n",
            "402  84225  19543.0  Women     NaN  ...    NaN   0.0     NaN      1\n",
            "406  44511  19691.0    Men     NaN  ...    0.0   NaN     NaN      1\n",
            "417  36995  19564.0    Men     NaN  ...    0.0   0.0     0.0      0\n",
            "418   5425  19856.0    Men     NaN  ...    0.0   0.0     NaN      1\n",
            "419  19537  19103.0    NaN     NaN  ...    NaN   NaN     1.0      0\n",
            "425  52883  19183.0    NaN   166.0  ...    0.0   0.0     NaN      0\n",
            "434   2571  19821.0    Men   165.0  ...    NaN   0.0     1.0      0\n",
            "442  58325  19579.0    NaN     NaN  ...    0.0   0.0     NaN      1\n",
            "446  37055  19086.0    NaN   164.0  ...    0.0   0.0     1.0      1\n",
            "467  25190  19038.0    Men     NaN  ...    NaN   0.0     NaN      1\n",
            "\n",
            "[54 rows x 13 columns]\n"
          ],
          "name": "stdout"
        },
        {
          "output_type": "execute_result",
          "data": {
            "application/vnd.google.colaboratory.intrinsic+json": {
              "type": "string"
            },
            "text/plain": [
              "'Comments and Observations:\\nTaking the mean value and findng the average age(in days) group\\n'"
            ]
          },
          "metadata": {
            "tags": []
          },
          "execution_count": 34
        }
      ]
    },
    {
      "cell_type": "code",
      "metadata": {
        "colab": {
          "base_uri": "https://localhost:8080/"
        },
        "id": "36eHJZxWGB_6",
        "outputId": "c7d9239e-3861-4c6c-e2c0-66731df2ba8d"
      },
      "source": [
        "# 4d) Find the median age\n",
        "cardio_train[\"age\"].median()"
      ],
      "execution_count": null,
      "outputs": [
        {
          "output_type": "execute_result",
          "data": {
            "text/plain": [
              "19719.0"
            ]
          },
          "metadata": {
            "tags": []
          },
          "execution_count": 14
        }
      ]
    },
    {
      "cell_type": "code",
      "metadata": {
        "id": "RPykqNM2kebg",
        "colab": {
          "base_uri": "https://localhost:8080/",
          "height": 369
        },
        "outputId": "a479f9ff-81b2-417b-cd5e-fc338818fd0d"
      },
      "source": [
        "# 4e) Find the relationship between the cardio and ages(the cardio column is your prediction variable)\n",
        "\n",
        "# Heatmap has been constructed in order to find the relationship between other attributes and cardio\n",
        "sns.heatmap(cardio_train.corr(), fmt='.2f', annot=True)\n"
      ],
      "execution_count": null,
      "outputs": [
        {
          "output_type": "execute_result",
          "data": {
            "text/plain": [
              "<matplotlib.axes._subplots.AxesSubplot at 0x7f685326a350>"
            ]
          },
          "metadata": {
            "tags": []
          },
          "execution_count": 35
        },
        {
          "output_type": "display_data",
          "data": {
            "image/png": "[encoded data removed]",
            "text/plain": [
              "<Figure size 576x396 with 2 Axes>"
            ]
          },
          "metadata": {
            "tags": []
          }
        }
      ]
    },
    {
      "cell_type": "code",
      "metadata": {
        "colab": {
          "base_uri": "https://localhost:8080/",
          "height": 567
        },
        "id": "vG27hEciouh7",
        "outputId": "9b3353a2-4ccb-4e94-ee4e-2a3793a46b63"
      },
      "source": [
        "plt.figure(figsize=(15,8))\n",
        "sns.kdeplot(\n",
        "    cardio_train[\"age\"][cardio_train[\"cardio\"]==0 ],\n",
        "    color=\"green\",\n",
        "    shade=True\n",
        ")\n",
        "\n",
        "sns.kdeplot(\n",
        "    cardio_train[\"age\"][cardio_train[\"cardio\"]==1 ],\n",
        "    color=\"blue\",\n",
        "    shade=True\n",
        ")\n",
        "\n",
        "plt.legend([\"Prone to attack\",\"Safe\"])\n",
        "plt.show()\n",
        "\n",
        "\n",
        "\"\"\"\n",
        "Comments and Observations:\n",
        "\n",
        "\n",
        "**Assuming '0' as \"Prone to Cardiac Attack\" patients\n",
        "'1' as \"Safer zone\" patients \n",
        "\n",
        "From the Correlation heatmap and the kdeplot, we could see that people \"prone to cardiac attack\" is higher around the age of 19000 days.\n",
        "Irrespective of the age, cardio attack may or may not be possible, which indicates other attributes along with age would influence the \n",
        "predictive variable. ie., cardiac\n",
        "\n",
        "\"\"\""
      ],
      "execution_count": null,
      "outputs": [
        {
          "output_type": "display_data",
          "data": {
            "image/png": "[encoded data removed]",
            "text/plain": [
              "<Figure size 1080x576 with 1 Axes>"
            ]
          },
          "metadata": {
            "tags": []
          }
        },
        {
          "output_type": "execute_result",
          "data": {
            "application/vnd.google.colaboratory.intrinsic+json": {
              "type": "string"
            },
            "text/plain": [
              "'\\nComments and Observations:\\n\\n\\n**Assuming \\'0\\' as \"Prone to Cardiac Attack\" patients\\n\\'1\\' as \"Safer zone\" patients \\n\\nFrom the Correlation heatmap and the kdeplot, we could see that people \"prone to cardiac attack\" is higher around the age of 19000 days.\\nIrrespective of the age, cardio attack may or may not be possible, which indicates other attributes along with age would influence the \\npredictive variable. ie., cardiac\\n\\n'"
            ]
          },
          "metadata": {
            "tags": []
          },
          "execution_count": 36
        }
      ]
    },
    {
      "cell_type": "code",
      "metadata": {
        "colab": {
          "base_uri": "https://localhost:8080/",
          "height": 589
        },
        "id": "3YvAemPgq0t3",
        "outputId": "1c308fdc-2d6c-4295-bc84-8c6c95b69c56"
      },
      "source": [
        "#f) Find the age groups whose survival rate is the largest\n",
        "\n",
        "#Filtering out the people survived\n",
        "survival = cardio_train[cardio_train[\"cardio\"]==1].reset_index()\n",
        "\n",
        "min_age = round(cardio_train[\"age\"].min()/1000)*1000\n",
        "max_age = (round(cardio_train[\"age\"].max()/1000)*1000)+1000\n",
        "\n",
        "bins=[]\n",
        "while min_age<=max_age:\n",
        "  bins.append(min_age)\n",
        "  min_age+= 1000\n",
        "\n",
        "out=pd.cut(\n",
        "    survival[\"age\"],\n",
        "    bins=bins,\n",
        "    include_lowest=True\n",
        ")\n",
        "\n",
        "ax= out.value_counts(sort=False).plot.bar(rot=0, color=\"g\", figsize=(20,10))\n",
        "plt.xlabel(\"Age Bins\")\n",
        "plt.ylabel(\"Count\")\n",
        "plt.show()\n",
        "\n",
        "\"\"\"\n",
        "Comments and Observations:\n",
        "\n",
        "Person with the age of 21000-22000 days has survived the most\n",
        "\n",
        "\"\"\""
      ],
      "execution_count": null,
      "outputs": [
        {
          "output_type": "display_data",
          "data": {
            "image/png": "[encoded data removed]",
            "text/plain": [
              "<Figure size 1440x720 with 1 Axes>"
            ]
          },
          "metadata": {
            "tags": []
          }
        },
        {
          "output_type": "execute_result",
          "data": {
            "application/vnd.google.colaboratory.intrinsic+json": {
              "type": "string"
            },
            "text/plain": [
              "'\\nComments and Observations:\\n\\nPerson with the age of 21000-22000 days has survived the most\\n\\n'"
            ]
          },
          "metadata": {
            "tags": []
          },
          "execution_count": 37
        }
      ]
    },
    {
      "cell_type": "code",
      "metadata": {
        "colab": {
          "base_uri": "https://localhost:8080/",
          "height": 533
        },
        "id": "O757ejhgwntc",
        "outputId": "a9c0616c-f12c-4fd1-b583-469b3944bd6f"
      },
      "source": [
        "#Find similar relationships for at least 3-4 columns that you think can play a role in prediction (For example, systolic BP, cholesterol etc.)\n",
        "#Column 1\n",
        "# ap_hi\n",
        "plt.figure(figsize=(15,8))\n",
        "sns.kdeplot(\n",
        "    cardio_train[\"ap_hi\"][cardio_train[\"cardio\"]==0 ],\n",
        "    color=\"green\",\n",
        "    shade=True\n",
        ")\n",
        "\n",
        "sns.kdeplot(\n",
        "    cardio_train[\"ap_hi\"][cardio_train[\"cardio\"]==1 ],\n",
        "    color=\"blue\",\n",
        "    shade=True\n",
        ")\n",
        "\n",
        "plt.legend([\"Prone to Attack\",\"safe\"])\n",
        "plt.show()\n",
        "\n",
        "\n",
        "\"\"\"\n",
        "Comments and Observations:\n",
        "\n",
        "From the Correlation heatmap and the kdeplot, we could infer that ap_hi has a huge impact of a person getting cardio attack or not.\n",
        "From the plot, it is evident that ap_hi is definitely one of the best feature to predict cardio.\n",
        "\n",
        "\"\"\""
      ],
      "execution_count": null,
      "outputs": [
        {
          "output_type": "display_data",
          "data": {
            "image/png": "[encoded data removed]",
            "text/plain": [
              "<Figure size 1080x576 with 1 Axes>"
            ]
          },
          "metadata": {
            "tags": []
          }
        },
        {
          "output_type": "execute_result",
          "data": {
            "application/vnd.google.colaboratory.intrinsic+json": {
              "type": "string"
            },
            "text/plain": [
              "'\\nComments and Observations:\\n\\nFrom the Correlation heatmap and the kdeplot, we could infer that ap_hi has a huge impact of a person getting cardio attack or not.\\nFrom the plot, it is evident that ap_hi is definitely one of the best feature to predict cardio.\\n\\n'"
            ]
          },
          "metadata": {
            "tags": []
          },
          "execution_count": 39
        }
      ]
    },
    {
      "cell_type": "code",
      "metadata": {
        "colab": {
          "base_uri": "https://localhost:8080/",
          "height": 70
        },
        "id": "s5ggFhsNzCYk",
        "outputId": "a6e9d5a7-359f-4844-fa87-9224e3315d97"
      },
      "source": [
        "#Find similar relationships for at least 3-4 columns that you think can play a role in prediction (For example, systolic BP, cholesterol etc.)\n",
        "#Appling label encoder for categorical values\n",
        "\n",
        "\n",
        "plt.figure(figsize=(15,8))\n",
        "cardio_temp = cardio_train.copy(deep=True)\n",
        "cholesterol_mode = cardio_temp[\"cholesterol\"].mode()\n",
        "gluc_mode = cardio_temp[\"gluc\"].mode()\n",
        "gender_mode = cardio_temp[\"gender\"].mode()\n",
        "\n",
        "cardio_temp['cholesterol']= cardio_temp['cholesterol'].replace(np.nan, cholesterol_mode.iat[0])\n",
        "cardio_temp['gluc']= cardio_temp['gluc'].replace(np.nan, gluc_mode.iat[0])\n",
        "cardio_temp['gender']= cardio_temp['gender'].replace(np.nan, gender_mode.iat[0])\n",
        "\n",
        "label_encoder_x = LabelEncoder()\n",
        "cardio_temp[\"cholesterol\"] = label_encoder_x.fit_transform(cardio_temp[\"cholesterol\"])\n",
        "cardio_temp[\"gluc\"] = label_encoder_x.fit_transform(cardio_temp[\"gluc\"])\n",
        "cardio_temp[\"gender\"] = label_encoder_x.fit_transform(cardio_temp[\"gender\"])\n",
        "\n",
        "\"\"\"\n",
        "Comments and Observations:\n",
        "Inorder to plot kdeplot, categorical values should be encoded. In order to encode, the NaN values are imputed.\n",
        "\n",
        "\"\"\""
      ],
      "execution_count": null,
      "outputs": [
        {
          "output_type": "execute_result",
          "data": {
            "application/vnd.google.colaboratory.intrinsic+json": {
              "type": "string"
            },
            "text/plain": [
              "'\\nComments and Observations:\\nInorder to plot kdeplot, categorical values should be encoded. In order to encode, the NaN values are imputed.\\n\\n'"
            ]
          },
          "metadata": {
            "tags": []
          },
          "execution_count": 40
        },
        {
          "output_type": "display_data",
          "data": {
            "text/plain": [
              "<Figure size 1080x576 with 0 Axes>"
            ]
          },
          "metadata": {
            "tags": []
          }
        }
      ]
    },
    {
      "cell_type": "code",
      "metadata": {
        "colab": {
          "base_uri": "https://localhost:8080/",
          "height": 550
        },
        "id": "J0_r0gj_XWLE",
        "outputId": "c7c74d9c-facf-417c-a071-cdba25d2579c"
      },
      "source": [
        "#Column 2\n",
        "#cholesterol\n",
        "plt.figure(figsize=(15,8))\n",
        "sns.kdeplot(\n",
        "    cardio_train[\"smoke\"][cardio_train[\"cardio\"]==0 ],\n",
        "    color=\"green\",\n",
        "    shade=True\n",
        ")\n",
        "\n",
        "sns.kdeplot(\n",
        "    cardio_train[\"smoke\"][cardio_train[\"cardio\"]==1 ],\n",
        "    color=\"blue\",\n",
        "    shade=True\n",
        ")\n",
        "\n",
        "plt.legend([\"Prone to attack\",\"Safe\"])\n",
        "plt.show()\n",
        "\n",
        "\n",
        "\"\"\"\n",
        "Comments and Observations:\n",
        "\n",
        "From the Correlation heatmap and the kdeplot, we could see that the relationship between smoke and cardio is uncertain.\n",
        "\"Safe\" and \"Prone to Cardio\" are common irrespective of smoking rates here.\n",
        "One inference is that both \"Prone to Cardio\" and \"Safe\" is high when smoke=0 \n",
        "\n",
        "\n",
        "\"\"\""
      ],
      "execution_count": null,
      "outputs": [
        {
          "output_type": "display_data",
          "data": {
            "image/png": "[encoded data removed]",
            "text/plain": [
              "<Figure size 1080x576 with 1 Axes>"
            ]
          },
          "metadata": {
            "tags": []
          }
        },
        {
          "output_type": "execute_result",
          "data": {
            "application/vnd.google.colaboratory.intrinsic+json": {
              "type": "string"
            },
            "text/plain": [
              "'\\nComments and Observations:\\n\\nFrom the Correlation heatmap and the kdeplot, we could see that the relationship between smoke and cardio is uncertain.\\n\"Safe\" and \"Prone to Cardio\" are common irrespective of smoking rates here.\\nOne inference is that both \"Prone to Cardio\" and \"Safe\" is high when smoke=0 \\n\\n\\n'"
            ]
          },
          "metadata": {
            "tags": []
          },
          "execution_count": 42
        }
      ]
    },
    {
      "cell_type": "code",
      "metadata": {
        "colab": {
          "base_uri": "https://localhost:8080/",
          "height": 533
        },
        "id": "YMpev1aAeHFZ",
        "outputId": "e0b24ec7-6c4c-4d5d-b532-1d9dd6e9f651"
      },
      "source": [
        "#Column 3\n",
        "#Smoke\n",
        "plt.figure(figsize=(15,8))\n",
        "sns.kdeplot(\n",
        "    cardio_train[\"ap_lo\"][cardio_train[\"cardio\"]==0 ],\n",
        "    color=\"green\",\n",
        "    shade=True\n",
        ")\n",
        "\n",
        "sns.kdeplot(\n",
        "    cardio_train[\"ap_lo\"][cardio_train[\"cardio\"]==1 ],\n",
        "    color=\"blue\",\n",
        "    shade=True\n",
        ")\n",
        "\n",
        "plt.legend([\"Prone to attack\",\"Safe\"])\n",
        "plt.show()\n",
        "\n",
        "\n",
        "\"\"\"\n",
        "Comments and Observations:\n",
        "\n",
        "\n",
        "From the Correlation heatmap and the kdeplot, we could infer that both \"Prone to attack\" and \"Safe\" are distributed widely based on ap_lo.\n",
        "\"ap_lo\" should be one of the features to be considered inorder to predict \"Cardio\".\n",
        "\n",
        "\n",
        "\"\"\""
      ],
      "execution_count": null,
      "outputs": [
        {
          "output_type": "display_data",
          "data": {
            "image/png": "[encoded data removed]",
            "text/plain": [
              "<Figure size 1080x576 with 1 Axes>"
            ]
          },
          "metadata": {
            "tags": []
          }
        },
        {
          "output_type": "execute_result",
          "data": {
            "application/vnd.google.colaboratory.intrinsic+json": {
              "type": "string"
            },
            "text/plain": [
              "'\\nComments and Observations:\\n\\n\\nFrom the Correlation heatmap and the kdeplot, we could infer that both \"Prone to attack\" and \"Safe\" are distributed widely based on ap_lo.\\n\"ap_lo\" should be one of the features to be considered inorder to predict \"Cardio\".\\n\\n\\n'"
            ]
          },
          "metadata": {
            "tags": []
          },
          "execution_count": 44
        }
      ]
    },
    {
      "cell_type": "code",
      "metadata": {
        "colab": {
          "base_uri": "https://localhost:8080/",
          "height": 515
        },
        "id": "3966CQPEfDH2",
        "outputId": "179bd5ac-4fa8-4591-a4b7-5ca86e11d42c"
      },
      "source": [
        "#Column 4\n",
        "#Alcohol\n",
        "plt.figure(figsize=(15,8))\n",
        "sns.kdeplot(\n",
        "    cardio_train[\"alco\"][cardio_train[\"cardio\"]==0 ],\n",
        "    color=\"green\",\n",
        "    shade=True\n",
        ")\n",
        "\n",
        "sns.kdeplot(\n",
        "    cardio_train[\"alco\"][cardio_train[\"cardio\"]==1 ],\n",
        "    color=\"blue\",\n",
        "    shade=True\n",
        ")\n",
        "\n",
        "plt.legend([\"Prone to attack\",\"Safe\"])\n",
        "plt.show()\n",
        "\n",
        "\n",
        "\"\"\"\n",
        "Comments and Observations:\n",
        "\n",
        "From the kdeplot, \"Prone to attack\" and \"Safe\" rates rise/fall irrespective of alcohol intake.\n",
        "\"\"\""
      ],
      "execution_count": null,
      "outputs": [
        {
          "output_type": "display_data",
          "data": {
            "image/png": "[encoded data removed]",
            "text/plain": [
              "<Figure size 1080x576 with 1 Axes>"
            ]
          },
          "metadata": {
            "tags": []
          }
        },
        {
          "output_type": "execute_result",
          "data": {
            "application/vnd.google.colaboratory.intrinsic+json": {
              "type": "string"
            },
            "text/plain": [
              "'\\nComments and Observations:\\n\\nFrom the kdeplot, \"Prone to attack\" and \"Safe\" rates rise/fall irrespective of alcohol intake.\\n'"
            ]
          },
          "metadata": {
            "tags": []
          },
          "execution_count": 47
        }
      ]
    },
    {
      "cell_type": "code",
      "metadata": {
        "colab": {
          "base_uri": "https://localhost:8080/",
          "height": 505
        },
        "id": "K_mZL1tOfcq-",
        "outputId": "c750386e-ec4a-49f8-8d17-24ef004fb41e"
      },
      "source": [
        "#h. Get more visuals on data distributions\n",
        "#Use plotCorrelationMatrix\n",
        "plt.figure(figsize=(15,8))\n",
        "sns.heatmap(cardio_train.corr(), fmt=\".2f\", annot=True)"
      ],
      "execution_count": null,
      "outputs": [
        {
          "output_type": "execute_result",
          "data": {
            "text/plain": [
              "<matplotlib.axes._subplots.AxesSubplot at 0x7f6850e516d0>"
            ]
          },
          "metadata": {
            "tags": []
          },
          "execution_count": 48
        },
        {
          "output_type": "display_data",
          "data": {
            "image/png": "[encoded data removed]",
            "text/plain": [
              "<Figure size 1080x576 with 2 Axes>"
            ]
          },
          "metadata": {
            "tags": []
          }
        }
      ]
    },
    {
      "cell_type": "code",
      "metadata": {
        "colab": {
          "base_uri": "https://localhost:8080/",
          "height": 1000
        },
        "id": "tm8AYXQmmJSJ",
        "outputId": "dec285a7-d6bc-4130-e819-93380101e943"
      },
      "source": [
        "#Plotting scattermatrix\n",
        "pd.plotting.scatter_matrix(cardio_train, alpha=0.2,  figsize=(15, 8))"
      ],
      "execution_count": null,
      "outputs": [
        {
          "output_type": "execute_result",
          "data": {
            "text/plain": [
              "array([[<matplotlib.axes._subplots.AxesSubplot object at 0x7f6850ad4b10>,\n",
              "        <matplotlib.axes._subplots.AxesSubplot object at 0x7f6850a8a590>,\n",
              "        <matplotlib.axes._subplots.AxesSubplot object at 0x7f6850abda50>,\n",
              "        <matplotlib.axes._subplots.AxesSubplot object at 0x7f6850a66b10>,\n",
              "        <matplotlib.axes._subplots.AxesSubplot object at 0x7f6850a31590>,\n",
              "        <matplotlib.axes._subplots.AxesSubplot object at 0x7f68509eab10>,\n",
              "        <matplotlib.axes._subplots.AxesSubplot object at 0x7f68509aa150>,\n",
              "        <matplotlib.axes._subplots.AxesSubplot object at 0x7f6850961610>,\n",
              "        <matplotlib.axes._subplots.AxesSubplot object at 0x7f6850961650>,\n",
              "        <matplotlib.axes._subplots.AxesSubplot object at 0x7f6850915cd0>],\n",
              "       [<matplotlib.axes._subplots.AxesSubplot object at 0x7f685088d710>,\n",
              "        <matplotlib.axes._subplots.AxesSubplot object at 0x7f68508c2c90>,\n",
              "        <matplotlib.axes._subplots.AxesSubplot object at 0x7f6850884250>,\n",
              "        <matplotlib.axes._subplots.AxesSubplot object at 0x7f68508397d0>,\n",
              "        <matplotlib.axes._subplots.AxesSubplot object at 0x7f68507efd50>,\n",
              "        <matplotlib.axes._subplots.AxesSubplot object at 0x7f68507b3310>,\n",
              "        <matplotlib.axes._subplots.AxesSubplot object at 0x7f6850768890>,\n",
              "        <matplotlib.axes._subplots.AxesSubplot object at 0x7f68510cee90>,\n",
              "        <matplotlib.axes._subplots.AxesSubplot object at 0x7f6850caa990>,\n",
              "        <matplotlib.axes._subplots.AxesSubplot object at 0x7f6850d3b8d0>],\n",
              "       [<matplotlib.axes._subplots.AxesSubplot object at 0x7f6850db7e10>,\n",
              "        <matplotlib.axes._subplots.AxesSubplot object at 0x7f6850df3710>,\n",
              "        <matplotlib.axes._subplots.AxesSubplot object at 0x7f6850e05610>,\n",
              "        <matplotlib.axes._subplots.AxesSubplot object at 0x7f6850f54810>,\n",
              "        <matplotlib.axes._subplots.AxesSubplot object at 0x7f68510784d0>,\n",
              "        <matplotlib.axes._subplots.AxesSubplot object at 0x7f68511d7d10>,\n",
              "        <matplotlib.axes._subplots.AxesSubplot object at 0x7f68511932d0>,\n",
              "        <matplotlib.axes._subplots.AxesSubplot object at 0x7f68510016d0>,\n",
              "        <matplotlib.axes._subplots.AxesSubplot object at 0x7f6850d81410>,\n",
              "        <matplotlib.axes._subplots.AxesSubplot object at 0x7f6850ecca90>],\n",
              "       [<matplotlib.axes._subplots.AxesSubplot object at 0x7f6850d38150>,\n",
              "        <matplotlib.axes._subplots.AxesSubplot object at 0x7f6850fd27d0>,\n",
              "        <matplotlib.axes._subplots.AxesSubplot object at 0x7f6851094e50>,\n",
              "        <matplotlib.axes._subplots.AxesSubplot object at 0x7f6850f2a750>,\n",
              "        <matplotlib.axes._subplots.AxesSubplot object at 0x7f6850e3ab90>,\n",
              "        <matplotlib.axes._subplots.AxesSubplot object at 0x7f6850fb8250>,\n",
              "        <matplotlib.axes._subplots.AxesSubplot object at 0x7f6850ead8d0>,\n",
              "        <matplotlib.axes._subplots.AxesSubplot object at 0x7f6850d95f50>,\n",
              "        <matplotlib.axes._subplots.AxesSubplot object at 0x7f685106e610>,\n",
              "        <matplotlib.axes._subplots.AxesSubplot object at 0x7f685072fc90>],\n",
              "       [<matplotlib.axes._subplots.AxesSubplot object at 0x7f68506f3350>,\n",
              "        <matplotlib.axes._subplots.AxesSubplot object at 0x7f68506a79d0>,\n",
              "        <matplotlib.axes._subplots.AxesSubplot object at 0x7f6850653b90>,\n",
              "        <matplotlib.axes._subplots.AxesSubplot object at 0x7f6850620710>,\n",
              "        <matplotlib.axes._subplots.AxesSubplot object at 0x7f68505d5d90>,\n",
              "        <matplotlib.axes._subplots.AxesSubplot object at 0x7f6850598450>,\n",
              "        <matplotlib.axes._subplots.AxesSubplot object at 0x7f685054dad0>,\n",
              "        <matplotlib.axes._subplots.AxesSubplot object at 0x7f685050d5d0>,\n",
              "        <matplotlib.axes._subplots.AxesSubplot object at 0x7f6850541b50>,\n",
              "        <matplotlib.axes._subplots.AxesSubplot object at 0x7f6850503110>],\n",
              "       [<matplotlib.axes._subplots.AxesSubplot object at 0x7f68504b9690>,\n",
              "        <matplotlib.axes._subplots.AxesSubplot object at 0x7f685046ec10>,\n",
              "        <matplotlib.axes._subplots.AxesSubplot object at 0x7f6850432210>,\n",
              "        <matplotlib.axes._subplots.AxesSubplot object at 0x7f68503e6790>,\n",
              "        <matplotlib.axes._subplots.AxesSubplot object at 0x7f685039ad10>,\n",
              "        <matplotlib.axes._subplots.AxesSubplot object at 0x7f685035f2d0>,\n",
              "        <matplotlib.axes._subplots.AxesSubplot object at 0x7f6850313850>,\n",
              "        <matplotlib.axes._subplots.AxesSubplot object at 0x7f68502cadd0>,\n",
              "        <matplotlib.axes._subplots.AxesSubplot object at 0x7f685028b390>,\n",
              "        <matplotlib.axes._subplots.AxesSubplot object at 0x7f68502c1910>],\n",
              "       [<matplotlib.axes._subplots.AxesSubplot object at 0x7f6850277e90>,\n",
              "        <matplotlib.axes._subplots.AxesSubplot object at 0x7f6850238450>,\n",
              "        <matplotlib.axes._subplots.AxesSubplot object at 0x7f68501ec9d0>,\n",
              "        <matplotlib.axes._subplots.AxesSubplot object at 0x7f68501a3f50>,\n",
              "        <matplotlib.axes._subplots.AxesSubplot object at 0x7f6850166510>,\n",
              "        <matplotlib.axes._subplots.AxesSubplot object at 0x7f685011ba90>,\n",
              "        <matplotlib.axes._subplots.AxesSubplot object at 0x7f68500d2fd0>,\n",
              "        <matplotlib.axes._subplots.AxesSubplot object at 0x7f68500945d0>,\n",
              "        <matplotlib.axes._subplots.AxesSubplot object at 0x7f6850048b50>,\n",
              "        <matplotlib.axes._subplots.AxesSubplot object at 0x7f685000a110>],\n",
              "       [<matplotlib.axes._subplots.AxesSubplot object at 0x7f685003f690>,\n",
              "        <matplotlib.axes._subplots.AxesSubplot object at 0x7f684fff6c50>,\n",
              "        <matplotlib.axes._subplots.AxesSubplot object at 0x7f684ffb9210>,\n",
              "        <matplotlib.axes._subplots.AxesSubplot object at 0x7f684ff6d790>,\n",
              "        <matplotlib.axes._subplots.AxesSubplot object at 0x7f684ff24d10>,\n",
              "        <matplotlib.axes._subplots.AxesSubplot object at 0x7f684fee42d0>,\n",
              "        <matplotlib.axes._subplots.AxesSubplot object at 0x7f684fe9c850>,\n",
              "        <matplotlib.axes._subplots.AxesSubplot object at 0x7f684fe4fdd0>,\n",
              "        <matplotlib.axes._subplots.AxesSubplot object at 0x7f684fe12390>,\n",
              "        <matplotlib.axes._subplots.AxesSubplot object at 0x7f6850e72e10>],\n",
              "       [<matplotlib.axes._subplots.AxesSubplot object at 0x7f6850ed1750>,\n",
              "        <matplotlib.axes._subplots.AxesSubplot object at 0x7f6850e94810>,\n",
              "        <matplotlib.axes._subplots.AxesSubplot object at 0x7f685062b6d0>,\n",
              "        <matplotlib.axes._subplots.AxesSubplot object at 0x7f684fd1c0d0>,\n",
              "        <matplotlib.axes._subplots.AxesSubplot object at 0x7f684fcd2750>,\n",
              "        <matplotlib.axes._subplots.AxesSubplot object at 0x7f684fc87dd0>,\n",
              "        <matplotlib.axes._subplots.AxesSubplot object at 0x7f684fc4a490>,\n",
              "        <matplotlib.axes._subplots.AxesSubplot object at 0x7f684fc80b10>,\n",
              "        <matplotlib.axes._subplots.AxesSubplot object at 0x7f684fc411d0>,\n",
              "        <matplotlib.axes._subplots.AxesSubplot object at 0x7f684fbf8850>],\n",
              "       [<matplotlib.axes._subplots.AxesSubplot object at 0x7f684fbafed0>,\n",
              "        <matplotlib.axes._subplots.AxesSubplot object at 0x7f684fb71590>,\n",
              "        <matplotlib.axes._subplots.AxesSubplot object at 0x7f684fb27c10>,\n",
              "        <matplotlib.axes._subplots.AxesSubplot object at 0x7f684faea2d0>,\n",
              "        <matplotlib.axes._subplots.AxesSubplot object at 0x7f684fa9f950>,\n",
              "        <matplotlib.axes._subplots.AxesSubplot object at 0x7f684fa4cb10>,\n",
              "        <matplotlib.axes._subplots.AxesSubplot object at 0x7f684fa17690>,\n",
              "        <matplotlib.axes._subplots.AxesSubplot object at 0x7f684f9ced10>,\n",
              "        <matplotlib.axes._subplots.AxesSubplot object at 0x7f684f9903d0>,\n",
              "        <matplotlib.axes._subplots.AxesSubplot object at 0x7f684f945a50>]],\n",
              "      dtype=object)"
            ]
          },
          "metadata": {
            "tags": []
          },
          "execution_count": 49
        },
        {
          "output_type": "display_data",
          "data": {
            "image/png": "[encoded data removed]",
            "text/plain": [
              "<Figure size 1080x576 with 100 Axes>"
            ]
          },
          "metadata": {
            "tags": []
          }
        }
      ]
    },
    {
      "cell_type": "code",
      "metadata": {
        "colab": {
          "base_uri": "https://localhost:8080/",
          "height": 1000
        },
        "id": "17PlAdUmpbZc",
        "outputId": "ec8b3f10-ea5b-45f6-82c3-c77c64884b7c"
      },
      "source": [
        "#Plot per column distribution\n",
        "\n",
        "cols = cardio_temp.columns.to_list()\n",
        "cols.remove(\"id\")\n",
        "\n",
        "row = 0\n",
        "col = 0\n",
        "\n",
        "for i in cols:\n",
        "    sns.displot(ax=axes[row], data= cardio_temp, x=i)\n",
        "    axes[row].set_title = i\n",
        "    row = row+1\n",
        "\n",
        "\n",
        "\n",
        "\"\"\"\n",
        "\n",
        "Comments and Observations:\n",
        "\n",
        "From the distribution, the inference is that there could be outliers that the model should handle. \n",
        "ap_hi, ap_lo, height, age, weight seems to be the best features to predict the \"cardio\" target from the distribution plots and correlation matrix.\n",
        "\n",
        "\"\"\"\n",
        "\n"
      ],
      "execution_count": null,
      "outputs": [
        {
          "output_type": "stream",
          "text": [
            "/usr/local/lib/python3.7/dist-packages/seaborn/distributions.py:2164: UserWarning: `displot` is a figure-level function and does not accept the ax= paramter. You may wish to try histplot.\n",
            "  warnings.warn(msg, UserWarning)\n",
            "/usr/local/lib/python3.7/dist-packages/seaborn/distributions.py:2164: UserWarning: `displot` is a figure-level function and does not accept the ax= paramter. You may wish to try histplot.\n",
            "  warnings.warn(msg, UserWarning)\n",
            "/usr/local/lib/python3.7/dist-packages/seaborn/distributions.py:2164: UserWarning: `displot` is a figure-level function and does not accept the ax= paramter. You may wish to try histplot.\n",
            "  warnings.warn(msg, UserWarning)\n",
            "/usr/local/lib/python3.7/dist-packages/seaborn/distributions.py:2164: UserWarning: `displot` is a figure-level function and does not accept the ax= paramter. You may wish to try histplot.\n",
            "  warnings.warn(msg, UserWarning)\n",
            "/usr/local/lib/python3.7/dist-packages/seaborn/distributions.py:2164: UserWarning: `displot` is a figure-level function and does not accept the ax= paramter. You may wish to try histplot.\n",
            "  warnings.warn(msg, UserWarning)\n",
            "/usr/local/lib/python3.7/dist-packages/seaborn/distributions.py:2164: UserWarning: `displot` is a figure-level function and does not accept the ax= paramter. You may wish to try histplot.\n",
            "  warnings.warn(msg, UserWarning)\n",
            "/usr/local/lib/python3.7/dist-packages/seaborn/distributions.py:2164: UserWarning: `displot` is a figure-level function and does not accept the ax= paramter. You may wish to try histplot.\n",
            "  warnings.warn(msg, UserWarning)\n",
            "/usr/local/lib/python3.7/dist-packages/seaborn/distributions.py:2164: UserWarning: `displot` is a figure-level function and does not accept the ax= paramter. You may wish to try histplot.\n",
            "  warnings.warn(msg, UserWarning)\n",
            "/usr/local/lib/python3.7/dist-packages/seaborn/distributions.py:2164: UserWarning: `displot` is a figure-level function and does not accept the ax= paramter. You may wish to try histplot.\n",
            "  warnings.warn(msg, UserWarning)\n",
            "/usr/local/lib/python3.7/dist-packages/seaborn/distributions.py:2164: UserWarning: `displot` is a figure-level function and does not accept the ax= paramter. You may wish to try histplot.\n",
            "  warnings.warn(msg, UserWarning)\n",
            "/usr/local/lib/python3.7/dist-packages/seaborn/distributions.py:2164: UserWarning: `displot` is a figure-level function and does not accept the ax= paramter. You may wish to try histplot.\n",
            "  warnings.warn(msg, UserWarning)\n",
            "/usr/local/lib/python3.7/dist-packages/seaborn/distributions.py:2164: UserWarning: `displot` is a figure-level function and does not accept the ax= paramter. You may wish to try histplot.\n",
            "  warnings.warn(msg, UserWarning)\n"
          ],
          "name": "stderr"
        },
        {
          "output_type": "execute_result",
          "data": {
            "application/vnd.google.colaboratory.intrinsic+json": {
              "type": "string"
            },
            "text/plain": [
              "'\\n\\nComments and Observations:\\n\\nFrom the distribution, the inference is that there could be outliers that the model should handle. \\nap_hi, ap_lo, height, age, weight seems to be the best features to predict the \"cardio\" target from the distribution plots and correlation matrix.\\n\\n'"
            ]
          },
          "metadata": {
            "tags": []
          },
          "execution_count": 51
        },
        {
          "output_type": "display_data",
          "data": {
            "image/png": "[encoded data removed]",
            "text/plain": [
              "<Figure size 360x360 with 1 Axes>"
            ]
          },
          "metadata": {
            "tags": []
          }
        },
        {
          "output_type": "display_data",
          "data": {
            "image/png": "[encoded data removed]",
            "text/plain": [
              "<Figure size 360x360 with 1 Axes>"
            ]
          },
          "metadata": {
            "tags": []
          }
        },
        {
          "output_type": "display_data",
          "data": {
            "image/png": "[encoded data removed]",
            "text/plain": [
              "<Figure size 360x360 with 1 Axes>"
            ]
          },
          "metadata": {
            "tags": []
          }
        },
        {
          "output_type": "display_data",
          "data": {
            "image/png": "[encoded data removed]",
            "text/plain": [
              "<Figure size 360x360 with 1 Axes>"
            ]
          },
          "metadata": {
            "tags": []
          }
        },
        {
          "output_type": "display_data",
          "data": {
            "image/png": "[encoded data removed]",
            "text/plain": [
              "<Figure size 360x360 with 1 Axes>"
            ]
          },
          "metadata": {
            "tags": []
          }
        },
        {
          "output_type": "display_data",
          "data": {
            "image/png": "[encoded data removed]",
            "text/plain": [
              "<Figure size 360x360 with 1 Axes>"
            ]
          },
          "metadata": {
            "tags": []
          }
        },
        {
          "output_type": "display_data",
          "data": {
            "image/png": "[encoded data removed]",
            "text/plain": [
              "<Figure size 360x360 with 1 Axes>"
            ]
          },
          "metadata": {
            "tags": []
          }
        },
        {
          "output_type": "display_data",
          "data": {
            "image/png": "[encoded data removed]",
            "text/plain": [
              "<Figure size 360x360 with 1 Axes>"
            ]
          },
          "metadata": {
            "tags": []
          }
        },
        {
          "output_type": "display_data",
          "data": {
            "image/png": "[encoded data removed]",
            "text/plain": [
              "<Figure size 360x360 with 1 Axes>"
            ]
          },
          "metadata": {
            "tags": []
          }
        },
        {
          "output_type": "display_data",
          "data": {
            "image/png": "[encoded data removed]",
            "text/plain": [
              "<Figure size 360x360 with 1 Axes>"
            ]
          },
          "metadata": {
            "tags": []
          }
        },
        {
          "output_type": "display_data",
          "data": {
            "image/png": "[encoded data removed]",
            "text/plain": [
              "<Figure size 360x360 with 1 Axes>"
            ]
          },
          "metadata": {
            "tags": []
          }
        },
        {
          "output_type": "display_data",
          "data": {
            "image/png": "[encoded data removed]",
            "text/plain": [
              "<Figure size 360x360 with 1 Axes>"
            ]
          },
          "metadata": {
            "tags": []
          }
        }
      ]
    },
    {
      "cell_type": "code",
      "metadata": {
        "colab": {
          "base_uri": "https://localhost:8080/",
          "height": 53
        },
        "id": "5lWEhCDLwNB0",
        "outputId": "a6567157-b9d3-421a-e6d9-de2aaf38c513"
      },
      "source": [
        "\"\"\"\n",
        "Comments and Observations:\n",
        "\n",
        "From the visualizations created above, we could infer that age, ap_hi and ap_lo are best features to be considered for \"Cardio\" prediction.\n",
        "\n",
        "\"\"\""
      ],
      "execution_count": null,
      "outputs": [
        {
          "output_type": "execute_result",
          "data": {
            "application/vnd.google.colaboratory.intrinsic+json": {
              "type": "string"
            },
            "text/plain": [
              "'\\nComments and Observations:\\n\\nFrom the visualizations created above, we could infer that age, ap_hi and ap_lo are best features to be considered for \"Cardio\" prediction.\\n\\n'"
            ]
          },
          "metadata": {
            "tags": []
          },
          "execution_count": 51
        }
      ]
    },
    {
      "cell_type": "code",
      "metadata": {
        "colab": {
          "base_uri": "https://localhost:8080/"
        },
        "id": "HpYuKH53oHG9",
        "outputId": "2b4179b6-135c-479f-8a82-498c1b567c31"
      },
      "source": [
        "# Find Missing Values\n",
        "# ii) Get the count of missing values\n",
        "\n",
        "# Column-wise NaN count \n",
        "print(\"Total Nan per Columns\")\n",
        "print(cardio_train.isna().sum())\n",
        "\n",
        "print(\"\\nCount total NaN in a DataFrame : \\n\\n\", cardio_train.isnull().sum().sum()) \n"
      ],
      "execution_count": null,
      "outputs": [
        {
          "output_type": "stream",
          "text": [
            "Total Nan per Columns\n",
            "id               0\n",
            "age            165\n",
            "gender         171\n",
            "height         302\n",
            "weight         164\n",
            "ap_hi          153\n",
            "ap_lo          168\n",
            "cholesterol    167\n",
            "gluc           167\n",
            "smoke          174\n",
            "alco           165\n",
            "active         157\n",
            "cardio           0\n",
            "dtype: int64\n",
            "\n",
            "Count total NaN in a DataFrame : \n",
            "\n",
            " 1953\n"
          ],
          "name": "stdout"
        }
      ]
    },
    {
      "cell_type": "code",
      "metadata": {
        "colab": {
          "base_uri": "https://localhost:8080/",
          "height": 503
        },
        "id": "Vv6MHunxsoVl",
        "outputId": "c2a19e29-2901-4de0-c09e-cbc857f2699e"
      },
      "source": [
        "#i ii)Plot heatmap for missing values\n",
        "plt.figure(figsize=(12,8))\n",
        "sns.heatmap(cardio_train.isnull(), cbar=False)"
      ],
      "execution_count": null,
      "outputs": [
        {
          "output_type": "execute_result",
          "data": {
            "text/plain": [
              "<matplotlib.axes._subplots.AxesSubplot at 0x7f68530aee90>"
            ]
          },
          "metadata": {
            "tags": []
          },
          "execution_count": 53
        },
        {
          "output_type": "display_data",
          "data": {
            "image/png": "[encoded data removed]",
            "text/plain": [
              "<Figure size 864x576 with 1 Axes>"
            ]
          },
          "metadata": {
            "tags": []
          }
        }
      ]
    },
    {
      "cell_type": "code",
      "metadata": {
        "colab": {
          "base_uri": "https://localhost:8080/",
          "height": 318
        },
        "id": "TqGB7iAYv0D7",
        "outputId": "f17a889a-6d52-4e3f-bc31-edb31dfcd277"
      },
      "source": [
        "#Applying a different technique to handle missing values (For each technique verify your prediction results)\n",
        "#i) Use dropna\n",
        "\n",
        "cardio_train.dropna()"
      ],
      "execution_count": null,
      "outputs": [
        {
          "output_type": "execute_result",
          "data": {
            "text/html": [
              "<div>\n",
              "<style scoped>\n",
              "    .dataframe tbody tr th:only-of-type {\n",
              "        vertical-align: middle;\n",
              "    }\n",
              "\n",
              "    .dataframe tbody tr th {\n",
              "        vertical-align: top;\n",
              "    }\n",
              "\n",
              "    .dataframe thead th {\n",
              "        text-align: right;\n",
              "    }\n",
              "</style>\n",
              "<table border=\"1\" class=\"dataframe\">\n",
              "  <thead>\n",
              "    <tr style=\"text-align: right;\">\n",
              "      <th></th>\n",
              "      <th>id</th>\n",
              "      <th>age</th>\n",
              "      <th>gender</th>\n",
              "      <th>height</th>\n",
              "      <th>weight</th>\n",
              "      <th>ap_hi</th>\n",
              "      <th>ap_lo</th>\n",
              "      <th>cholesterol</th>\n",
              "      <th>gluc</th>\n",
              "      <th>smoke</th>\n",
              "      <th>alco</th>\n",
              "      <th>active</th>\n",
              "      <th>cardio</th>\n",
              "    </tr>\n",
              "  </thead>\n",
              "  <tbody>\n",
              "    <tr>\n",
              "      <th>90</th>\n",
              "      <td>25306</td>\n",
              "      <td>17500.0</td>\n",
              "      <td>Women</td>\n",
              "      <td>160.0</td>\n",
              "      <td>62.0</td>\n",
              "      <td>120.0</td>\n",
              "      <td>80.0</td>\n",
              "      <td>Normal</td>\n",
              "      <td>Normal</td>\n",
              "      <td>0.0</td>\n",
              "      <td>0.0</td>\n",
              "      <td>1.0</td>\n",
              "      <td>0</td>\n",
              "    </tr>\n",
              "    <tr>\n",
              "      <th>146</th>\n",
              "      <td>91154</td>\n",
              "      <td>19802.0</td>\n",
              "      <td>Men</td>\n",
              "      <td>162.0</td>\n",
              "      <td>72.0</td>\n",
              "      <td>120.0</td>\n",
              "      <td>80.0</td>\n",
              "      <td>Normal</td>\n",
              "      <td>Normal</td>\n",
              "      <td>0.0</td>\n",
              "      <td>0.0</td>\n",
              "      <td>1.0</td>\n",
              "      <td>1</td>\n",
              "    </tr>\n",
              "    <tr>\n",
              "      <th>166</th>\n",
              "      <td>69120</td>\n",
              "      <td>14553.0</td>\n",
              "      <td>Men</td>\n",
              "      <td>157.0</td>\n",
              "      <td>60.0</td>\n",
              "      <td>110.0</td>\n",
              "      <td>75.0</td>\n",
              "      <td>Normal</td>\n",
              "      <td>Above Normal</td>\n",
              "      <td>0.0</td>\n",
              "      <td>0.0</td>\n",
              "      <td>0.0</td>\n",
              "      <td>1</td>\n",
              "    </tr>\n",
              "    <tr>\n",
              "      <th>187</th>\n",
              "      <td>68932</td>\n",
              "      <td>20482.0</td>\n",
              "      <td>Women</td>\n",
              "      <td>169.0</td>\n",
              "      <td>64.0</td>\n",
              "      <td>120.0</td>\n",
              "      <td>80.0</td>\n",
              "      <td>Normal</td>\n",
              "      <td>Normal</td>\n",
              "      <td>0.0</td>\n",
              "      <td>0.0</td>\n",
              "      <td>1.0</td>\n",
              "      <td>0</td>\n",
              "    </tr>\n",
              "    <tr>\n",
              "      <th>200</th>\n",
              "      <td>48446</td>\n",
              "      <td>22359.0</td>\n",
              "      <td>Women</td>\n",
              "      <td>168.0</td>\n",
              "      <td>86.0</td>\n",
              "      <td>160.0</td>\n",
              "      <td>90.0</td>\n",
              "      <td>Above Normal</td>\n",
              "      <td>Normal</td>\n",
              "      <td>1.0</td>\n",
              "      <td>0.0</td>\n",
              "      <td>1.0</td>\n",
              "      <td>1</td>\n",
              "    </tr>\n",
              "    <tr>\n",
              "      <th>351</th>\n",
              "      <td>99244</td>\n",
              "      <td>21373.0</td>\n",
              "      <td>Men</td>\n",
              "      <td>171.0</td>\n",
              "      <td>75.0</td>\n",
              "      <td>150.0</td>\n",
              "      <td>90.0</td>\n",
              "      <td>Normal</td>\n",
              "      <td>Normal</td>\n",
              "      <td>0.0</td>\n",
              "      <td>0.0</td>\n",
              "      <td>0.0</td>\n",
              "      <td>1</td>\n",
              "    </tr>\n",
              "    <tr>\n",
              "      <th>453</th>\n",
              "      <td>84726</td>\n",
              "      <td>21933.0</td>\n",
              "      <td>Men</td>\n",
              "      <td>172.0</td>\n",
              "      <td>93.0</td>\n",
              "      <td>120.0</td>\n",
              "      <td>80.0</td>\n",
              "      <td>Normal</td>\n",
              "      <td>Normal</td>\n",
              "      <td>0.0</td>\n",
              "      <td>0.0</td>\n",
              "      <td>1.0</td>\n",
              "      <td>0</td>\n",
              "    </tr>\n",
              "  </tbody>\n",
              "</table>\n",
              "</div>"
            ],
            "text/plain": [
              "        id      age gender  height  ...  smoke  alco  active cardio\n",
              "90   25306  17500.0  Women   160.0  ...    0.0   0.0     1.0      0\n",
              "146  91154  19802.0    Men   162.0  ...    0.0   0.0     1.0      1\n",
              "166  69120  14553.0    Men   157.0  ...    0.0   0.0     0.0      1\n",
              "187  68932  20482.0  Women   169.0  ...    0.0   0.0     1.0      0\n",
              "200  48446  22359.0  Women   168.0  ...    1.0   0.0     1.0      1\n",
              "351  99244  21373.0    Men   171.0  ...    0.0   0.0     0.0      1\n",
              "453  84726  21933.0    Men   172.0  ...    0.0   0.0     1.0      0\n",
              "\n",
              "[7 rows x 13 columns]"
            ]
          },
          "metadata": {
            "tags": []
          },
          "execution_count": 54
        }
      ]
    },
    {
      "cell_type": "code",
      "metadata": {
        "colab": {
          "base_uri": "https://localhost:8080/",
          "height": 415
        },
        "id": "BNfUXH10wC6L",
        "outputId": "d2ea842a-4263-41cc-8de5-51575f15b380"
      },
      "source": [
        "#ii) Use replace NA with zero\n",
        "\n",
        "cardio_train.fillna(0)"
      ],
      "execution_count": null,
      "outputs": [
        {
          "output_type": "execute_result",
          "data": {
            "text/html": [
              "<div>\n",
              "<style scoped>\n",
              "    .dataframe tbody tr th:only-of-type {\n",
              "        vertical-align: middle;\n",
              "    }\n",
              "\n",
              "    .dataframe tbody tr th {\n",
              "        vertical-align: top;\n",
              "    }\n",
              "\n",
              "    .dataframe thead th {\n",
              "        text-align: right;\n",
              "    }\n",
              "</style>\n",
              "<table border=\"1\" class=\"dataframe\">\n",
              "  <thead>\n",
              "    <tr style=\"text-align: right;\">\n",
              "      <th></th>\n",
              "      <th>id</th>\n",
              "      <th>age</th>\n",
              "      <th>gender</th>\n",
              "      <th>height</th>\n",
              "      <th>weight</th>\n",
              "      <th>ap_hi</th>\n",
              "      <th>ap_lo</th>\n",
              "      <th>cholesterol</th>\n",
              "      <th>gluc</th>\n",
              "      <th>smoke</th>\n",
              "      <th>alco</th>\n",
              "      <th>active</th>\n",
              "      <th>cardio</th>\n",
              "    </tr>\n",
              "  </thead>\n",
              "  <tbody>\n",
              "    <tr>\n",
              "      <th>0</th>\n",
              "      <td>92150</td>\n",
              "      <td>20535.0</td>\n",
              "      <td>0</td>\n",
              "      <td>163.0</td>\n",
              "      <td>75.0</td>\n",
              "      <td>120.0</td>\n",
              "      <td>0.0</td>\n",
              "      <td>0</td>\n",
              "      <td>Normal</td>\n",
              "      <td>0.0</td>\n",
              "      <td>0.0</td>\n",
              "      <td>1.0</td>\n",
              "      <td>0</td>\n",
              "    </tr>\n",
              "    <tr>\n",
              "      <th>1</th>\n",
              "      <td>88880</td>\n",
              "      <td>16125.0</td>\n",
              "      <td>Men</td>\n",
              "      <td>168.0</td>\n",
              "      <td>68.0</td>\n",
              "      <td>110.0</td>\n",
              "      <td>70.0</td>\n",
              "      <td>0</td>\n",
              "      <td>0</td>\n",
              "      <td>0.0</td>\n",
              "      <td>0.0</td>\n",
              "      <td>0.0</td>\n",
              "      <td>0</td>\n",
              "    </tr>\n",
              "    <tr>\n",
              "      <th>2</th>\n",
              "      <td>10483</td>\n",
              "      <td>19761.0</td>\n",
              "      <td>0</td>\n",
              "      <td>170.0</td>\n",
              "      <td>75.0</td>\n",
              "      <td>120.0</td>\n",
              "      <td>0.0</td>\n",
              "      <td>0</td>\n",
              "      <td>Normal</td>\n",
              "      <td>0.0</td>\n",
              "      <td>0.0</td>\n",
              "      <td>1.0</td>\n",
              "      <td>1</td>\n",
              "    </tr>\n",
              "    <tr>\n",
              "      <th>3</th>\n",
              "      <td>22798</td>\n",
              "      <td>19035.0</td>\n",
              "      <td>Men</td>\n",
              "      <td>0.0</td>\n",
              "      <td>89.0</td>\n",
              "      <td>0.0</td>\n",
              "      <td>80.0</td>\n",
              "      <td>Normal</td>\n",
              "      <td>0</td>\n",
              "      <td>0.0</td>\n",
              "      <td>0.0</td>\n",
              "      <td>0.0</td>\n",
              "      <td>0</td>\n",
              "    </tr>\n",
              "    <tr>\n",
              "      <th>4</th>\n",
              "      <td>85542</td>\n",
              "      <td>0.0</td>\n",
              "      <td>0</td>\n",
              "      <td>158.0</td>\n",
              "      <td>74.0</td>\n",
              "      <td>0.0</td>\n",
              "      <td>93.0</td>\n",
              "      <td>High</td>\n",
              "      <td>0</td>\n",
              "      <td>0.0</td>\n",
              "      <td>1.0</td>\n",
              "      <td>1.0</td>\n",
              "      <td>1</td>\n",
              "    </tr>\n",
              "    <tr>\n",
              "      <th>...</th>\n",
              "      <td>...</td>\n",
              "      <td>...</td>\n",
              "      <td>...</td>\n",
              "      <td>...</td>\n",
              "      <td>...</td>\n",
              "      <td>...</td>\n",
              "      <td>...</td>\n",
              "      <td>...</td>\n",
              "      <td>...</td>\n",
              "      <td>...</td>\n",
              "      <td>...</td>\n",
              "      <td>...</td>\n",
              "      <td>...</td>\n",
              "    </tr>\n",
              "    <tr>\n",
              "      <th>495</th>\n",
              "      <td>74393</td>\n",
              "      <td>0.0</td>\n",
              "      <td>Women</td>\n",
              "      <td>174.0</td>\n",
              "      <td>73.0</td>\n",
              "      <td>130.0</td>\n",
              "      <td>0.0</td>\n",
              "      <td>0</td>\n",
              "      <td>Normal</td>\n",
              "      <td>0.0</td>\n",
              "      <td>0.0</td>\n",
              "      <td>1.0</td>\n",
              "      <td>1</td>\n",
              "    </tr>\n",
              "    <tr>\n",
              "      <th>496</th>\n",
              "      <td>38938</td>\n",
              "      <td>0.0</td>\n",
              "      <td>Men</td>\n",
              "      <td>0.0</td>\n",
              "      <td>89.0</td>\n",
              "      <td>130.0</td>\n",
              "      <td>0.0</td>\n",
              "      <td>High</td>\n",
              "      <td>Normal</td>\n",
              "      <td>0.0</td>\n",
              "      <td>0.0</td>\n",
              "      <td>0.0</td>\n",
              "      <td>1</td>\n",
              "    </tr>\n",
              "    <tr>\n",
              "      <th>497</th>\n",
              "      <td>9037</td>\n",
              "      <td>0.0</td>\n",
              "      <td>Women</td>\n",
              "      <td>180.0</td>\n",
              "      <td>84.0</td>\n",
              "      <td>0.0</td>\n",
              "      <td>0.0</td>\n",
              "      <td>Normal</td>\n",
              "      <td>Above Normal</td>\n",
              "      <td>1.0</td>\n",
              "      <td>0.0</td>\n",
              "      <td>1.0</td>\n",
              "      <td>0</td>\n",
              "    </tr>\n",
              "    <tr>\n",
              "      <th>498</th>\n",
              "      <td>27539</td>\n",
              "      <td>0.0</td>\n",
              "      <td>Women</td>\n",
              "      <td>0.0</td>\n",
              "      <td>0.0</td>\n",
              "      <td>110.0</td>\n",
              "      <td>70.0</td>\n",
              "      <td>0</td>\n",
              "      <td>0</td>\n",
              "      <td>0.0</td>\n",
              "      <td>0.0</td>\n",
              "      <td>1.0</td>\n",
              "      <td>0</td>\n",
              "    </tr>\n",
              "    <tr>\n",
              "      <th>499</th>\n",
              "      <td>13409</td>\n",
              "      <td>16698.0</td>\n",
              "      <td>Men</td>\n",
              "      <td>0.0</td>\n",
              "      <td>59.0</td>\n",
              "      <td>0.0</td>\n",
              "      <td>0.0</td>\n",
              "      <td>Normal</td>\n",
              "      <td>Normal</td>\n",
              "      <td>0.0</td>\n",
              "      <td>0.0</td>\n",
              "      <td>1.0</td>\n",
              "      <td>0</td>\n",
              "    </tr>\n",
              "  </tbody>\n",
              "</table>\n",
              "<p>500 rows × 13 columns</p>\n",
              "</div>"
            ],
            "text/plain": [
              "        id      age gender  height  ...  smoke  alco  active cardio\n",
              "0    92150  20535.0      0   163.0  ...    0.0   0.0     1.0      0\n",
              "1    88880  16125.0    Men   168.0  ...    0.0   0.0     0.0      0\n",
              "2    10483  19761.0      0   170.0  ...    0.0   0.0     1.0      1\n",
              "3    22798  19035.0    Men     0.0  ...    0.0   0.0     0.0      0\n",
              "4    85542      0.0      0   158.0  ...    0.0   1.0     1.0      1\n",
              "..     ...      ...    ...     ...  ...    ...   ...     ...    ...\n",
              "495  74393      0.0  Women   174.0  ...    0.0   0.0     1.0      1\n",
              "496  38938      0.0    Men     0.0  ...    0.0   0.0     0.0      1\n",
              "497   9037      0.0  Women   180.0  ...    1.0   0.0     1.0      0\n",
              "498  27539      0.0  Women     0.0  ...    0.0   0.0     1.0      0\n",
              "499  13409  16698.0    Men     0.0  ...    0.0   0.0     1.0      0\n",
              "\n",
              "[500 rows x 13 columns]"
            ]
          },
          "metadata": {
            "tags": []
          },
          "execution_count": 54
        }
      ]
    },
    {
      "cell_type": "code",
      "metadata": {
        "colab": {
          "base_uri": "https://localhost:8080/"
        },
        "id": "j5j-euR_wisY",
        "outputId": "17ae22e3-3534-4da8-93f7-1a8610ab7ab4"
      },
      "source": [
        "#j) ii) Use replace NA with Max Value\n",
        "# Original Data\n",
        "print(cardio_train.fillna(cardio_train.max()))\n",
        "\n",
        "# Imputed Data\n",
        "print(cardio_temp.fillna(cardio_temp.max()))\n",
        "\n",
        "# Comments:\n",
        "# Filling NaN with Max values is applicable only for numerical data, not for categorical data.\n"
      ],
      "execution_count": null,
      "outputs": [
        {
          "output_type": "stream",
          "text": [
            "        id      age gender  height  ...  smoke  alco  active cardio\n",
            "0    92150  20535.0    NaN   163.0  ...    0.0   0.0     1.0      0\n",
            "1    88880  16125.0    Men   168.0  ...    0.0   0.0     1.0      0\n",
            "2    10483  19761.0    NaN   170.0  ...    0.0   0.0     1.0      1\n",
            "3    22798  19035.0    Men   187.0  ...    0.0   1.0     1.0      0\n",
            "4    85542  23479.0    NaN   158.0  ...    0.0   1.0     1.0      1\n",
            "..     ...      ...    ...     ...  ...    ...   ...     ...    ...\n",
            "495  74393  23479.0  Women   174.0  ...    0.0   0.0     1.0      1\n",
            "496  38938  23479.0    Men   187.0  ...    0.0   0.0     1.0      1\n",
            "497   9037  23479.0  Women   180.0  ...    1.0   0.0     1.0      0\n",
            "498  27539  23479.0  Women   187.0  ...    1.0   0.0     1.0      0\n",
            "499  13409  16698.0    Men   187.0  ...    1.0   0.0     1.0      0\n",
            "\n",
            "[500 rows x 13 columns]\n",
            "        id      age  gender  height  weight  ...  gluc  smoke  alco  active  cardio\n",
            "0    92150  20535.0       0   163.0    75.0  ...     2    0.0   0.0     1.0       0\n",
            "1    88880  16125.0       0   168.0    68.0  ...     2    0.0   0.0     1.0       0\n",
            "2    10483  19761.0       0   170.0    75.0  ...     2    0.0   0.0     1.0       1\n",
            "3    22798  19035.0       0   187.0    89.0  ...     2    0.0   1.0     1.0       0\n",
            "4    85542  23479.0       0   158.0    74.0  ...     2    0.0   1.0     1.0       1\n",
            "..     ...      ...     ...     ...     ...  ...   ...    ...   ...     ...     ...\n",
            "495  74393  23479.0       1   174.0    73.0  ...     2    0.0   0.0     1.0       1\n",
            "496  38938  23479.0       0   187.0    89.0  ...     2    0.0   0.0     1.0       1\n",
            "497   9037  23479.0       1   180.0    84.0  ...     0    1.0   0.0     1.0       0\n",
            "498  27539  23479.0       1   187.0   155.0  ...     2    1.0   0.0     1.0       0\n",
            "499  13409  16698.0       0   187.0    59.0  ...     2    1.0   0.0     1.0       0\n",
            "\n",
            "[500 rows x 13 columns]\n"
          ],
          "name": "stdout"
        }
      ]
    },
    {
      "cell_type": "code",
      "metadata": {
        "colab": {
          "base_uri": "https://localhost:8080/"
        },
        "id": "Y2vVsmSxxMem",
        "outputId": "eceeb262-5ec0-4654-adf2-a707fd4fb090"
      },
      "source": [
        "#j) iii) Use replace NA with mean\n",
        "#Original Data\n",
        "print(cardio_train.fillna(cardio_train.mean()))\n",
        "\n",
        "#Imputed Data\n",
        "print(cardio_temp.fillna(cardio_temp.mean()))\n",
        "#Comments:\n",
        "#Filling NaN with mean values is applicable only for numerical data, not for categorical data.\n"
      ],
      "execution_count": null,
      "outputs": [
        {
          "output_type": "stream",
          "text": [
            "        id           age gender  ...      alco    active  cardio\n",
            "0    92150  20535.000000    NaN  ...  0.000000  1.000000       0\n",
            "1    88880  16125.000000    Men  ...  0.000000  0.813411       0\n",
            "2    10483  19761.000000    NaN  ...  0.000000  1.000000       1\n",
            "3    22798  19035.000000    Men  ...  0.065672  0.813411       0\n",
            "4    85542  19490.886567    NaN  ...  1.000000  1.000000       1\n",
            "..     ...           ...    ...  ...       ...       ...     ...\n",
            "495  74393  19490.886567  Women  ...  0.000000  1.000000       1\n",
            "496  38938  19490.886567    Men  ...  0.000000  0.813411       1\n",
            "497   9037  19490.886567  Women  ...  0.000000  1.000000       0\n",
            "498  27539  19490.886567  Women  ...  0.000000  1.000000       0\n",
            "499  13409  16698.000000    Men  ...  0.000000  1.000000       0\n",
            "\n",
            "[500 rows x 13 columns]\n",
            "        id           age  gender  ...      alco    active  cardio\n",
            "0    92150  20535.000000       0  ...  0.000000  1.000000       0\n",
            "1    88880  16125.000000       0  ...  0.000000  0.813411       0\n",
            "2    10483  19761.000000       0  ...  0.000000  1.000000       1\n",
            "3    22798  19035.000000       0  ...  0.065672  0.813411       0\n",
            "4    85542  19490.886567       0  ...  1.000000  1.000000       1\n",
            "..     ...           ...     ...  ...       ...       ...     ...\n",
            "495  74393  19490.886567       1  ...  0.000000  1.000000       1\n",
            "496  38938  19490.886567       0  ...  0.000000  0.813411       1\n",
            "497   9037  19490.886567       1  ...  0.000000  1.000000       0\n",
            "498  27539  19490.886567       1  ...  0.000000  1.000000       0\n",
            "499  13409  16698.000000       0  ...  0.000000  1.000000       0\n",
            "\n",
            "[500 rows x 13 columns]\n"
          ],
          "name": "stdout"
        }
      ]
    },
    {
      "cell_type": "code",
      "metadata": {
        "colab": {
          "base_uri": "https://localhost:8080/",
          "height": 415
        },
        "id": "cUiIyGZSzl1b",
        "outputId": "72648708-31cd-4994-d13a-1ab1d1da2d98"
      },
      "source": [
        "#j) iv. Search for additional techniques to handle null values, excluding the above three and test. (Include all the techniques that you used in your report.)\n",
        "\n",
        "#Replacement Strategy 1\n",
        "#Using median\n",
        "\n",
        "cardio_temp = cardio_train.copy(deep=True)\n",
        "cholesterol_mode = cardio_temp[\"cholesterol\"].mode()\n",
        "gluc_mode = cardio_temp[\"gluc\"].mode()\n",
        "gender_mode = cardio_temp[\"gender\"].mode()\n",
        "\n",
        "cardio_temp['cholesterol']= cardio_temp['cholesterol'].replace(np.nan, cholesterol_mode.iat[0])\n",
        "cardio_temp['gluc']= cardio_temp['gluc'].replace(np.nan, gluc_mode.iat[0])\n",
        "cardio_temp['gender']= cardio_temp['gender'].replace(np.nan, gender_mode.iat[0])\n",
        "\n",
        "label_encoder_x = LabelEncoder()\n",
        "cardio_temp[\"cholesterol\"] = label_encoder_x.fit_transform(cardio_temp[\"cholesterol\"])\n",
        "cardio_temp[\"gluc\"] = label_encoder_x.fit_transform(cardio_temp[\"gluc\"])\n",
        "cardio_temp[\"gender\"] = label_encoder_x.fit_transform(cardio_temp[\"gender\"])\n",
        "\n",
        "cardio_temp.fillna(cardio_temp.median())"
      ],
      "execution_count": null,
      "outputs": [
        {
          "output_type": "execute_result",
          "data": {
            "text/html": [
              "<div>\n",
              "<style scoped>\n",
              "    .dataframe tbody tr th:only-of-type {\n",
              "        vertical-align: middle;\n",
              "    }\n",
              "\n",
              "    .dataframe tbody tr th {\n",
              "        vertical-align: top;\n",
              "    }\n",
              "\n",
              "    .dataframe thead th {\n",
              "        text-align: right;\n",
              "    }\n",
              "</style>\n",
              "<table border=\"1\" class=\"dataframe\">\n",
              "  <thead>\n",
              "    <tr style=\"text-align: right;\">\n",
              "      <th></th>\n",
              "      <th>id</th>\n",
              "      <th>age</th>\n",
              "      <th>gender</th>\n",
              "      <th>height</th>\n",
              "      <th>weight</th>\n",
              "      <th>ap_hi</th>\n",
              "      <th>ap_lo</th>\n",
              "      <th>cholesterol</th>\n",
              "      <th>gluc</th>\n",
              "      <th>smoke</th>\n",
              "      <th>alco</th>\n",
              "      <th>active</th>\n",
              "      <th>cardio</th>\n",
              "    </tr>\n",
              "  </thead>\n",
              "  <tbody>\n",
              "    <tr>\n",
              "      <th>0</th>\n",
              "      <td>92150</td>\n",
              "      <td>20535.0</td>\n",
              "      <td>0</td>\n",
              "      <td>163.0</td>\n",
              "      <td>75.0</td>\n",
              "      <td>120.0</td>\n",
              "      <td>80.0</td>\n",
              "      <td>2</td>\n",
              "      <td>2</td>\n",
              "      <td>0.0</td>\n",
              "      <td>0.0</td>\n",
              "      <td>1.0</td>\n",
              "      <td>0</td>\n",
              "    </tr>\n",
              "    <tr>\n",
              "      <th>1</th>\n",
              "      <td>88880</td>\n",
              "      <td>16125.0</td>\n",
              "      <td>0</td>\n",
              "      <td>168.0</td>\n",
              "      <td>68.0</td>\n",
              "      <td>110.0</td>\n",
              "      <td>70.0</td>\n",
              "      <td>2</td>\n",
              "      <td>2</td>\n",
              "      <td>0.0</td>\n",
              "      <td>0.0</td>\n",
              "      <td>1.0</td>\n",
              "      <td>0</td>\n",
              "    </tr>\n",
              "    <tr>\n",
              "      <th>2</th>\n",
              "      <td>10483</td>\n",
              "      <td>19761.0</td>\n",
              "      <td>0</td>\n",
              "      <td>170.0</td>\n",
              "      <td>75.0</td>\n",
              "      <td>120.0</td>\n",
              "      <td>80.0</td>\n",
              "      <td>2</td>\n",
              "      <td>2</td>\n",
              "      <td>0.0</td>\n",
              "      <td>0.0</td>\n",
              "      <td>1.0</td>\n",
              "      <td>1</td>\n",
              "    </tr>\n",
              "    <tr>\n",
              "      <th>3</th>\n",
              "      <td>22798</td>\n",
              "      <td>19035.0</td>\n",
              "      <td>0</td>\n",
              "      <td>165.0</td>\n",
              "      <td>89.0</td>\n",
              "      <td>120.0</td>\n",
              "      <td>80.0</td>\n",
              "      <td>2</td>\n",
              "      <td>2</td>\n",
              "      <td>0.0</td>\n",
              "      <td>0.0</td>\n",
              "      <td>1.0</td>\n",
              "      <td>0</td>\n",
              "    </tr>\n",
              "    <tr>\n",
              "      <th>4</th>\n",
              "      <td>85542</td>\n",
              "      <td>19719.0</td>\n",
              "      <td>0</td>\n",
              "      <td>158.0</td>\n",
              "      <td>74.0</td>\n",
              "      <td>120.0</td>\n",
              "      <td>93.0</td>\n",
              "      <td>1</td>\n",
              "      <td>2</td>\n",
              "      <td>0.0</td>\n",
              "      <td>1.0</td>\n",
              "      <td>1.0</td>\n",
              "      <td>1</td>\n",
              "    </tr>\n",
              "    <tr>\n",
              "      <th>...</th>\n",
              "      <td>...</td>\n",
              "      <td>...</td>\n",
              "      <td>...</td>\n",
              "      <td>...</td>\n",
              "      <td>...</td>\n",
              "      <td>...</td>\n",
              "      <td>...</td>\n",
              "      <td>...</td>\n",
              "      <td>...</td>\n",
              "      <td>...</td>\n",
              "      <td>...</td>\n",
              "      <td>...</td>\n",
              "      <td>...</td>\n",
              "    </tr>\n",
              "    <tr>\n",
              "      <th>495</th>\n",
              "      <td>74393</td>\n",
              "      <td>19719.0</td>\n",
              "      <td>1</td>\n",
              "      <td>174.0</td>\n",
              "      <td>73.0</td>\n",
              "      <td>130.0</td>\n",
              "      <td>80.0</td>\n",
              "      <td>2</td>\n",
              "      <td>2</td>\n",
              "      <td>0.0</td>\n",
              "      <td>0.0</td>\n",
              "      <td>1.0</td>\n",
              "      <td>1</td>\n",
              "    </tr>\n",
              "    <tr>\n",
              "      <th>496</th>\n",
              "      <td>38938</td>\n",
              "      <td>19719.0</td>\n",
              "      <td>0</td>\n",
              "      <td>165.0</td>\n",
              "      <td>89.0</td>\n",
              "      <td>130.0</td>\n",
              "      <td>80.0</td>\n",
              "      <td>1</td>\n",
              "      <td>2</td>\n",
              "      <td>0.0</td>\n",
              "      <td>0.0</td>\n",
              "      <td>1.0</td>\n",
              "      <td>1</td>\n",
              "    </tr>\n",
              "    <tr>\n",
              "      <th>497</th>\n",
              "      <td>9037</td>\n",
              "      <td>19719.0</td>\n",
              "      <td>1</td>\n",
              "      <td>180.0</td>\n",
              "      <td>84.0</td>\n",
              "      <td>120.0</td>\n",
              "      <td>80.0</td>\n",
              "      <td>2</td>\n",
              "      <td>0</td>\n",
              "      <td>1.0</td>\n",
              "      <td>0.0</td>\n",
              "      <td>1.0</td>\n",
              "      <td>0</td>\n",
              "    </tr>\n",
              "    <tr>\n",
              "      <th>498</th>\n",
              "      <td>27539</td>\n",
              "      <td>19719.0</td>\n",
              "      <td>1</td>\n",
              "      <td>165.0</td>\n",
              "      <td>72.0</td>\n",
              "      <td>110.0</td>\n",
              "      <td>70.0</td>\n",
              "      <td>2</td>\n",
              "      <td>2</td>\n",
              "      <td>0.0</td>\n",
              "      <td>0.0</td>\n",
              "      <td>1.0</td>\n",
              "      <td>0</td>\n",
              "    </tr>\n",
              "    <tr>\n",
              "      <th>499</th>\n",
              "      <td>13409</td>\n",
              "      <td>16698.0</td>\n",
              "      <td>0</td>\n",
              "      <td>165.0</td>\n",
              "      <td>59.0</td>\n",
              "      <td>120.0</td>\n",
              "      <td>80.0</td>\n",
              "      <td>2</td>\n",
              "      <td>2</td>\n",
              "      <td>0.0</td>\n",
              "      <td>0.0</td>\n",
              "      <td>1.0</td>\n",
              "      <td>0</td>\n",
              "    </tr>\n",
              "  </tbody>\n",
              "</table>\n",
              "<p>500 rows × 13 columns</p>\n",
              "</div>"
            ],
            "text/plain": [
              "        id      age  gender  height  weight  ...  gluc  smoke  alco  active  cardio\n",
              "0    92150  20535.0       0   163.0    75.0  ...     2    0.0   0.0     1.0       0\n",
              "1    88880  16125.0       0   168.0    68.0  ...     2    0.0   0.0     1.0       0\n",
              "2    10483  19761.0       0   170.0    75.0  ...     2    0.0   0.0     1.0       1\n",
              "3    22798  19035.0       0   165.0    89.0  ...     2    0.0   0.0     1.0       0\n",
              "4    85542  19719.0       0   158.0    74.0  ...     2    0.0   1.0     1.0       1\n",
              "..     ...      ...     ...     ...     ...  ...   ...    ...   ...     ...     ...\n",
              "495  74393  19719.0       1   174.0    73.0  ...     2    0.0   0.0     1.0       1\n",
              "496  38938  19719.0       0   165.0    89.0  ...     2    0.0   0.0     1.0       1\n",
              "497   9037  19719.0       1   180.0    84.0  ...     0    1.0   0.0     1.0       0\n",
              "498  27539  19719.0       1   165.0    72.0  ...     2    0.0   0.0     1.0       0\n",
              "499  13409  16698.0       0   165.0    59.0  ...     2    0.0   0.0     1.0       0\n",
              "\n",
              "[500 rows x 13 columns]"
            ]
          },
          "metadata": {
            "tags": []
          },
          "execution_count": 58
        }
      ]
    },
    {
      "cell_type": "code",
      "metadata": {
        "colab": {
          "base_uri": "https://localhost:8080/",
          "height": 415
        },
        "id": "gcmFylVV2Cai",
        "outputId": "3f676fe3-efeb-4db6-c899-f87463e8e195"
      },
      "source": [
        "#Replacement Strategy 2\n",
        "#Using mode\n",
        "cardio_temp1 = cardio_temp.copy(deep=True)\n",
        "for column in cardio_temp1.columns:\n",
        "    cardio_temp1[column].fillna(cardio_temp1[column].mode()[0], inplace=True)\n",
        "cardio_temp1"
      ],
      "execution_count": null,
      "outputs": [
        {
          "output_type": "execute_result",
          "data": {
            "text/html": [
              "<div>\n",
              "<style scoped>\n",
              "    .dataframe tbody tr th:only-of-type {\n",
              "        vertical-align: middle;\n",
              "    }\n",
              "\n",
              "    .dataframe tbody tr th {\n",
              "        vertical-align: top;\n",
              "    }\n",
              "\n",
              "    .dataframe thead th {\n",
              "        text-align: right;\n",
              "    }\n",
              "</style>\n",
              "<table border=\"1\" class=\"dataframe\">\n",
              "  <thead>\n",
              "    <tr style=\"text-align: right;\">\n",
              "      <th></th>\n",
              "      <th>id</th>\n",
              "      <th>age</th>\n",
              "      <th>gender</th>\n",
              "      <th>height</th>\n",
              "      <th>weight</th>\n",
              "      <th>ap_hi</th>\n",
              "      <th>ap_lo</th>\n",
              "      <th>cholesterol</th>\n",
              "      <th>gluc</th>\n",
              "      <th>smoke</th>\n",
              "      <th>alco</th>\n",
              "      <th>active</th>\n",
              "      <th>cardio</th>\n",
              "    </tr>\n",
              "  </thead>\n",
              "  <tbody>\n",
              "    <tr>\n",
              "      <th>0</th>\n",
              "      <td>92150</td>\n",
              "      <td>20535.0</td>\n",
              "      <td>0</td>\n",
              "      <td>163.0</td>\n",
              "      <td>75.0</td>\n",
              "      <td>120.0</td>\n",
              "      <td>80.0</td>\n",
              "      <td>2</td>\n",
              "      <td>2</td>\n",
              "      <td>0.0</td>\n",
              "      <td>0.0</td>\n",
              "      <td>1.0</td>\n",
              "      <td>0</td>\n",
              "    </tr>\n",
              "    <tr>\n",
              "      <th>1</th>\n",
              "      <td>88880</td>\n",
              "      <td>16125.0</td>\n",
              "      <td>0</td>\n",
              "      <td>168.0</td>\n",
              "      <td>68.0</td>\n",
              "      <td>110.0</td>\n",
              "      <td>70.0</td>\n",
              "      <td>2</td>\n",
              "      <td>2</td>\n",
              "      <td>0.0</td>\n",
              "      <td>0.0</td>\n",
              "      <td>1.0</td>\n",
              "      <td>0</td>\n",
              "    </tr>\n",
              "    <tr>\n",
              "      <th>2</th>\n",
              "      <td>10483</td>\n",
              "      <td>19761.0</td>\n",
              "      <td>0</td>\n",
              "      <td>170.0</td>\n",
              "      <td>75.0</td>\n",
              "      <td>120.0</td>\n",
              "      <td>80.0</td>\n",
              "      <td>2</td>\n",
              "      <td>2</td>\n",
              "      <td>0.0</td>\n",
              "      <td>0.0</td>\n",
              "      <td>1.0</td>\n",
              "      <td>1</td>\n",
              "    </tr>\n",
              "    <tr>\n",
              "      <th>3</th>\n",
              "      <td>22798</td>\n",
              "      <td>19035.0</td>\n",
              "      <td>0</td>\n",
              "      <td>165.0</td>\n",
              "      <td>89.0</td>\n",
              "      <td>120.0</td>\n",
              "      <td>80.0</td>\n",
              "      <td>2</td>\n",
              "      <td>2</td>\n",
              "      <td>0.0</td>\n",
              "      <td>0.0</td>\n",
              "      <td>1.0</td>\n",
              "      <td>0</td>\n",
              "    </tr>\n",
              "    <tr>\n",
              "      <th>4</th>\n",
              "      <td>85542</td>\n",
              "      <td>17582.0</td>\n",
              "      <td>0</td>\n",
              "      <td>158.0</td>\n",
              "      <td>74.0</td>\n",
              "      <td>120.0</td>\n",
              "      <td>93.0</td>\n",
              "      <td>1</td>\n",
              "      <td>2</td>\n",
              "      <td>0.0</td>\n",
              "      <td>1.0</td>\n",
              "      <td>1.0</td>\n",
              "      <td>1</td>\n",
              "    </tr>\n",
              "    <tr>\n",
              "      <th>...</th>\n",
              "      <td>...</td>\n",
              "      <td>...</td>\n",
              "      <td>...</td>\n",
              "      <td>...</td>\n",
              "      <td>...</td>\n",
              "      <td>...</td>\n",
              "      <td>...</td>\n",
              "      <td>...</td>\n",
              "      <td>...</td>\n",
              "      <td>...</td>\n",
              "      <td>...</td>\n",
              "      <td>...</td>\n",
              "      <td>...</td>\n",
              "    </tr>\n",
              "    <tr>\n",
              "      <th>495</th>\n",
              "      <td>74393</td>\n",
              "      <td>17582.0</td>\n",
              "      <td>1</td>\n",
              "      <td>174.0</td>\n",
              "      <td>73.0</td>\n",
              "      <td>130.0</td>\n",
              "      <td>80.0</td>\n",
              "      <td>2</td>\n",
              "      <td>2</td>\n",
              "      <td>0.0</td>\n",
              "      <td>0.0</td>\n",
              "      <td>1.0</td>\n",
              "      <td>1</td>\n",
              "    </tr>\n",
              "    <tr>\n",
              "      <th>496</th>\n",
              "      <td>38938</td>\n",
              "      <td>17582.0</td>\n",
              "      <td>0</td>\n",
              "      <td>165.0</td>\n",
              "      <td>89.0</td>\n",
              "      <td>130.0</td>\n",
              "      <td>80.0</td>\n",
              "      <td>1</td>\n",
              "      <td>2</td>\n",
              "      <td>0.0</td>\n",
              "      <td>0.0</td>\n",
              "      <td>1.0</td>\n",
              "      <td>1</td>\n",
              "    </tr>\n",
              "    <tr>\n",
              "      <th>497</th>\n",
              "      <td>9037</td>\n",
              "      <td>17582.0</td>\n",
              "      <td>1</td>\n",
              "      <td>180.0</td>\n",
              "      <td>84.0</td>\n",
              "      <td>120.0</td>\n",
              "      <td>80.0</td>\n",
              "      <td>2</td>\n",
              "      <td>0</td>\n",
              "      <td>1.0</td>\n",
              "      <td>0.0</td>\n",
              "      <td>1.0</td>\n",
              "      <td>0</td>\n",
              "    </tr>\n",
              "    <tr>\n",
              "      <th>498</th>\n",
              "      <td>27539</td>\n",
              "      <td>17582.0</td>\n",
              "      <td>1</td>\n",
              "      <td>165.0</td>\n",
              "      <td>78.0</td>\n",
              "      <td>110.0</td>\n",
              "      <td>70.0</td>\n",
              "      <td>2</td>\n",
              "      <td>2</td>\n",
              "      <td>0.0</td>\n",
              "      <td>0.0</td>\n",
              "      <td>1.0</td>\n",
              "      <td>0</td>\n",
              "    </tr>\n",
              "    <tr>\n",
              "      <th>499</th>\n",
              "      <td>13409</td>\n",
              "      <td>16698.0</td>\n",
              "      <td>0</td>\n",
              "      <td>165.0</td>\n",
              "      <td>59.0</td>\n",
              "      <td>120.0</td>\n",
              "      <td>80.0</td>\n",
              "      <td>2</td>\n",
              "      <td>2</td>\n",
              "      <td>0.0</td>\n",
              "      <td>0.0</td>\n",
              "      <td>1.0</td>\n",
              "      <td>0</td>\n",
              "    </tr>\n",
              "  </tbody>\n",
              "</table>\n",
              "<p>500 rows × 13 columns</p>\n",
              "</div>"
            ],
            "text/plain": [
              "        id      age  gender  height  weight  ...  gluc  smoke  alco  active  cardio\n",
              "0    92150  20535.0       0   163.0    75.0  ...     2    0.0   0.0     1.0       0\n",
              "1    88880  16125.0       0   168.0    68.0  ...     2    0.0   0.0     1.0       0\n",
              "2    10483  19761.0       0   170.0    75.0  ...     2    0.0   0.0     1.0       1\n",
              "3    22798  19035.0       0   165.0    89.0  ...     2    0.0   0.0     1.0       0\n",
              "4    85542  17582.0       0   158.0    74.0  ...     2    0.0   1.0     1.0       1\n",
              "..     ...      ...     ...     ...     ...  ...   ...    ...   ...     ...     ...\n",
              "495  74393  17582.0       1   174.0    73.0  ...     2    0.0   0.0     1.0       1\n",
              "496  38938  17582.0       0   165.0    89.0  ...     2    0.0   0.0     1.0       1\n",
              "497   9037  17582.0       1   180.0    84.0  ...     0    1.0   0.0     1.0       0\n",
              "498  27539  17582.0       1   165.0    78.0  ...     2    0.0   0.0     1.0       0\n",
              "499  13409  16698.0       0   165.0    59.0  ...     2    0.0   0.0     1.0       0\n",
              "\n",
              "[500 rows x 13 columns]"
            ]
          },
          "metadata": {
            "tags": []
          },
          "execution_count": 59
        }
      ]
    },
    {
      "cell_type": "code",
      "metadata": {
        "colab": {
          "base_uri": "https://localhost:8080/",
          "height": 415
        },
        "id": "kowJO1XF2E3u",
        "outputId": "274a3e79-a93d-45b4-de39-ec9da19ef993"
      },
      "source": [
        "#Replacement Strategy 3\n",
        "#Using KNN Imputer\n",
        "imputer = KNNImputer(n_neighbors=2)\n",
        "df_filled = imputer.fit_transform(cardio_temp)\n",
        "pd.DataFrame(df_filled, index=cardio_temp.index, columns=cardio_temp.columns)\n"
      ],
      "execution_count": null,
      "outputs": [
        {
          "output_type": "execute_result",
          "data": {
            "text/html": [
              "<div>\n",
              "<style scoped>\n",
              "    .dataframe tbody tr th:only-of-type {\n",
              "        vertical-align: middle;\n",
              "    }\n",
              "\n",
              "    .dataframe tbody tr th {\n",
              "        vertical-align: top;\n",
              "    }\n",
              "\n",
              "    .dataframe thead th {\n",
              "        text-align: right;\n",
              "    }\n",
              "</style>\n",
              "<table border=\"1\" class=\"dataframe\">\n",
              "  <thead>\n",
              "    <tr style=\"text-align: right;\">\n",
              "      <th></th>\n",
              "      <th>id</th>\n",
              "      <th>age</th>\n",
              "      <th>gender</th>\n",
              "      <th>height</th>\n",
              "      <th>weight</th>\n",
              "      <th>ap_hi</th>\n",
              "      <th>ap_lo</th>\n",
              "      <th>cholesterol</th>\n",
              "      <th>gluc</th>\n",
              "      <th>smoke</th>\n",
              "      <th>alco</th>\n",
              "      <th>active</th>\n",
              "      <th>cardio</th>\n",
              "    </tr>\n",
              "  </thead>\n",
              "  <tbody>\n",
              "    <tr>\n",
              "      <th>0</th>\n",
              "      <td>92150.0</td>\n",
              "      <td>20535.0</td>\n",
              "      <td>0.0</td>\n",
              "      <td>163.0</td>\n",
              "      <td>75.0</td>\n",
              "      <td>120.0</td>\n",
              "      <td>80.0</td>\n",
              "      <td>2.0</td>\n",
              "      <td>2.0</td>\n",
              "      <td>0.0</td>\n",
              "      <td>0.0</td>\n",
              "      <td>1.0</td>\n",
              "      <td>0.0</td>\n",
              "    </tr>\n",
              "    <tr>\n",
              "      <th>1</th>\n",
              "      <td>88880.0</td>\n",
              "      <td>16125.0</td>\n",
              "      <td>0.0</td>\n",
              "      <td>168.0</td>\n",
              "      <td>68.0</td>\n",
              "      <td>110.0</td>\n",
              "      <td>70.0</td>\n",
              "      <td>2.0</td>\n",
              "      <td>2.0</td>\n",
              "      <td>0.0</td>\n",
              "      <td>0.0</td>\n",
              "      <td>1.0</td>\n",
              "      <td>0.0</td>\n",
              "    </tr>\n",
              "    <tr>\n",
              "      <th>2</th>\n",
              "      <td>10483.0</td>\n",
              "      <td>19761.0</td>\n",
              "      <td>0.0</td>\n",
              "      <td>170.0</td>\n",
              "      <td>75.0</td>\n",
              "      <td>120.0</td>\n",
              "      <td>85.0</td>\n",
              "      <td>2.0</td>\n",
              "      <td>2.0</td>\n",
              "      <td>0.0</td>\n",
              "      <td>0.0</td>\n",
              "      <td>1.0</td>\n",
              "      <td>1.0</td>\n",
              "    </tr>\n",
              "    <tr>\n",
              "      <th>3</th>\n",
              "      <td>22798.0</td>\n",
              "      <td>19035.0</td>\n",
              "      <td>0.0</td>\n",
              "      <td>155.0</td>\n",
              "      <td>89.0</td>\n",
              "      <td>115.0</td>\n",
              "      <td>80.0</td>\n",
              "      <td>2.0</td>\n",
              "      <td>2.0</td>\n",
              "      <td>0.0</td>\n",
              "      <td>0.0</td>\n",
              "      <td>0.5</td>\n",
              "      <td>0.0</td>\n",
              "    </tr>\n",
              "    <tr>\n",
              "      <th>4</th>\n",
              "      <td>85542.0</td>\n",
              "      <td>20847.0</td>\n",
              "      <td>0.0</td>\n",
              "      <td>158.0</td>\n",
              "      <td>74.0</td>\n",
              "      <td>130.0</td>\n",
              "      <td>93.0</td>\n",
              "      <td>1.0</td>\n",
              "      <td>2.0</td>\n",
              "      <td>0.0</td>\n",
              "      <td>1.0</td>\n",
              "      <td>1.0</td>\n",
              "      <td>1.0</td>\n",
              "    </tr>\n",
              "    <tr>\n",
              "      <th>...</th>\n",
              "      <td>...</td>\n",
              "      <td>...</td>\n",
              "      <td>...</td>\n",
              "      <td>...</td>\n",
              "      <td>...</td>\n",
              "      <td>...</td>\n",
              "      <td>...</td>\n",
              "      <td>...</td>\n",
              "      <td>...</td>\n",
              "      <td>...</td>\n",
              "      <td>...</td>\n",
              "      <td>...</td>\n",
              "      <td>...</td>\n",
              "    </tr>\n",
              "    <tr>\n",
              "      <th>495</th>\n",
              "      <td>74393.0</td>\n",
              "      <td>16771.5</td>\n",
              "      <td>1.0</td>\n",
              "      <td>174.0</td>\n",
              "      <td>73.0</td>\n",
              "      <td>130.0</td>\n",
              "      <td>80.0</td>\n",
              "      <td>2.0</td>\n",
              "      <td>2.0</td>\n",
              "      <td>0.0</td>\n",
              "      <td>0.0</td>\n",
              "      <td>1.0</td>\n",
              "      <td>1.0</td>\n",
              "    </tr>\n",
              "    <tr>\n",
              "      <th>496</th>\n",
              "      <td>38938.0</td>\n",
              "      <td>16685.5</td>\n",
              "      <td>0.0</td>\n",
              "      <td>175.5</td>\n",
              "      <td>89.0</td>\n",
              "      <td>130.0</td>\n",
              "      <td>80.0</td>\n",
              "      <td>1.0</td>\n",
              "      <td>2.0</td>\n",
              "      <td>0.0</td>\n",
              "      <td>0.0</td>\n",
              "      <td>0.5</td>\n",
              "      <td>1.0</td>\n",
              "    </tr>\n",
              "    <tr>\n",
              "      <th>497</th>\n",
              "      <td>9037.0</td>\n",
              "      <td>16407.5</td>\n",
              "      <td>1.0</td>\n",
              "      <td>180.0</td>\n",
              "      <td>84.0</td>\n",
              "      <td>115.0</td>\n",
              "      <td>85.0</td>\n",
              "      <td>2.0</td>\n",
              "      <td>0.0</td>\n",
              "      <td>1.0</td>\n",
              "      <td>0.0</td>\n",
              "      <td>1.0</td>\n",
              "      <td>0.0</td>\n",
              "    </tr>\n",
              "    <tr>\n",
              "      <th>498</th>\n",
              "      <td>27539.0</td>\n",
              "      <td>18426.5</td>\n",
              "      <td>1.0</td>\n",
              "      <td>167.0</td>\n",
              "      <td>62.5</td>\n",
              "      <td>110.0</td>\n",
              "      <td>70.0</td>\n",
              "      <td>2.0</td>\n",
              "      <td>2.0</td>\n",
              "      <td>0.5</td>\n",
              "      <td>0.0</td>\n",
              "      <td>1.0</td>\n",
              "      <td>0.0</td>\n",
              "    </tr>\n",
              "    <tr>\n",
              "      <th>499</th>\n",
              "      <td>13409.0</td>\n",
              "      <td>16698.0</td>\n",
              "      <td>0.0</td>\n",
              "      <td>161.5</td>\n",
              "      <td>59.0</td>\n",
              "      <td>115.0</td>\n",
              "      <td>80.0</td>\n",
              "      <td>2.0</td>\n",
              "      <td>2.0</td>\n",
              "      <td>0.0</td>\n",
              "      <td>0.0</td>\n",
              "      <td>1.0</td>\n",
              "      <td>0.0</td>\n",
              "    </tr>\n",
              "  </tbody>\n",
              "</table>\n",
              "<p>500 rows × 13 columns</p>\n",
              "</div>"
            ],
            "text/plain": [
              "          id      age  gender  height  ...  smoke  alco  active  cardio\n",
              "0    92150.0  20535.0     0.0   163.0  ...    0.0   0.0     1.0     0.0\n",
              "1    88880.0  16125.0     0.0   168.0  ...    0.0   0.0     1.0     0.0\n",
              "2    10483.0  19761.0     0.0   170.0  ...    0.0   0.0     1.0     1.0\n",
              "3    22798.0  19035.0     0.0   155.0  ...    0.0   0.0     0.5     0.0\n",
              "4    85542.0  20847.0     0.0   158.0  ...    0.0   1.0     1.0     1.0\n",
              "..       ...      ...     ...     ...  ...    ...   ...     ...     ...\n",
              "495  74393.0  16771.5     1.0   174.0  ...    0.0   0.0     1.0     1.0\n",
              "496  38938.0  16685.5     0.0   175.5  ...    0.0   0.0     0.5     1.0\n",
              "497   9037.0  16407.5     1.0   180.0  ...    1.0   0.0     1.0     0.0\n",
              "498  27539.0  18426.5     1.0   167.0  ...    0.5   0.0     1.0     0.0\n",
              "499  13409.0  16698.0     0.0   161.5  ...    0.0   0.0     1.0     0.0\n",
              "\n",
              "[500 rows x 13 columns]"
            ]
          },
          "metadata": {
            "tags": []
          },
          "execution_count": 60
        }
      ]
    },
    {
      "cell_type": "code",
      "metadata": {
        "id": "e0-f8XmJ8xWq",
        "colab": {
          "base_uri": "https://localhost:8080/",
          "height": 415
        },
        "outputId": "d3dcf94e-2b3f-4d04-99cf-3b3cde647a27"
      },
      "source": [
        "#k. Applying the feature scaling technique if you think it is required. (Optional)\n",
        "\n",
        "cardio_train_copy = cardio_train.copy(deep=True)\n",
        "#cardio_train_copy = cardio_train_copy.append(cardio_valid)\n",
        "cholesterol_mode = cardio_train_copy[\"cholesterol\"].mode()\n",
        "gluc_mode = cardio_train_copy[\"gluc\"].mode()\n",
        "gender_mode = cardio_train_copy[\"gender\"].mode()\n",
        "\n",
        "cardio_train_copy['cholesterol']= cardio_train_copy['cholesterol'].replace(np.nan, cholesterol_mode.iat[0])\n",
        "cardio_train_copy['gluc']= cardio_train_copy['gluc'].replace(np.nan, gluc_mode.iat[0])\n",
        "cardio_train_copy['gender']= cardio_train_copy['gender'].replace(np.nan, gender_mode.iat[0])\n",
        "\n",
        "label_encoder_x = LabelEncoder()\n",
        "cardio_train_copy[\"cholesterol\"] = label_encoder_x.fit_transform(cardio_train_copy[\"cholesterol\"])\n",
        "cardio_train_copy[\"gluc\"] = label_encoder_x.fit_transform(cardio_train_copy[\"gluc\"])\n",
        "cardio_train_copy[\"gender\"] = label_encoder_x.fit_transform(cardio_train_copy[\"gender\"])\n",
        "\n",
        "\n",
        "for i in cardio_train_copy.columns:\n",
        "  if i not in [\"id\",\"cardio\"]:\n",
        "    cardio_train_copy[i].fillna(round(cardio_train_copy[i].mean()), inplace=True)\n",
        "cardio_train_copy"
      ],
      "execution_count": 7,
      "outputs": [
        {
          "output_type": "execute_result",
          "data": {
            "text/html": [
              "<div>\n",
              "<style scoped>\n",
              "    .dataframe tbody tr th:only-of-type {\n",
              "        vertical-align: middle;\n",
              "    }\n",
              "\n",
              "    .dataframe tbody tr th {\n",
              "        vertical-align: top;\n",
              "    }\n",
              "\n",
              "    .dataframe thead th {\n",
              "        text-align: right;\n",
              "    }\n",
              "</style>\n",
              "<table border=\"1\" class=\"dataframe\">\n",
              "  <thead>\n",
              "    <tr style=\"text-align: right;\">\n",
              "      <th></th>\n",
              "      <th>id</th>\n",
              "      <th>age</th>\n",
              "      <th>gender</th>\n",
              "      <th>height</th>\n",
              "      <th>weight</th>\n",
              "      <th>ap_hi</th>\n",
              "      <th>ap_lo</th>\n",
              "      <th>cholesterol</th>\n",
              "      <th>gluc</th>\n",
              "      <th>smoke</th>\n",
              "      <th>alco</th>\n",
              "      <th>active</th>\n",
              "      <th>cardio</th>\n",
              "    </tr>\n",
              "  </thead>\n",
              "  <tbody>\n",
              "    <tr>\n",
              "      <th>0</th>\n",
              "      <td>92150</td>\n",
              "      <td>20535.0</td>\n",
              "      <td>0</td>\n",
              "      <td>163.0</td>\n",
              "      <td>75.0</td>\n",
              "      <td>120.0</td>\n",
              "      <td>90.0</td>\n",
              "      <td>2</td>\n",
              "      <td>2</td>\n",
              "      <td>0.0</td>\n",
              "      <td>0.0</td>\n",
              "      <td>1.0</td>\n",
              "      <td>0</td>\n",
              "    </tr>\n",
              "    <tr>\n",
              "      <th>1</th>\n",
              "      <td>88880</td>\n",
              "      <td>16125.0</td>\n",
              "      <td>0</td>\n",
              "      <td>168.0</td>\n",
              "      <td>68.0</td>\n",
              "      <td>110.0</td>\n",
              "      <td>70.0</td>\n",
              "      <td>2</td>\n",
              "      <td>2</td>\n",
              "      <td>0.0</td>\n",
              "      <td>0.0</td>\n",
              "      <td>1.0</td>\n",
              "      <td>0</td>\n",
              "    </tr>\n",
              "    <tr>\n",
              "      <th>2</th>\n",
              "      <td>10483</td>\n",
              "      <td>19761.0</td>\n",
              "      <td>0</td>\n",
              "      <td>170.0</td>\n",
              "      <td>75.0</td>\n",
              "      <td>120.0</td>\n",
              "      <td>90.0</td>\n",
              "      <td>2</td>\n",
              "      <td>2</td>\n",
              "      <td>0.0</td>\n",
              "      <td>0.0</td>\n",
              "      <td>1.0</td>\n",
              "      <td>1</td>\n",
              "    </tr>\n",
              "    <tr>\n",
              "      <th>3</th>\n",
              "      <td>22798</td>\n",
              "      <td>19035.0</td>\n",
              "      <td>0</td>\n",
              "      <td>164.0</td>\n",
              "      <td>89.0</td>\n",
              "      <td>129.0</td>\n",
              "      <td>80.0</td>\n",
              "      <td>2</td>\n",
              "      <td>2</td>\n",
              "      <td>0.0</td>\n",
              "      <td>0.0</td>\n",
              "      <td>1.0</td>\n",
              "      <td>0</td>\n",
              "    </tr>\n",
              "    <tr>\n",
              "      <th>4</th>\n",
              "      <td>85542</td>\n",
              "      <td>19491.0</td>\n",
              "      <td>0</td>\n",
              "      <td>158.0</td>\n",
              "      <td>74.0</td>\n",
              "      <td>129.0</td>\n",
              "      <td>93.0</td>\n",
              "      <td>1</td>\n",
              "      <td>2</td>\n",
              "      <td>0.0</td>\n",
              "      <td>1.0</td>\n",
              "      <td>1.0</td>\n",
              "      <td>1</td>\n",
              "    </tr>\n",
              "    <tr>\n",
              "      <th>...</th>\n",
              "      <td>...</td>\n",
              "      <td>...</td>\n",
              "      <td>...</td>\n",
              "      <td>...</td>\n",
              "      <td>...</td>\n",
              "      <td>...</td>\n",
              "      <td>...</td>\n",
              "      <td>...</td>\n",
              "      <td>...</td>\n",
              "      <td>...</td>\n",
              "      <td>...</td>\n",
              "      <td>...</td>\n",
              "      <td>...</td>\n",
              "    </tr>\n",
              "    <tr>\n",
              "      <th>495</th>\n",
              "      <td>74393</td>\n",
              "      <td>19491.0</td>\n",
              "      <td>1</td>\n",
              "      <td>174.0</td>\n",
              "      <td>73.0</td>\n",
              "      <td>130.0</td>\n",
              "      <td>90.0</td>\n",
              "      <td>2</td>\n",
              "      <td>2</td>\n",
              "      <td>0.0</td>\n",
              "      <td>0.0</td>\n",
              "      <td>1.0</td>\n",
              "      <td>1</td>\n",
              "    </tr>\n",
              "    <tr>\n",
              "      <th>496</th>\n",
              "      <td>38938</td>\n",
              "      <td>19491.0</td>\n",
              "      <td>0</td>\n",
              "      <td>164.0</td>\n",
              "      <td>89.0</td>\n",
              "      <td>130.0</td>\n",
              "      <td>90.0</td>\n",
              "      <td>1</td>\n",
              "      <td>2</td>\n",
              "      <td>0.0</td>\n",
              "      <td>0.0</td>\n",
              "      <td>1.0</td>\n",
              "      <td>1</td>\n",
              "    </tr>\n",
              "    <tr>\n",
              "      <th>497</th>\n",
              "      <td>9037</td>\n",
              "      <td>19491.0</td>\n",
              "      <td>1</td>\n",
              "      <td>180.0</td>\n",
              "      <td>84.0</td>\n",
              "      <td>129.0</td>\n",
              "      <td>90.0</td>\n",
              "      <td>2</td>\n",
              "      <td>0</td>\n",
              "      <td>1.0</td>\n",
              "      <td>0.0</td>\n",
              "      <td>1.0</td>\n",
              "      <td>0</td>\n",
              "    </tr>\n",
              "    <tr>\n",
              "      <th>498</th>\n",
              "      <td>27539</td>\n",
              "      <td>19491.0</td>\n",
              "      <td>1</td>\n",
              "      <td>164.0</td>\n",
              "      <td>74.0</td>\n",
              "      <td>110.0</td>\n",
              "      <td>70.0</td>\n",
              "      <td>2</td>\n",
              "      <td>2</td>\n",
              "      <td>0.0</td>\n",
              "      <td>0.0</td>\n",
              "      <td>1.0</td>\n",
              "      <td>0</td>\n",
              "    </tr>\n",
              "    <tr>\n",
              "      <th>499</th>\n",
              "      <td>13409</td>\n",
              "      <td>16698.0</td>\n",
              "      <td>0</td>\n",
              "      <td>164.0</td>\n",
              "      <td>59.0</td>\n",
              "      <td>129.0</td>\n",
              "      <td>90.0</td>\n",
              "      <td>2</td>\n",
              "      <td>2</td>\n",
              "      <td>0.0</td>\n",
              "      <td>0.0</td>\n",
              "      <td>1.0</td>\n",
              "      <td>0</td>\n",
              "    </tr>\n",
              "  </tbody>\n",
              "</table>\n",
              "<p>500 rows × 13 columns</p>\n",
              "</div>"
            ],
            "text/plain": [
              "        id      age  gender  height  weight  ...  gluc  smoke  alco  active  cardio\n",
              "0    92150  20535.0       0   163.0    75.0  ...     2    0.0   0.0     1.0       0\n",
              "1    88880  16125.0       0   168.0    68.0  ...     2    0.0   0.0     1.0       0\n",
              "2    10483  19761.0       0   170.0    75.0  ...     2    0.0   0.0     1.0       1\n",
              "3    22798  19035.0       0   164.0    89.0  ...     2    0.0   0.0     1.0       0\n",
              "4    85542  19491.0       0   158.0    74.0  ...     2    0.0   1.0     1.0       1\n",
              "..     ...      ...     ...     ...     ...  ...   ...    ...   ...     ...     ...\n",
              "495  74393  19491.0       1   174.0    73.0  ...     2    0.0   0.0     1.0       1\n",
              "496  38938  19491.0       0   164.0    89.0  ...     2    0.0   0.0     1.0       1\n",
              "497   9037  19491.0       1   180.0    84.0  ...     0    1.0   0.0     1.0       0\n",
              "498  27539  19491.0       1   164.0    74.0  ...     2    0.0   0.0     1.0       0\n",
              "499  13409  16698.0       0   164.0    59.0  ...     2    0.0   0.0     1.0       0\n",
              "\n",
              "[500 rows x 13 columns]"
            ]
          },
          "metadata": {
            "tags": []
          },
          "execution_count": 7
        }
      ]
    },
    {
      "cell_type": "code",
      "metadata": {
        "colab": {
          "base_uri": "https://localhost:8080/",
          "height": 415
        },
        "id": "18h5jha-y_h5",
        "outputId": "f9db8712-12e9-42bd-d18b-d987de36231e"
      },
      "source": [
        "cardio_valid_copy = cardio_valid.copy(deep=True)\n",
        "#cardio_train_copy = cardio_train_copy.append(cardio_valid)\n",
        "cholesterol_mode = cardio_valid_copy[\"cholesterol\"].mode()\n",
        "gluc_mode = cardio_valid_copy[\"gluc\"].mode()\n",
        "gender_mode = cardio_valid_copy[\"gender\"].mode()\n",
        "\n",
        "cardio_valid_copy['cholesterol']= cardio_valid_copy['cholesterol'].replace(np.nan, cholesterol_mode.iat[0])\n",
        "cardio_valid_copy['gluc']= cardio_valid_copy['gluc'].replace(np.nan, gluc_mode.iat[0])\n",
        "cardio_valid_copy['gender']= cardio_valid_copy['gender'].replace(np.nan, gender_mode.iat[0])\n",
        "\n",
        "label_encoder_x = LabelEncoder()\n",
        "cardio_valid_copy[\"cholesterol\"] = label_encoder_x.fit_transform(cardio_valid_copy[\"cholesterol\"])\n",
        "cardio_valid_copy[\"gluc\"] = label_encoder_x.fit_transform(cardio_valid_copy[\"gluc\"])\n",
        "cardio_valid_copy[\"gender\"] = label_encoder_x.fit_transform(cardio_valid_copy[\"gender\"])\n",
        "\n",
        "\n",
        "for i in cardio_valid_copy.columns:\n",
        "  if i not in [\"id\",\"cardio\"]:\n",
        "    cardio_valid_copy[i].fillna(round(cardio_valid_copy[i].mean()), inplace=True)\n",
        "\n",
        "cardio_valid_copy"
      ],
      "execution_count": 8,
      "outputs": [
        {
          "output_type": "execute_result",
          "data": {
            "text/html": [
              "<div>\n",
              "<style scoped>\n",
              "    .dataframe tbody tr th:only-of-type {\n",
              "        vertical-align: middle;\n",
              "    }\n",
              "\n",
              "    .dataframe tbody tr th {\n",
              "        vertical-align: top;\n",
              "    }\n",
              "\n",
              "    .dataframe thead th {\n",
              "        text-align: right;\n",
              "    }\n",
              "</style>\n",
              "<table border=\"1\" class=\"dataframe\">\n",
              "  <thead>\n",
              "    <tr style=\"text-align: right;\">\n",
              "      <th></th>\n",
              "      <th>id</th>\n",
              "      <th>age</th>\n",
              "      <th>gender</th>\n",
              "      <th>height</th>\n",
              "      <th>weight</th>\n",
              "      <th>ap_hi</th>\n",
              "      <th>ap_lo</th>\n",
              "      <th>cholesterol</th>\n",
              "      <th>gluc</th>\n",
              "      <th>smoke</th>\n",
              "      <th>alco</th>\n",
              "      <th>active</th>\n",
              "      <th>cardio</th>\n",
              "    </tr>\n",
              "  </thead>\n",
              "  <tbody>\n",
              "    <tr>\n",
              "      <th>0</th>\n",
              "      <td>17934</td>\n",
              "      <td>18936.0</td>\n",
              "      <td>0</td>\n",
              "      <td>165.0</td>\n",
              "      <td>60.0</td>\n",
              "      <td>126.0</td>\n",
              "      <td>80.0</td>\n",
              "      <td>2</td>\n",
              "      <td>2</td>\n",
              "      <td>0.0</td>\n",
              "      <td>0.0</td>\n",
              "      <td>1.0</td>\n",
              "      <td>1</td>\n",
              "    </tr>\n",
              "    <tr>\n",
              "      <th>1</th>\n",
              "      <td>52450</td>\n",
              "      <td>17987.0</td>\n",
              "      <td>0</td>\n",
              "      <td>165.0</td>\n",
              "      <td>58.8</td>\n",
              "      <td>120.0</td>\n",
              "      <td>90.0</td>\n",
              "      <td>2</td>\n",
              "      <td>2</td>\n",
              "      <td>0.0</td>\n",
              "      <td>0.0</td>\n",
              "      <td>1.0</td>\n",
              "      <td>0</td>\n",
              "    </tr>\n",
              "    <tr>\n",
              "      <th>2</th>\n",
              "      <td>37653</td>\n",
              "      <td>19360.0</td>\n",
              "      <td>0</td>\n",
              "      <td>159.0</td>\n",
              "      <td>93.0</td>\n",
              "      <td>130.0</td>\n",
              "      <td>90.0</td>\n",
              "      <td>1</td>\n",
              "      <td>2</td>\n",
              "      <td>0.0</td>\n",
              "      <td>0.0</td>\n",
              "      <td>1.0</td>\n",
              "      <td>1</td>\n",
              "    </tr>\n",
              "    <tr>\n",
              "      <th>3</th>\n",
              "      <td>96970</td>\n",
              "      <td>22851.0</td>\n",
              "      <td>1</td>\n",
              "      <td>172.0</td>\n",
              "      <td>74.0</td>\n",
              "      <td>126.0</td>\n",
              "      <td>100.0</td>\n",
              "      <td>2</td>\n",
              "      <td>2</td>\n",
              "      <td>0.0</td>\n",
              "      <td>0.0</td>\n",
              "      <td>1.0</td>\n",
              "      <td>1</td>\n",
              "    </tr>\n",
              "    <tr>\n",
              "      <th>4</th>\n",
              "      <td>50977</td>\n",
              "      <td>19360.0</td>\n",
              "      <td>1</td>\n",
              "      <td>165.0</td>\n",
              "      <td>116.0</td>\n",
              "      <td>126.0</td>\n",
              "      <td>80.0</td>\n",
              "      <td>1</td>\n",
              "      <td>2</td>\n",
              "      <td>0.0</td>\n",
              "      <td>0.0</td>\n",
              "      <td>1.0</td>\n",
              "      <td>1</td>\n",
              "    </tr>\n",
              "    <tr>\n",
              "      <th>...</th>\n",
              "      <td>...</td>\n",
              "      <td>...</td>\n",
              "      <td>...</td>\n",
              "      <td>...</td>\n",
              "      <td>...</td>\n",
              "      <td>...</td>\n",
              "      <td>...</td>\n",
              "      <td>...</td>\n",
              "      <td>...</td>\n",
              "      <td>...</td>\n",
              "      <td>...</td>\n",
              "      <td>...</td>\n",
              "      <td>...</td>\n",
              "    </tr>\n",
              "    <tr>\n",
              "      <th>495</th>\n",
              "      <td>68639</td>\n",
              "      <td>19360.0</td>\n",
              "      <td>0</td>\n",
              "      <td>164.0</td>\n",
              "      <td>72.0</td>\n",
              "      <td>140.0</td>\n",
              "      <td>80.0</td>\n",
              "      <td>2</td>\n",
              "      <td>2</td>\n",
              "      <td>0.0</td>\n",
              "      <td>0.0</td>\n",
              "      <td>1.0</td>\n",
              "      <td>1</td>\n",
              "    </tr>\n",
              "    <tr>\n",
              "      <th>496</th>\n",
              "      <td>35524</td>\n",
              "      <td>15851.0</td>\n",
              "      <td>0</td>\n",
              "      <td>159.0</td>\n",
              "      <td>74.0</td>\n",
              "      <td>90.0</td>\n",
              "      <td>60.0</td>\n",
              "      <td>2</td>\n",
              "      <td>2</td>\n",
              "      <td>0.0</td>\n",
              "      <td>0.0</td>\n",
              "      <td>1.0</td>\n",
              "      <td>0</td>\n",
              "    </tr>\n",
              "    <tr>\n",
              "      <th>497</th>\n",
              "      <td>43938</td>\n",
              "      <td>21010.0</td>\n",
              "      <td>0</td>\n",
              "      <td>168.0</td>\n",
              "      <td>74.0</td>\n",
              "      <td>126.0</td>\n",
              "      <td>90.0</td>\n",
              "      <td>2</td>\n",
              "      <td>2</td>\n",
              "      <td>0.0</td>\n",
              "      <td>0.0</td>\n",
              "      <td>1.0</td>\n",
              "      <td>1</td>\n",
              "    </tr>\n",
              "    <tr>\n",
              "      <th>498</th>\n",
              "      <td>1487</td>\n",
              "      <td>19360.0</td>\n",
              "      <td>1</td>\n",
              "      <td>170.0</td>\n",
              "      <td>87.0</td>\n",
              "      <td>120.0</td>\n",
              "      <td>99.0</td>\n",
              "      <td>2</td>\n",
              "      <td>2</td>\n",
              "      <td>0.0</td>\n",
              "      <td>0.0</td>\n",
              "      <td>1.0</td>\n",
              "      <td>0</td>\n",
              "    </tr>\n",
              "    <tr>\n",
              "      <th>499</th>\n",
              "      <td>98728</td>\n",
              "      <td>19360.0</td>\n",
              "      <td>1</td>\n",
              "      <td>138.0</td>\n",
              "      <td>60.0</td>\n",
              "      <td>110.0</td>\n",
              "      <td>80.0</td>\n",
              "      <td>2</td>\n",
              "      <td>2</td>\n",
              "      <td>0.0</td>\n",
              "      <td>0.0</td>\n",
              "      <td>0.0</td>\n",
              "      <td>0</td>\n",
              "    </tr>\n",
              "  </tbody>\n",
              "</table>\n",
              "<p>500 rows × 13 columns</p>\n",
              "</div>"
            ],
            "text/plain": [
              "        id      age  gender  height  weight  ...  gluc  smoke  alco  active  cardio\n",
              "0    17934  18936.0       0   165.0    60.0  ...     2    0.0   0.0     1.0       1\n",
              "1    52450  17987.0       0   165.0    58.8  ...     2    0.0   0.0     1.0       0\n",
              "2    37653  19360.0       0   159.0    93.0  ...     2    0.0   0.0     1.0       1\n",
              "3    96970  22851.0       1   172.0    74.0  ...     2    0.0   0.0     1.0       1\n",
              "4    50977  19360.0       1   165.0   116.0  ...     2    0.0   0.0     1.0       1\n",
              "..     ...      ...     ...     ...     ...  ...   ...    ...   ...     ...     ...\n",
              "495  68639  19360.0       0   164.0    72.0  ...     2    0.0   0.0     1.0       1\n",
              "496  35524  15851.0       0   159.0    74.0  ...     2    0.0   0.0     1.0       0\n",
              "497  43938  21010.0       0   168.0    74.0  ...     2    0.0   0.0     1.0       1\n",
              "498   1487  19360.0       1   170.0    87.0  ...     2    0.0   0.0     1.0       0\n",
              "499  98728  19360.0       1   138.0    60.0  ...     2    0.0   0.0     0.0       0\n",
              "\n",
              "[500 rows x 13 columns]"
            ]
          },
          "metadata": {
            "tags": []
          },
          "execution_count": 8
        }
      ]
    },
    {
      "cell_type": "code",
      "metadata": {
        "colab": {
          "base_uri": "https://localhost:8080/",
          "height": 35
        },
        "id": "oo_nGyUczFON",
        "outputId": "aea668ad-bc7d-4190-cd37-bf1cf50dd919"
      },
      "source": [
        "X = cardio_train_copy.drop([\"id\",\"cardio\"], axis=1)\n",
        "#X =cardio_train_copy[[\"age\",\"ap_hi\",\"ap_lo\"]]\n",
        "y = cardio_train_copy[[\"cardio\"]]\n",
        "X_valid = cardio_valid_copy.drop([\"id\",\"cardio\"], axis=1)\n",
        "#X_valid =cardio_valid_copy[[\"age\",\"ap_hi\",\"ap_lo\"]]\n",
        "y_valid = cardio_valid_copy[[\"cardio\"]]\n",
        "\n",
        "#k.Applying the feature scaling technique if you think it is required. (Optional)\n",
        "scaler = StandardScaler()\n",
        "x_scaled = scaler.fit_transform(X)\n",
        "x_scaled_valid = scaler.fit_transform(X_valid)\n",
        "\"\"\"\n",
        "Comments and Observations:\n",
        "Scaling doesn't decrease the rmse for me.\n",
        "\"\"\""
      ],
      "execution_count": 9,
      "outputs": [
        {
          "output_type": "execute_result",
          "data": {
            "application/vnd.google.colaboratory.intrinsic+json": {
              "type": "string"
            },
            "text/plain": [
              "\"\\nComments and Observations:\\nScaling doesn't decrease the rmse for me.\\n\""
            ]
          },
          "metadata": {
            "tags": []
          },
          "execution_count": 9
        }
      ]
    },
    {
      "cell_type": "code",
      "metadata": {
        "colab": {
          "base_uri": "https://localhost:8080/",
          "height": 415
        },
        "id": "oDf0JjyJ1wlu",
        "outputId": "7bff76fc-a27b-40b1-9cc9-c04c722e2b33"
      },
      "source": [
        "#Filling out missed value\n",
        "cardio_test_copy = cardio_test.copy(deep=True)\n",
        "#cardio_test_copy = cardio_test_copy.append(cardio_valid_2)\n",
        "cholesterol_mode = cardio_test_copy[\"cholesterol\"].mode()\n",
        "gluc_mode = cardio_test_copy[\"gluc\"].mode()\n",
        "gender_mode = cardio_test_copy[\"gender\"].mode()\n",
        "\n",
        "cardio_test_copy['cholesterol']= cardio_test_copy['cholesterol'].replace(np.nan, cholesterol_mode.iat[0])\n",
        "cardio_test_copy['gluc']= cardio_test_copy['gluc'].replace(np.nan, gluc_mode.iat[0])\n",
        "cardio_test_copy['gender']= cardio_test_copy['gender'].replace(np.nan, gender_mode.iat[0])\n",
        "\n",
        "label_encoder_x = LabelEncoder()\n",
        "cardio_test_copy[\"cholesterol\"] = label_encoder_x.fit_transform(cardio_test_copy[\"cholesterol\"])\n",
        "cardio_test_copy[\"gluc\"] = label_encoder_x.fit_transform(cardio_test_copy[\"gluc\"])\n",
        "cardio_test_copy[\"gender\"] = label_encoder_x.fit_transform(cardio_test_copy[\"gender\"])\n",
        "cardio_test_copy[\"age\"] = cardio_test_copy[\"age\"]/365\n",
        "for i in cardio_test_copy.columns:\n",
        "  if i not in [\"id\",\"cardio\"]:\n",
        "    cardio_test_copy[i].fillna(round(cardio_test_copy[i].mean()), inplace=True)\n",
        "X_test = cardio_test_copy.drop([\"id\"], axis=1)\n",
        "\n",
        "cardio_test_copy\n"
      ],
      "execution_count": 10,
      "outputs": [
        {
          "output_type": "execute_result",
          "data": {
            "text/html": [
              "<div>\n",
              "<style scoped>\n",
              "    .dataframe tbody tr th:only-of-type {\n",
              "        vertical-align: middle;\n",
              "    }\n",
              "\n",
              "    .dataframe tbody tr th {\n",
              "        vertical-align: top;\n",
              "    }\n",
              "\n",
              "    .dataframe thead th {\n",
              "        text-align: right;\n",
              "    }\n",
              "</style>\n",
              "<table border=\"1\" class=\"dataframe\">\n",
              "  <thead>\n",
              "    <tr style=\"text-align: right;\">\n",
              "      <th></th>\n",
              "      <th>id</th>\n",
              "      <th>age</th>\n",
              "      <th>gender</th>\n",
              "      <th>height</th>\n",
              "      <th>weight</th>\n",
              "      <th>ap_hi</th>\n",
              "      <th>ap_lo</th>\n",
              "      <th>cholesterol</th>\n",
              "      <th>gluc</th>\n",
              "      <th>smoke</th>\n",
              "      <th>alco</th>\n",
              "      <th>active</th>\n",
              "    </tr>\n",
              "  </thead>\n",
              "  <tbody>\n",
              "    <tr>\n",
              "      <th>0</th>\n",
              "      <td>47997</td>\n",
              "      <td>55.402740</td>\n",
              "      <td>0</td>\n",
              "      <td>156</td>\n",
              "      <td>57.0</td>\n",
              "      <td>110</td>\n",
              "      <td>70</td>\n",
              "      <td>2</td>\n",
              "      <td>2</td>\n",
              "      <td>0</td>\n",
              "      <td>1</td>\n",
              "      <td>0</td>\n",
              "    </tr>\n",
              "    <tr>\n",
              "      <th>1</th>\n",
              "      <td>15311</td>\n",
              "      <td>49.531507</td>\n",
              "      <td>0</td>\n",
              "      <td>160</td>\n",
              "      <td>60.0</td>\n",
              "      <td>120</td>\n",
              "      <td>80</td>\n",
              "      <td>2</td>\n",
              "      <td>2</td>\n",
              "      <td>0</td>\n",
              "      <td>0</td>\n",
              "      <td>1</td>\n",
              "    </tr>\n",
              "    <tr>\n",
              "      <th>2</th>\n",
              "      <td>44269</td>\n",
              "      <td>55.558904</td>\n",
              "      <td>1</td>\n",
              "      <td>170</td>\n",
              "      <td>80.0</td>\n",
              "      <td>140</td>\n",
              "      <td>69</td>\n",
              "      <td>2</td>\n",
              "      <td>2</td>\n",
              "      <td>0</td>\n",
              "      <td>0</td>\n",
              "      <td>1</td>\n",
              "    </tr>\n",
              "    <tr>\n",
              "      <th>3</th>\n",
              "      <td>91373</td>\n",
              "      <td>63.635616</td>\n",
              "      <td>0</td>\n",
              "      <td>158</td>\n",
              "      <td>80.0</td>\n",
              "      <td>160</td>\n",
              "      <td>90</td>\n",
              "      <td>1</td>\n",
              "      <td>2</td>\n",
              "      <td>0</td>\n",
              "      <td>0</td>\n",
              "      <td>1</td>\n",
              "    </tr>\n",
              "    <tr>\n",
              "      <th>4</th>\n",
              "      <td>9686</td>\n",
              "      <td>56.057534</td>\n",
              "      <td>0</td>\n",
              "      <td>158</td>\n",
              "      <td>92.0</td>\n",
              "      <td>140</td>\n",
              "      <td>90</td>\n",
              "      <td>2</td>\n",
              "      <td>0</td>\n",
              "      <td>0</td>\n",
              "      <td>0</td>\n",
              "      <td>0</td>\n",
              "    </tr>\n",
              "    <tr>\n",
              "      <th>...</th>\n",
              "      <td>...</td>\n",
              "      <td>...</td>\n",
              "      <td>...</td>\n",
              "      <td>...</td>\n",
              "      <td>...</td>\n",
              "      <td>...</td>\n",
              "      <td>...</td>\n",
              "      <td>...</td>\n",
              "      <td>...</td>\n",
              "      <td>...</td>\n",
              "      <td>...</td>\n",
              "      <td>...</td>\n",
              "    </tr>\n",
              "    <tr>\n",
              "      <th>245</th>\n",
              "      <td>46137</td>\n",
              "      <td>54.167123</td>\n",
              "      <td>0</td>\n",
              "      <td>162</td>\n",
              "      <td>64.0</td>\n",
              "      <td>110</td>\n",
              "      <td>70</td>\n",
              "      <td>2</td>\n",
              "      <td>2</td>\n",
              "      <td>0</td>\n",
              "      <td>0</td>\n",
              "      <td>1</td>\n",
              "    </tr>\n",
              "    <tr>\n",
              "      <th>246</th>\n",
              "      <td>58058</td>\n",
              "      <td>53.421918</td>\n",
              "      <td>0</td>\n",
              "      <td>162</td>\n",
              "      <td>80.0</td>\n",
              "      <td>150</td>\n",
              "      <td>90</td>\n",
              "      <td>1</td>\n",
              "      <td>2</td>\n",
              "      <td>0</td>\n",
              "      <td>0</td>\n",
              "      <td>1</td>\n",
              "    </tr>\n",
              "    <tr>\n",
              "      <th>247</th>\n",
              "      <td>30608</td>\n",
              "      <td>51.369863</td>\n",
              "      <td>0</td>\n",
              "      <td>170</td>\n",
              "      <td>62.0</td>\n",
              "      <td>120</td>\n",
              "      <td>60</td>\n",
              "      <td>2</td>\n",
              "      <td>2</td>\n",
              "      <td>0</td>\n",
              "      <td>0</td>\n",
              "      <td>1</td>\n",
              "    </tr>\n",
              "    <tr>\n",
              "      <th>248</th>\n",
              "      <td>83845</td>\n",
              "      <td>53.989041</td>\n",
              "      <td>0</td>\n",
              "      <td>162</td>\n",
              "      <td>95.0</td>\n",
              "      <td>130</td>\n",
              "      <td>80</td>\n",
              "      <td>2</td>\n",
              "      <td>2</td>\n",
              "      <td>0</td>\n",
              "      <td>0</td>\n",
              "      <td>1</td>\n",
              "    </tr>\n",
              "    <tr>\n",
              "      <th>249</th>\n",
              "      <td>1285</td>\n",
              "      <td>53.750685</td>\n",
              "      <td>0</td>\n",
              "      <td>153</td>\n",
              "      <td>75.0</td>\n",
              "      <td>140</td>\n",
              "      <td>80</td>\n",
              "      <td>2</td>\n",
              "      <td>2</td>\n",
              "      <td>0</td>\n",
              "      <td>0</td>\n",
              "      <td>1</td>\n",
              "    </tr>\n",
              "  </tbody>\n",
              "</table>\n",
              "<p>250 rows × 12 columns</p>\n",
              "</div>"
            ],
            "text/plain": [
              "        id        age  gender  height  ...  gluc  smoke  alco  active\n",
              "0    47997  55.402740       0     156  ...     2      0     1       0\n",
              "1    15311  49.531507       0     160  ...     2      0     0       1\n",
              "2    44269  55.558904       1     170  ...     2      0     0       1\n",
              "3    91373  63.635616       0     158  ...     2      0     0       1\n",
              "4     9686  56.057534       0     158  ...     0      0     0       0\n",
              "..     ...        ...     ...     ...  ...   ...    ...   ...     ...\n",
              "245  46137  54.167123       0     162  ...     2      0     0       1\n",
              "246  58058  53.421918       0     162  ...     2      0     0       1\n",
              "247  30608  51.369863       0     170  ...     2      0     0       1\n",
              "248  83845  53.989041       0     162  ...     2      0     0       1\n",
              "249   1285  53.750685       0     153  ...     2      0     0       1\n",
              "\n",
              "[250 rows x 12 columns]"
            ]
          },
          "metadata": {
            "tags": []
          },
          "execution_count": 10
        }
      ]
    },
    {
      "cell_type": "code",
      "metadata": {
        "colab": {
          "base_uri": "https://localhost:8080/",
          "height": 399
        },
        "id": "ddug9Vi_3M6f",
        "outputId": "60f1305d-0898-45e0-911b-3b65cb3c00cb"
      },
      "source": [
        "# Delete\n",
        "feature_model = RandomForestClassifier(n_estimators=10)\n",
        "viz = FeatureImportances(feature_model)\n",
        "viz.fit(X, y)\n",
        "viz.feature_importances_"
      ],
      "execution_count": null,
      "outputs": [
        {
          "output_type": "execute_result",
          "data": {
            "text/plain": [
              "array([  6.42617434,   6.44565905,   6.97060926,   9.05373241,\n",
              "        12.04537625,  22.56745637,  27.7766665 ,  43.6138964 ,\n",
              "        76.39043778,  78.72887814, 100.        ])"
            ]
          },
          "metadata": {
            "tags": []
          },
          "execution_count": 71
        },
        {
          "output_type": "display_data",
          "data": {
            "image/png": "[encoded data removed]",
            "text/plain": [
              "<Figure size 576x396 with 1 Axes>"
            ]
          },
          "metadata": {
            "tags": []
          }
        }
      ]
    },
    {
      "cell_type": "code",
      "metadata": {
        "colab": {
          "base_uri": "https://localhost:8080/"
        },
        "id": "90xUs8S7DXBR",
        "outputId": "31c9c804-2c14-4740-e29b-fdd47f4828e0"
      },
      "source": [
        "#l. Applying the regression models that you think is most suited for this problem\n",
        "#Method 1\n",
        "pipe = Pipeline([('classifier' , RandomForestClassifier())])\n",
        "\n",
        "param_grid = [\n",
        "    {'classifier' : [DecisionTreeClassifier()],\n",
        "  },\n",
        "    {'classifier' : [RandomForestClassifier()],\n",
        "    'classifier__n_estimators' : list(range(10,101,10)),\n",
        "    'classifier__max_features' : list(range(6,32,5))\n",
        "    }\n",
        "]\n",
        "\n",
        "mod = GridSearchCV(pipe, param_grid = param_grid, cv = 5, verbose=True, n_jobs=-1)\n",
        "\n",
        "mod.fit(X, y)\n",
        "pred = mod.predict(X_valid)\n",
        "print(\"RMSE\", mean_squared_error(pred, y_valid))"
      ],
      "execution_count": 69,
      "outputs": [
        {
          "output_type": "stream",
          "text": [
            "Fitting 5 folds for each of 61 candidates, totalling 305 fits\n"
          ],
          "name": "stdout"
        },
        {
          "output_type": "stream",
          "text": [
            "[Parallel(n_jobs=-1)]: Using backend LokyBackend with 2 concurrent workers.\n",
            "[Parallel(n_jobs=-1)]: Done  46 tasks      | elapsed:    4.4s\n",
            "[Parallel(n_jobs=-1)]: Done 305 out of 305 | elapsed:   16.2s finished\n",
            "/usr/local/lib/python3.7/dist-packages/sklearn/pipeline.py:354: DataConversionWarning: A column-vector y was passed when a 1d array was expected. Please change the shape of y to (n_samples,), for example using ravel().\n",
            "  self._final_estimator.fit(Xt, y, **fit_params)\n"
          ],
          "name": "stderr"
        },
        {
          "output_type": "stream",
          "text": [
            "RMSE 0.32\n"
          ],
          "name": "stdout"
        }
      ]
    },
    {
      "cell_type": "code",
      "metadata": {
        "colab": {
          "base_uri": "https://localhost:8080/"
        },
        "id": "BChsgMXdMBI6",
        "outputId": "a99e2990-b92a-4cee-cee3-d55b1b63bc79"
      },
      "source": [
        "mod.best_params_\n",
        "print(\"Accuracy Score\",accuracy_score(y_valid,pred))"
      ],
      "execution_count": 72,
      "outputs": [
        {
          "output_type": "stream",
          "text": [
            "Accuracy Score 0.68\n"
          ],
          "name": "stdout"
        }
      ]
    },
    {
      "cell_type": "code",
      "metadata": {
        "id": "KMygB_ydE0MB",
        "colab": {
          "base_uri": "https://localhost:8080/"
        },
        "outputId": "faf01aa0-bbb6-4a3a-d93e-c744a8446aa9"
      },
      "source": [
        "#Model 2\n",
        "model = SVC(random_state= 5)\n",
        "model.fit(X, y)\n",
        "pred = model.predict(X_valid)\n",
        "print(\"RMSE\", mean_squared_error(pred, y_valid))\n",
        "print(\"Accuracy Score\",accuracy_score(y_valid,pred))"
      ],
      "execution_count": 73,
      "outputs": [
        {
          "output_type": "stream",
          "text": [
            "RMSE 0.43\n",
            "Accuracy Score 0.57\n"
          ],
          "name": "stdout"
        },
        {
          "output_type": "stream",
          "text": [
            "/usr/local/lib/python3.7/dist-packages/sklearn/utils/validation.py:760: DataConversionWarning: A column-vector y was passed when a 1d array was expected. Please change the shape of y to (n_samples, ), for example using ravel().\n",
            "  y = column_or_1d(y, warn=True)\n"
          ],
          "name": "stderr"
        }
      ]
    },
    {
      "cell_type": "code",
      "metadata": {
        "colab": {
          "base_uri": "https://localhost:8080/"
        },
        "id": "lik_hQap3utd",
        "outputId": "8b34d1ea-57a3-454e-cf42-db4685bd5cc9"
      },
      "source": [
        "# Model 3\n",
        "mod =GradientBoostingClassifier(learning_rate=0.01)\n",
        "mod.fit(X, y)\n",
        "pred = mod.predict(X_valid)\n",
        "print(\"RMSE\", mean_squared_error(pred, y_valid))\n",
        "print(\"Accuracy Score\",accuracy_score(y_valid,pred))"
      ],
      "execution_count": 76,
      "outputs": [
        {
          "output_type": "stream",
          "text": [
            "RMSE 0.27\n",
            "Accuracy Score 0.73\n"
          ],
          "name": "stdout"
        },
        {
          "output_type": "stream",
          "text": [
            "/usr/local/lib/python3.7/dist-packages/sklearn/ensemble/_gb.py:1454: DataConversionWarning: A column-vector y was passed when a 1d array was expected. Please change the shape of y to (n_samples, ), for example using ravel().\n",
            "  y = column_or_1d(y, warn=True)\n"
          ],
          "name": "stderr"
        }
      ]
    },
    {
      "cell_type": "code",
      "metadata": {
        "colab": {
          "base_uri": "https://localhost:8080/"
        },
        "id": "16XYGrmh4dCj",
        "outputId": "458a9c97-3cd6-41ec-b3da-7572c658b415"
      },
      "source": [
        "# Model 4\n",
        "xgb1 = xgb.XGBClassifier(base_score=0.5, booster='gbtree', colsample_bylevel=1,\n",
        "              colsample_bynode=1, colsample_bytree=1, gamma=0,\n",
        "              learning_rate=0.1, max_delta_step=0, max_depth=3,\n",
        "              min_child_weight=1, missing=None, n_estimators=50, n_jobs=1,\n",
        "              nthread=None, objective='binary:logistic', random_state=0,\n",
        "              reg_alpha=0, reg_lambda=1, scale_pos_weight=1, seed=None,\n",
        "              silent=None, subsample=1, verbosity=1)\n",
        "#model = modelfit(xgb1, cardio_train_copy, predictors)\n",
        "eval_set = [(X_valid, y_valid)]\n",
        "xgb1.fit(X,y, early_stopping_rounds=10, eval_metric=\"logloss\", eval_set=eval_set, verbose=True)\n",
        "pred = xgb1.predict(X_valid)\n",
        "print(\"RMSE:\", mean_squared_error(y_valid, pred))\n",
        "print(\"Accuracy Score\",accuracy_score(y_valid,pred))"
      ],
      "execution_count": 77,
      "outputs": [
        {
          "output_type": "stream",
          "text": [
            "[0]\tvalidation_0-logloss:0.673417\n",
            "Will train until validation_0-logloss hasn't improved in 10 rounds.\n",
            "[1]\tvalidation_0-logloss:0.656952\n",
            "[2]\tvalidation_0-logloss:0.644214\n",
            "[3]\tvalidation_0-logloss:0.632535\n",
            "[4]\tvalidation_0-logloss:0.621641\n",
            "[5]\tvalidation_0-logloss:0.612008\n",
            "[6]\tvalidation_0-logloss:0.607196\n",
            "[7]\tvalidation_0-logloss:0.600615\n",
            "[8]\tvalidation_0-logloss:0.593547\n",
            "[9]\tvalidation_0-logloss:0.586123\n",
            "[10]\tvalidation_0-logloss:0.581533\n",
            "[11]\tvalidation_0-logloss:0.577136\n",
            "[12]\tvalidation_0-logloss:0.575569\n",
            "[13]\tvalidation_0-logloss:0.57316\n",
            "[14]\tvalidation_0-logloss:0.570081\n",
            "[15]\tvalidation_0-logloss:0.569523\n",
            "[16]\tvalidation_0-logloss:0.568424\n",
            "[17]\tvalidation_0-logloss:0.565542\n",
            "[18]\tvalidation_0-logloss:0.564056\n",
            "[19]\tvalidation_0-logloss:0.563945\n",
            "[20]\tvalidation_0-logloss:0.564891\n",
            "[21]\tvalidation_0-logloss:0.563412\n",
            "[22]\tvalidation_0-logloss:0.562492\n",
            "[23]\tvalidation_0-logloss:0.56259\n",
            "[24]\tvalidation_0-logloss:0.562738\n",
            "[25]\tvalidation_0-logloss:0.563371\n",
            "[26]\tvalidation_0-logloss:0.563508\n",
            "[27]\tvalidation_0-logloss:0.562523\n",
            "[28]\tvalidation_0-logloss:0.562102\n",
            "[29]\tvalidation_0-logloss:0.563157\n",
            "[30]\tvalidation_0-logloss:0.562701\n",
            "[31]\tvalidation_0-logloss:0.562126\n",
            "[32]\tvalidation_0-logloss:0.563202\n",
            "[33]\tvalidation_0-logloss:0.562894\n",
            "[34]\tvalidation_0-logloss:0.564578\n",
            "[35]\tvalidation_0-logloss:0.564371\n",
            "[36]\tvalidation_0-logloss:0.565462\n",
            "[37]\tvalidation_0-logloss:0.565522\n",
            "[38]\tvalidation_0-logloss:0.565246\n",
            "Stopping. Best iteration:\n",
            "[28]\tvalidation_0-logloss:0.562102\n",
            "\n",
            "RMSE: 0.282\n",
            "Accuracy Score 0.718\n"
          ],
          "name": "stdout"
        },
        {
          "output_type": "stream",
          "text": [
            "/usr/local/lib/python3.7/dist-packages/sklearn/preprocessing/_label.py:235: DataConversionWarning: A column-vector y was passed when a 1d array was expected. Please change the shape of y to (n_samples, ), for example using ravel().\n",
            "  y = column_or_1d(y, warn=True)\n",
            "/usr/local/lib/python3.7/dist-packages/sklearn/preprocessing/_label.py:268: DataConversionWarning: A column-vector y was passed when a 1d array was expected. Please change the shape of y to (n_samples, ), for example using ravel().\n",
            "  y = column_or_1d(y, warn=True)\n"
          ],
          "name": "stderr"
        }
      ]
    },
    {
      "cell_type": "code",
      "metadata": {
        "colab": {
          "base_uri": "https://localhost:8080/"
        },
        "id": "DQdcRXH17h4d",
        "outputId": "f9373ddb-7695-4a9d-e20e-42a646d1e087"
      },
      "source": [
        "#Model 5\n",
        "rdg = RidgeClassifier(alpha = 0.1)\n",
        "rdg.fit(X, y)\n",
        "pred = rdg.predict(X_valid)\n",
        "print(\"RMSE:\", mean_squared_error(y_valid, pred))\n",
        "print(\"Accuracy Score\",accuracy_score(y_valid,pred))"
      ],
      "execution_count": 78,
      "outputs": [
        {
          "output_type": "stream",
          "text": [
            "RMSE: 0.286\n",
            "Accuracy Score 0.714\n"
          ],
          "name": "stdout"
        },
        {
          "output_type": "stream",
          "text": [
            "/usr/local/lib/python3.7/dist-packages/sklearn/linear_model/_ridge.py:940: DataConversionWarning: A column-vector y was passed when a 1d array was expected. Please change the shape of y to (n_samples, ), for example using ravel().\n",
            "  y = column_or_1d(y, warn=True)\n"
          ],
          "name": "stderr"
        }
      ]
    },
    {
      "cell_type": "code",
      "metadata": {
        "colab": {
          "base_uri": "https://localhost:8080/"
        },
        "id": "a-irjP0m8IA9",
        "outputId": "c8017b59-6b2b-456d-9da5-0bf57b54447d"
      },
      "source": [
        "#Model 6\n",
        "params = {\n",
        "    \"max_depth\": [i for i in range(2,6)],\n",
        "    \"learning_rate\":[0.01,0.001,0.0001,0.2,0.05,0.1],\n",
        "    \"min_child_weight\":[1,2,3,5,10],\n",
        "    \"n_estimators\":[50,100,200,300,500, 1000]\n",
        "    \n",
        "}\n",
        "xgbtry = RandomizedSearchCV(xgb.XGBRegressor(),param_grid)\n",
        "xgbtry.fit(X,y)\n",
        "y_pred = xgbtry.predict(X_valid)\n",
        "print(\"MSE\", mean_squared_error(y_valid, y_pred, squared=False))\n",
        "print(xgbtry.best_params_)\n"
      ],
      "execution_count": null,
      "outputs": [
        {
          "output_type": "stream",
          "text": [
            "[05:12:37] WARNING: /workspace/src/objective/regression_obj.cu:152: reg:linear is now deprecated in favor of reg:squarederror.\n",
            "[05:12:37] WARNING: /workspace/src/objective/regression_obj.cu:152: reg:linear is now deprecated in favor of reg:squarederror.\n",
            "[05:12:37] WARNING: /workspace/src/objective/regression_obj.cu:152: reg:linear is now deprecated in favor of reg:squarederror.\n",
            "[05:12:37] WARNING: /workspace/src/objective/regression_obj.cu:152: reg:linear is now deprecated in favor of reg:squarederror.\n",
            "[05:12:37] WARNING: /workspace/src/objective/regression_obj.cu:152: reg:linear is now deprecated in favor of reg:squarederror.\n",
            "[05:12:37] WARNING: /workspace/src/objective/regression_obj.cu:152: reg:linear is now deprecated in favor of reg:squarederror.\n",
            "[05:12:37] WARNING: /workspace/src/objective/regression_obj.cu:152: reg:linear is now deprecated in favor of reg:squarederror.\n",
            "[05:12:38] WARNING: /workspace/src/objective/regression_obj.cu:152: reg:linear is now deprecated in favor of reg:squarederror.\n",
            "[05:12:38] WARNING: /workspace/src/objective/regression_obj.cu:152: reg:linear is now deprecated in favor of reg:squarederror.\n",
            "[05:12:38] WARNING: /workspace/src/objective/regression_obj.cu:152: reg:linear is now deprecated in favor of reg:squarederror.\n",
            "[05:12:38] WARNING: /workspace/src/objective/regression_obj.cu:152: reg:linear is now deprecated in favor of reg:squarederror.\n",
            "[05:12:38] WARNING: /workspace/src/objective/regression_obj.cu:152: reg:linear is now deprecated in favor of reg:squarederror.\n",
            "[05:12:38] WARNING: /workspace/src/objective/regression_obj.cu:152: reg:linear is now deprecated in favor of reg:squarederror.\n",
            "[05:12:38] WARNING: /workspace/src/objective/regression_obj.cu:152: reg:linear is now deprecated in favor of reg:squarederror.\n",
            "[05:12:38] WARNING: /workspace/src/objective/regression_obj.cu:152: reg:linear is now deprecated in favor of reg:squarederror.\n",
            "[05:12:38] WARNING: /workspace/src/objective/regression_obj.cu:152: reg:linear is now deprecated in favor of reg:squarederror.\n",
            "[05:12:38] WARNING: /workspace/src/objective/regression_obj.cu:152: reg:linear is now deprecated in favor of reg:squarederror.\n",
            "[05:12:38] WARNING: /workspace/src/objective/regression_obj.cu:152: reg:linear is now deprecated in favor of reg:squarederror.\n",
            "[05:12:38] WARNING: /workspace/src/objective/regression_obj.cu:152: reg:linear is now deprecated in favor of reg:squarederror.\n",
            "[05:12:38] WARNING: /workspace/src/objective/regression_obj.cu:152: reg:linear is now deprecated in favor of reg:squarederror.\n",
            "[05:12:38] WARNING: /workspace/src/objective/regression_obj.cu:152: reg:linear is now deprecated in favor of reg:squarederror.\n",
            "[05:12:38] WARNING: /workspace/src/objective/regression_obj.cu:152: reg:linear is now deprecated in favor of reg:squarederror.\n",
            "[05:12:38] WARNING: /workspace/src/objective/regression_obj.cu:152: reg:linear is now deprecated in favor of reg:squarederror.\n",
            "[05:12:38] WARNING: /workspace/src/objective/regression_obj.cu:152: reg:linear is now deprecated in favor of reg:squarederror.\n",
            "[05:12:38] WARNING: /workspace/src/objective/regression_obj.cu:152: reg:linear is now deprecated in favor of reg:squarederror.\n",
            "[05:12:38] WARNING: /workspace/src/objective/regression_obj.cu:152: reg:linear is now deprecated in favor of reg:squarederror.\n",
            "[05:12:38] WARNING: /workspace/src/objective/regression_obj.cu:152: reg:linear is now deprecated in favor of reg:squarederror.\n",
            "[05:12:38] WARNING: /workspace/src/objective/regression_obj.cu:152: reg:linear is now deprecated in favor of reg:squarederror.\n",
            "[05:12:38] WARNING: /workspace/src/objective/regression_obj.cu:152: reg:linear is now deprecated in favor of reg:squarederror.\n",
            "[05:12:38] WARNING: /workspace/src/objective/regression_obj.cu:152: reg:linear is now deprecated in favor of reg:squarederror.\n",
            "[05:12:39] WARNING: /workspace/src/objective/regression_obj.cu:152: reg:linear is now deprecated in favor of reg:squarederror.\n",
            "[05:12:39] WARNING: /workspace/src/objective/regression_obj.cu:152: reg:linear is now deprecated in favor of reg:squarederror.\n",
            "[05:12:39] WARNING: /workspace/src/objective/regression_obj.cu:152: reg:linear is now deprecated in favor of reg:squarederror.\n",
            "[05:12:39] WARNING: /workspace/src/objective/regression_obj.cu:152: reg:linear is now deprecated in favor of reg:squarederror.\n",
            "[05:12:39] WARNING: /workspace/src/objective/regression_obj.cu:152: reg:linear is now deprecated in favor of reg:squarederror.\n",
            "[05:12:39] WARNING: /workspace/src/objective/regression_obj.cu:152: reg:linear is now deprecated in favor of reg:squarederror.\n",
            "[05:12:39] WARNING: /workspace/src/objective/regression_obj.cu:152: reg:linear is now deprecated in favor of reg:squarederror.\n",
            "[05:12:39] WARNING: /workspace/src/objective/regression_obj.cu:152: reg:linear is now deprecated in favor of reg:squarederror.\n",
            "[05:12:39] WARNING: /workspace/src/objective/regression_obj.cu:152: reg:linear is now deprecated in favor of reg:squarederror.\n",
            "[05:12:39] WARNING: /workspace/src/objective/regression_obj.cu:152: reg:linear is now deprecated in favor of reg:squarederror.\n",
            "[05:12:39] WARNING: /workspace/src/objective/regression_obj.cu:152: reg:linear is now deprecated in favor of reg:squarederror.\n",
            "[05:12:39] WARNING: /workspace/src/objective/regression_obj.cu:152: reg:linear is now deprecated in favor of reg:squarederror.\n",
            "[05:12:39] WARNING: /workspace/src/objective/regression_obj.cu:152: reg:linear is now deprecated in favor of reg:squarederror.\n",
            "[05:12:39] WARNING: /workspace/src/objective/regression_obj.cu:152: reg:linear is now deprecated in favor of reg:squarederror.\n",
            "[05:12:39] WARNING: /workspace/src/objective/regression_obj.cu:152: reg:linear is now deprecated in favor of reg:squarederror.\n",
            "[05:12:39] WARNING: /workspace/src/objective/regression_obj.cu:152: reg:linear is now deprecated in favor of reg:squarederror.\n",
            "[05:12:39] WARNING: /workspace/src/objective/regression_obj.cu:152: reg:linear is now deprecated in favor of reg:squarederror.\n",
            "[05:12:39] WARNING: /workspace/src/objective/regression_obj.cu:152: reg:linear is now deprecated in favor of reg:squarederror.\n",
            "[05:12:39] WARNING: /workspace/src/objective/regression_obj.cu:152: reg:linear is now deprecated in favor of reg:squarederror.\n",
            "[05:12:39] WARNING: /workspace/src/objective/regression_obj.cu:152: reg:linear is now deprecated in favor of reg:squarederror.\n",
            "[05:12:39] WARNING: /workspace/src/objective/regression_obj.cu:152: reg:linear is now deprecated in favor of reg:squarederror.\n",
            "MSE 0.4517500500921425\n",
            "{'classifier__n_estimators': 20, 'classifier__max_features': 21, 'classifier': RandomForestClassifier(bootstrap=True, ccp_alpha=0.0, class_weight=None,\n",
            "                       criterion='gini', max_depth=None, max_features=6,\n",
            "                       max_leaf_nodes=None, max_samples=None,\n",
            "                       min_impurity_decrease=0.0, min_impurity_split=None,\n",
            "                       min_samples_leaf=1, min_samples_split=2,\n",
            "                       min_weight_fraction_leaf=0.0, n_estimators=20,\n",
            "                       n_jobs=None, oob_score=False, random_state=None,\n",
            "                       verbose=0, warm_start=False)}\n"
          ],
          "name": "stdout"
        }
      ]
    },
    {
      "cell_type": "code",
      "metadata": {
        "colab": {
          "base_uri": "https://localhost:8080/"
        },
        "id": "Rx2_4HcrEqQo",
        "outputId": "1ac55c00-a183-41a0-a0b1-ccca6e22e0e0"
      },
      "source": [
        "xgb_final1 = xgb.XGBRegressor(subsample=  0.8, n_estimators= 200, min_child_weight= 5, max_depth= 5, learning_rate= 0.01, gamma= 1, colsample_by_tree= 0.6)\n",
        "xgb_final1.fit(X,y)\n",
        "print(\"Accuracy Score\", accuracy_score(pd.Series([round(i) for i in xgb_final1.predict(X_valid).tolist()]),y_valid))\n",
        "print(\"rmse\", mean_squared_error(xgb_final1.predict(X_valid),y_valid))"
      ],
      "execution_count": 79,
      "outputs": [
        {
          "output_type": "stream",
          "text": [
            "[06:29:03] WARNING: /workspace/src/objective/regression_obj.cu:152: reg:linear is now deprecated in favor of reg:squarederror.\n",
            "Accuracy Score 0.73\n",
            "rmse 0.18869203392541273\n"
          ],
          "name": "stdout"
        }
      ]
    },
    {
      "cell_type": "code",
      "metadata": {
        "colab": {
          "base_uri": "https://localhost:8080/",
          "height": 745
        },
        "id": "wPMsy3r98v0G",
        "outputId": "413273dd-5095-48b6-82f9-8b88675ac09d"
      },
      "source": [
        "# Submitted model in Kaggle\n",
        "xgb_final = xgb.XGBRegressor(subsample=  0.8, n_estimators= 200, min_child_weight= 5, max_depth= 5, learning_rate= 0.01, gamma= 1, colsample_by_tree= 0.6)\n",
        "xgb_final.fit(X,y)\n",
        "y_pred = xgb_final.predict(X_test)\n",
        "valid_df = cardio_test_copy[[\"id\"]]\n",
        "valid_df[\"cardio\"] = pd.Series(y_pred)\n",
        "valid_df[\"id\"] = valid_df[\"id\"].astype(\"int\")\n",
        "valid_df[\"cardio\"] = valid_df[\"cardio\"]\n",
        "valid_df.to_csv(\"xgb.csv\")\n",
        "valid_df"
      ],
      "execution_count": 62,
      "outputs": [
        {
          "output_type": "stream",
          "text": [
            "[05:50:18] WARNING: /workspace/src/objective/regression_obj.cu:152: reg:linear is now deprecated in favor of reg:squarederror.\n"
          ],
          "name": "stdout"
        },
        {
          "output_type": "stream",
          "text": [
            "/usr/local/lib/python3.7/dist-packages/ipykernel_launcher.py:6: SettingWithCopyWarning: \n",
            "A value is trying to be set on a copy of a slice from a DataFrame.\n",
            "Try using .loc[row_indexer,col_indexer] = value instead\n",
            "\n",
            "See the caveats in the documentation: https://pandas.pydata.org/pandas-docs/stable/user_guide/indexing.html#returning-a-view-versus-a-copy\n",
            "  \n",
            "/usr/local/lib/python3.7/dist-packages/ipykernel_launcher.py:7: SettingWithCopyWarning: \n",
            "A value is trying to be set on a copy of a slice from a DataFrame.\n",
            "Try using .loc[row_indexer,col_indexer] = value instead\n",
            "\n",
            "See the caveats in the documentation: https://pandas.pydata.org/pandas-docs/stable/user_guide/indexing.html#returning-a-view-versus-a-copy\n",
            "  import sys\n",
            "/usr/local/lib/python3.7/dist-packages/ipykernel_launcher.py:8: SettingWithCopyWarning: \n",
            "A value is trying to be set on a copy of a slice from a DataFrame.\n",
            "Try using .loc[row_indexer,col_indexer] = value instead\n",
            "\n",
            "See the caveats in the documentation: https://pandas.pydata.org/pandas-docs/stable/user_guide/indexing.html#returning-a-view-versus-a-copy\n",
            "  \n"
          ],
          "name": "stderr"
        },
        {
          "output_type": "execute_result",
          "data": {
            "text/html": [
              "<div>\n",
              "<style scoped>\n",
              "    .dataframe tbody tr th:only-of-type {\n",
              "        vertical-align: middle;\n",
              "    }\n",
              "\n",
              "    .dataframe tbody tr th {\n",
              "        vertical-align: top;\n",
              "    }\n",
              "\n",
              "    .dataframe thead th {\n",
              "        text-align: right;\n",
              "    }\n",
              "</style>\n",
              "<table border=\"1\" class=\"dataframe\">\n",
              "  <thead>\n",
              "    <tr style=\"text-align: right;\">\n",
              "      <th></th>\n",
              "      <th>id</th>\n",
              "      <th>cardio</th>\n",
              "    </tr>\n",
              "  </thead>\n",
              "  <tbody>\n",
              "    <tr>\n",
              "      <th>0</th>\n",
              "      <td>47997</td>\n",
              "      <td>0.151767</td>\n",
              "    </tr>\n",
              "    <tr>\n",
              "      <th>1</th>\n",
              "      <td>15311</td>\n",
              "      <td>0.168706</td>\n",
              "    </tr>\n",
              "    <tr>\n",
              "      <th>2</th>\n",
              "      <td>44269</td>\n",
              "      <td>0.732722</td>\n",
              "    </tr>\n",
              "    <tr>\n",
              "      <th>3</th>\n",
              "      <td>91373</td>\n",
              "      <td>0.722398</td>\n",
              "    </tr>\n",
              "    <tr>\n",
              "      <th>4</th>\n",
              "      <td>9686</td>\n",
              "      <td>0.677392</td>\n",
              "    </tr>\n",
              "    <tr>\n",
              "      <th>...</th>\n",
              "      <td>...</td>\n",
              "      <td>...</td>\n",
              "    </tr>\n",
              "    <tr>\n",
              "      <th>245</th>\n",
              "      <td>46137</td>\n",
              "      <td>0.142340</td>\n",
              "    </tr>\n",
              "    <tr>\n",
              "      <th>246</th>\n",
              "      <td>58058</td>\n",
              "      <td>0.714665</td>\n",
              "    </tr>\n",
              "    <tr>\n",
              "      <th>247</th>\n",
              "      <td>30608</td>\n",
              "      <td>0.194462</td>\n",
              "    </tr>\n",
              "    <tr>\n",
              "      <th>248</th>\n",
              "      <td>83845</td>\n",
              "      <td>0.464409</td>\n",
              "    </tr>\n",
              "    <tr>\n",
              "      <th>249</th>\n",
              "      <td>1285</td>\n",
              "      <td>0.696263</td>\n",
              "    </tr>\n",
              "  </tbody>\n",
              "</table>\n",
              "<p>250 rows × 2 columns</p>\n",
              "</div>"
            ],
            "text/plain": [
              "        id    cardio\n",
              "0    47997  0.151767\n",
              "1    15311  0.168706\n",
              "2    44269  0.732722\n",
              "3    91373  0.722398\n",
              "4     9686  0.677392\n",
              "..     ...       ...\n",
              "245  46137  0.142340\n",
              "246  58058  0.714665\n",
              "247  30608  0.194462\n",
              "248  83845  0.464409\n",
              "249   1285  0.696263\n",
              "\n",
              "[250 rows x 2 columns]"
            ]
          },
          "metadata": {
            "tags": []
          },
          "execution_count": 62
        }
      ]
    },
    {
      "cell_type": "code",
      "metadata": {
        "colab": {
          "base_uri": "https://localhost:8080/"
        },
        "id": "NvbY4Bq3-m0j",
        "outputId": "1c8341ef-49b6-4054-8bba-ef61bf88c6bf"
      },
      "source": [
        "#m. At least one of the models used to compute should be your own implementation using NumPy.\n",
        "class MyRegression_logistic() :\n",
        "\tdef __init__( self, lr, n ) :\t\t\n",
        "\t\tself.lr = lr\t\t\n",
        "\t\tself.n = n\n",
        "\t\t\n",
        "\tdef find( self, X ) :\t\n",
        "\t\tpredd = 1 / ( 1 + np.exp( - ( X.dot( self.weight ) + self.intercept ) ) )\t\t\n",
        "\t\treturn np.where( predd > 0.5, 1, 0 )\t\n",
        "  \n",
        "\tdef train( self, X, Y ) :\t\t\t\n",
        "\t\tself.slope, self.sn = X.shape\t\t\n",
        "\t\tself.weight = np.zeros( self.sn )\t\t\n",
        "\t\tself.intercept = 0\t\t\n",
        "\t\tself.X = X\t\t\n",
        "\t\tself.Y = Y\n",
        "\t\tfor i in range( self.n ) :\t\t\t\n",
        "\t\t\tself.weight_updation()\t\t\t\n",
        "\t\treturn self\n",
        "\t\n",
        "\t\n",
        "\tdef weight_updation( self ) :\t\t\n",
        "\t\tval = 1 / ( 1 + np.exp( - ( self.X.dot( self.weight) + self.intercept) ) )\n",
        "\t\tpmt = ( val - self.Y.T )\t\t\n",
        "\t\tpmt = np.reshape( pmt, self.slope )\t\t\n",
        "\t\tdffwe = np.dot( self.X.T, pmt ) / self.slope\t\n",
        "\t\tdffint = np.sum( pmt ) / self.slope\n",
        "\t\n",
        "\t\tself.weight= self.weight - self.lr * dffwe\n",
        "\t\tself.intercept = self.intercept - self.lr * dffint\t\t\n",
        "\t\treturn self\n",
        "\n",
        "\n",
        "X_tmp = X.values\n",
        "Y_tmp = y.values\n",
        "\n",
        "X_train, X_test, Y_train, Y_test = train_test_split(X_tmp,Y_tmp , test_size =0.2)\n",
        "model = MyRegression_logistic( 0.1,500 )\n",
        "model.train( X_train, Y_train )\t\n",
        "Y_pred = model.find( X_valid )\t\n",
        "print(\"RMSE\", mean_squared_error(y_valid,Y_pred))"
      ],
      "execution_count": null,
      "outputs": [
        {
          "output_type": "stream",
          "text": [
            "RMSE 0.516\n"
          ],
          "name": "stdout"
        },
        {
          "output_type": "stream",
          "text": [
            "/usr/local/lib/python3.7/dist-packages/ipykernel_launcher.py:24: RuntimeWarning: overflow encountered in exp\n"
          ],
          "name": "stderr"
        }
      ]
    },
    {
      "cell_type": "code",
      "metadata": {
        "colab": {
          "base_uri": "https://localhost:8080/",
          "height": 35
        },
        "id": "JyymSPRaA-T5",
        "outputId": "a440b8a3-e1d3-405d-c0d2-7324d97b677c"
      },
      "source": [
        "#n. Upload your test data predictions to Kaggle competition in the correct submission format.\n",
        "\"\"\"\n",
        "Uploaded file in Kaggle\n",
        "\"\"\""
      ],
      "execution_count": null,
      "outputs": [
        {
          "output_type": "execute_result",
          "data": {
            "application/vnd.google.colaboratory.intrinsic+json": {
              "type": "string"
            },
            "text/plain": [
              "'\\nUploaded file in Kaggle\\n'"
            ]
          },
          "metadata": {
            "tags": []
          },
          "execution_count": 34
        }
      ]
    },
    {
      "cell_type": "code",
      "metadata": {
        "id": "IOIrTCKgBEd8"
      },
      "source": [
        "#Use the cardio-validation.csv and cardio-train.csv as well to make your final prediction.\n",
        "\"\"\"\n",
        "Used cardio_train for training the dataset. Cardio_validation file is for validation and predict mean squared error\n",
        "\"\"\""
      ],
      "execution_count": null,
      "outputs": []
    },
    {
      "cell_type": "code",
      "metadata": {
        "colab": {
          "base_uri": "https://localhost:8080/",
          "height": 487
        },
        "id": "seq2GCg6uxRj",
        "outputId": "b70c79d6-0ef1-4bd3-8622-9ad8e0321d86"
      },
      "source": [
        "# Task2\n",
        "cardio_complete = pd.read_csv(\"/content/drive/MyDrive/ML/Lab1/cardio-complete .csv\")\n",
        "cardio_complete"
      ],
      "execution_count": null,
      "outputs": [
        {
          "output_type": "execute_result",
          "data": {
            "text/html": [
              "<div>\n",
              "<style scoped>\n",
              "    .dataframe tbody tr th:only-of-type {\n",
              "        vertical-align: middle;\n",
              "    }\n",
              "\n",
              "    .dataframe tbody tr th {\n",
              "        vertical-align: top;\n",
              "    }\n",
              "\n",
              "    .dataframe thead th {\n",
              "        text-align: right;\n",
              "    }\n",
              "</style>\n",
              "<table border=\"1\" class=\"dataframe\">\n",
              "  <thead>\n",
              "    <tr style=\"text-align: right;\">\n",
              "      <th></th>\n",
              "      <th>id</th>\n",
              "      <th>age</th>\n",
              "      <th>gender</th>\n",
              "      <th>height</th>\n",
              "      <th>weight</th>\n",
              "      <th>ap_hi</th>\n",
              "      <th>ap_lo</th>\n",
              "      <th>cholesterol</th>\n",
              "      <th>gluc</th>\n",
              "      <th>smoke</th>\n",
              "      <th>alco</th>\n",
              "      <th>active</th>\n",
              "      <th>cardio</th>\n",
              "    </tr>\n",
              "  </thead>\n",
              "  <tbody>\n",
              "    <tr>\n",
              "      <th>0</th>\n",
              "      <td>66667</td>\n",
              "      <td>20252</td>\n",
              "      <td>Women</td>\n",
              "      <td>161</td>\n",
              "      <td>62.0</td>\n",
              "      <td>140</td>\n",
              "      <td>90</td>\n",
              "      <td>High</td>\n",
              "      <td>High</td>\n",
              "      <td>0</td>\n",
              "      <td>0</td>\n",
              "      <td>1</td>\n",
              "      <td>1</td>\n",
              "    </tr>\n",
              "    <tr>\n",
              "      <th>1</th>\n",
              "      <td>22956</td>\n",
              "      <td>21129</td>\n",
              "      <td>Men</td>\n",
              "      <td>166</td>\n",
              "      <td>66.0</td>\n",
              "      <td>125</td>\n",
              "      <td>70</td>\n",
              "      <td>Normal</td>\n",
              "      <td>Normal</td>\n",
              "      <td>1</td>\n",
              "      <td>0</td>\n",
              "      <td>1</td>\n",
              "      <td>0</td>\n",
              "    </tr>\n",
              "    <tr>\n",
              "      <th>2</th>\n",
              "      <td>40536</td>\n",
              "      <td>16602</td>\n",
              "      <td>Men</td>\n",
              "      <td>160</td>\n",
              "      <td>74.0</td>\n",
              "      <td>140</td>\n",
              "      <td>90</td>\n",
              "      <td>Normal</td>\n",
              "      <td>Normal</td>\n",
              "      <td>0</td>\n",
              "      <td>0</td>\n",
              "      <td>1</td>\n",
              "      <td>0</td>\n",
              "    </tr>\n",
              "    <tr>\n",
              "      <th>3</th>\n",
              "      <td>39712</td>\n",
              "      <td>15172</td>\n",
              "      <td>Men</td>\n",
              "      <td>167</td>\n",
              "      <td>77.0</td>\n",
              "      <td>120</td>\n",
              "      <td>80</td>\n",
              "      <td>Normal</td>\n",
              "      <td>Normal</td>\n",
              "      <td>0</td>\n",
              "      <td>0</td>\n",
              "      <td>1</td>\n",
              "      <td>0</td>\n",
              "    </tr>\n",
              "    <tr>\n",
              "      <th>4</th>\n",
              "      <td>82165</td>\n",
              "      <td>19858</td>\n",
              "      <td>Women</td>\n",
              "      <td>176</td>\n",
              "      <td>93.0</td>\n",
              "      <td>140</td>\n",
              "      <td>90</td>\n",
              "      <td>Above Normal</td>\n",
              "      <td>Normal</td>\n",
              "      <td>0</td>\n",
              "      <td>1</td>\n",
              "      <td>1</td>\n",
              "      <td>1</td>\n",
              "    </tr>\n",
              "    <tr>\n",
              "      <th>...</th>\n",
              "      <td>...</td>\n",
              "      <td>...</td>\n",
              "      <td>...</td>\n",
              "      <td>...</td>\n",
              "      <td>...</td>\n",
              "      <td>...</td>\n",
              "      <td>...</td>\n",
              "      <td>...</td>\n",
              "      <td>...</td>\n",
              "      <td>...</td>\n",
              "      <td>...</td>\n",
              "      <td>...</td>\n",
              "      <td>...</td>\n",
              "    </tr>\n",
              "    <tr>\n",
              "      <th>995</th>\n",
              "      <td>76265</td>\n",
              "      <td>18350</td>\n",
              "      <td>Men</td>\n",
              "      <td>152</td>\n",
              "      <td>61.0</td>\n",
              "      <td>114</td>\n",
              "      <td>69</td>\n",
              "      <td>Normal</td>\n",
              "      <td>Normal</td>\n",
              "      <td>0</td>\n",
              "      <td>0</td>\n",
              "      <td>1</td>\n",
              "      <td>0</td>\n",
              "    </tr>\n",
              "    <tr>\n",
              "      <th>996</th>\n",
              "      <td>69962</td>\n",
              "      <td>19774</td>\n",
              "      <td>Men</td>\n",
              "      <td>153</td>\n",
              "      <td>83.0</td>\n",
              "      <td>120</td>\n",
              "      <td>80</td>\n",
              "      <td>Normal</td>\n",
              "      <td>Normal</td>\n",
              "      <td>0</td>\n",
              "      <td>0</td>\n",
              "      <td>1</td>\n",
              "      <td>0</td>\n",
              "    </tr>\n",
              "    <tr>\n",
              "      <th>997</th>\n",
              "      <td>18316</td>\n",
              "      <td>22497</td>\n",
              "      <td>Women</td>\n",
              "      <td>161</td>\n",
              "      <td>75.0</td>\n",
              "      <td>130</td>\n",
              "      <td>90</td>\n",
              "      <td>Above Normal</td>\n",
              "      <td>Normal</td>\n",
              "      <td>1</td>\n",
              "      <td>1</td>\n",
              "      <td>1</td>\n",
              "      <td>1</td>\n",
              "    </tr>\n",
              "    <tr>\n",
              "      <th>998</th>\n",
              "      <td>19485</td>\n",
              "      <td>21043</td>\n",
              "      <td>Men</td>\n",
              "      <td>162</td>\n",
              "      <td>88.0</td>\n",
              "      <td>130</td>\n",
              "      <td>100</td>\n",
              "      <td>Above Normal</td>\n",
              "      <td>Normal</td>\n",
              "      <td>0</td>\n",
              "      <td>0</td>\n",
              "      <td>1</td>\n",
              "      <td>1</td>\n",
              "    </tr>\n",
              "    <tr>\n",
              "      <th>999</th>\n",
              "      <td>28090</td>\n",
              "      <td>14546</td>\n",
              "      <td>Men</td>\n",
              "      <td>120</td>\n",
              "      <td>80.0</td>\n",
              "      <td>120</td>\n",
              "      <td>80</td>\n",
              "      <td>Normal</td>\n",
              "      <td>Normal</td>\n",
              "      <td>0</td>\n",
              "      <td>0</td>\n",
              "      <td>0</td>\n",
              "      <td>1</td>\n",
              "    </tr>\n",
              "  </tbody>\n",
              "</table>\n",
              "<p>1000 rows × 13 columns</p>\n",
              "</div>"
            ],
            "text/plain": [
              "        id    age gender  height  weight  ...    gluc  smoke alco active  cardio\n",
              "0    66667  20252  Women     161    62.0  ...    High      0    0      1       1\n",
              "1    22956  21129    Men     166    66.0  ...  Normal      1    0      1       0\n",
              "2    40536  16602    Men     160    74.0  ...  Normal      0    0      1       0\n",
              "3    39712  15172    Men     167    77.0  ...  Normal      0    0      1       0\n",
              "4    82165  19858  Women     176    93.0  ...  Normal      0    1      1       1\n",
              "..     ...    ...    ...     ...     ...  ...     ...    ...  ...    ...     ...\n",
              "995  76265  18350    Men     152    61.0  ...  Normal      0    0      1       0\n",
              "996  69962  19774    Men     153    83.0  ...  Normal      0    0      1       0\n",
              "997  18316  22497  Women     161    75.0  ...  Normal      1    1      1       1\n",
              "998  19485  21043    Men     162    88.0  ...  Normal      0    0      1       1\n",
              "999  28090  14546    Men     120    80.0  ...  Normal      0    0      0       1\n",
              "\n",
              "[1000 rows x 13 columns]"
            ]
          },
          "metadata": {
            "tags": []
          },
          "execution_count": 35
        }
      ]
    },
    {
      "cell_type": "code",
      "metadata": {
        "id": "hnz8iPT26xux"
      },
      "source": [
        "label_encoder_x = LabelEncoder()\n",
        "cardio_complete[\"cholesterol\"] = label_encoder_x.fit_transform(cardio_complete[\"cholesterol\"])\n",
        "cardio_complete[\"gluc\"] = label_encoder_x.fit_transform(cardio_complete[\"gluc\"])\n",
        "cardio_complete[\"gender\"] = label_encoder_x.fit_transform(cardio_complete[\"gender\"])\n",
        "X = cardio_complete.drop([\"id\",\"cardio\"], axis=1)\n",
        "y= cardio_complete[[\"cardio\"]]\n",
        "x_train, x_test, y_train, y_test = train_test_split(X,y, test_size=0.2, random_state=1)\n",
        "scaler = StandardScaler()\n",
        "x_train_scaled =  pd.DataFrame(scaler.fit_transform(x_train), columns=X.columns)\n",
        "x_test_scaled = pd.DataFrame(scaler.fit_transform(x_test), columns=X.columns)"
      ],
      "execution_count": null,
      "outputs": []
    },
    {
      "cell_type": "code",
      "metadata": {
        "colab": {
          "base_uri": "https://localhost:8080/",
          "height": 159
        },
        "id": "i4POSRvmHOUT",
        "outputId": "3fdb8c65-a4a3-466f-8a5b-d274458b8ce9"
      },
      "source": [
        "model = RidgeClassifier(alpha=0.5)\n",
        "alpha = [0.1, 0.2, 0.3, 0.4, 0.5, 0.6, 0.7, 0.8, 0.9, 1.0]\n",
        "# define grid search\n",
        "grid = dict(alpha=alpha)\n",
        "cv = RepeatedStratifiedKFold(n_splits=10, n_repeats=3, random_state=1)\n",
        "grid_search1 = GridSearchCV(estimator=model, param_grid=grid, n_jobs=-1, cv=cv, scoring='accuracy',error_score=0)\n",
        "grid_result = grid_search1.fit(x_train_scaled, y_train)\n",
        "pred = grid_search1.predict(x_test_scaled)\n",
        "print(\"Accuracy Score:\", accuracy_score(y_test,pred))\n",
        "print(\"RMSE:\", sqrt(mean_squared_error(y_test, pred)))\n",
        "\n",
        "\"\"\"\n",
        "Comments and Observations:\n",
        "For the task A, Ridge classifier provided me with lower rmse after xgbregressor.\n",
        "Also, Ridgeclassifier helps in preventing overfitting. Hence I chose RidgeRegressor.\n",
        "\n",
        "\n",
        "\"\"\""
      ],
      "execution_count": null,
      "outputs": [
        {
          "output_type": "stream",
          "text": [
            "Accuracy Score: 0.74\n",
            "RMSE: 0.5099019513592785\n"
          ],
          "name": "stdout"
        },
        {
          "output_type": "stream",
          "text": [
            "/usr/local/lib/python3.7/dist-packages/sklearn/linear_model/_ridge.py:940: DataConversionWarning: A column-vector y was passed when a 1d array was expected. Please change the shape of y to (n_samples, ), for example using ravel().\n",
            "  y = column_or_1d(y, warn=True)\n"
          ],
          "name": "stderr"
        },
        {
          "output_type": "execute_result",
          "data": {
            "application/vnd.google.colaboratory.intrinsic+json": {
              "type": "string"
            },
            "text/plain": [
              "'\\nComments and Observations:\\nFor the task A, Ridge classifier provided me with lower rmse after xgbregressor.\\nAlso, Ridgeclassifier helps in preventing overfitting. Hence I chose RidgeRegressor.\\n\\n\\n'"
            ]
          },
          "metadata": {
            "tags": []
          },
          "execution_count": 38
        }
      ]
    },
    {
      "cell_type": "code",
      "metadata": {
        "colab": {
          "base_uri": "https://localhost:8080/",
          "height": 365
        },
        "id": "LqYU6hi7Jbk1",
        "outputId": "f8d2caa9-e7f3-48b5-ec57-c54e6db06a11"
      },
      "source": [
        "# 3. Compare your prediction result with the first technique.\n",
        "# Ridge Regression\n",
        "sns.heatmap(confusion_matrix(y_test, pred, labels=[0,1]), annot=True, fmt=\".0f\", cmap=\"Blues\")"
      ],
      "execution_count": null,
      "outputs": [
        {
          "output_type": "execute_result",
          "data": {
            "text/plain": [
              "<matplotlib.axes._subplots.AxesSubplot at 0x7fd581db1c50>"
            ]
          },
          "metadata": {
            "tags": []
          },
          "execution_count": 39
        },
        {
          "output_type": "display_data",
          "data": {
            "image/png": "[encoded data removed]",
            "text/plain": [
              "<Figure size 576x396 with 2 Axes>"
            ]
          },
          "metadata": {
            "tags": []
          }
        }
      ]
    },
    {
      "cell_type": "code",
      "metadata": {
        "colab": {
          "base_uri": "https://localhost:8080/"
        },
        "id": "1yHGuMsKJdvE",
        "outputId": "d7125c1e-69dd-4de2-efb7-a6eeba8f03f7"
      },
      "source": [
        "# Classification report for ridge regression\n",
        "print(classification_report(y_test,pred, labels=[0,1]))"
      ],
      "execution_count": null,
      "outputs": [
        {
          "output_type": "stream",
          "text": [
            "              precision    recall  f1-score   support\n",
            "\n",
            "           0       0.70      0.79      0.74        95\n",
            "           1       0.78      0.70      0.74       105\n",
            "\n",
            "    accuracy                           0.74       200\n",
            "   macro avg       0.74      0.74      0.74       200\n",
            "weighted avg       0.75      0.74      0.74       200\n",
            "\n"
          ],
          "name": "stdout"
        }
      ]
    },
    {
      "cell_type": "code",
      "metadata": {
        "colab": {
          "base_uri": "https://localhost:8080/"
        },
        "id": "oKs7poA4J3Je",
        "outputId": "9d289a1e-bfd7-4830-f0ae-063feeb9f6c9"
      },
      "source": [
        "#Comparing it with the first technique\n",
        "gd= xgb.XGBRegressor(subsample=  0.8, n_estimators= 200, min_child_weight= 5, max_depth= 5, learning_rate= 0.01, gamma= 1, colsample_by_tree= 0.6)\n",
        "grid_result = gd.fit(x_train_scaled, y_train)\n",
        "pred = gd.predict(x_test_scaled)\n",
        "pred1 = pred.tolist()\n",
        "pred1 = [round(i) for i in pred1]\n",
        "pred1 = pd.Series(pred1)\n"
      ],
      "execution_count": null,
      "outputs": [
        {
          "output_type": "stream",
          "text": [
            "[05:40:00] WARNING: /workspace/src/objective/regression_obj.cu:152: reg:linear is now deprecated in favor of reg:squarederror.\n"
          ],
          "name": "stdout"
        }
      ]
    },
    {
      "cell_type": "code",
      "metadata": {
        "colab": {
          "base_uri": "https://localhost:8080/",
          "height": 365
        },
        "id": "GdojGiPfIXas",
        "outputId": "fb4e1c72-f73a-4bbd-d12d-1c380b04a560"
      },
      "source": [
        "# Confusion Matrix\n",
        "sns.heatmap(confusion_matrix(y_test, pred1, labels=[0,1]), annot=True, fmt=\".0f\", cmap=\"Blues\")\n"
      ],
      "execution_count": null,
      "outputs": [
        {
          "output_type": "execute_result",
          "data": {
            "text/plain": [
              "<matplotlib.axes._subplots.AxesSubplot at 0x7fd5817790d0>"
            ]
          },
          "metadata": {
            "tags": []
          },
          "execution_count": 45
        },
        {
          "output_type": "display_data",
          "data": {
            "image/png": "[encoded data removed]",
            "text/plain": [
              "<Figure size 576x396 with 2 Axes>"
            ]
          },
          "metadata": {
            "tags": []
          }
        }
      ]
    },
    {
      "cell_type": "code",
      "metadata": {
        "colab": {
          "base_uri": "https://localhost:8080/"
        },
        "id": "CvYYex9aJqKH",
        "outputId": "300163a3-49bf-4aa5-e134-42173507ce2a"
      },
      "source": [
        "print(classification_report(y_test,pred1, labels=[0,1]))"
      ],
      "execution_count": null,
      "outputs": [
        {
          "output_type": "stream",
          "text": [
            "              precision    recall  f1-score   support\n",
            "\n",
            "           0       0.65      0.75      0.69        95\n",
            "           1       0.73      0.63      0.68       105\n",
            "\n",
            "    accuracy                           0.69       200\n",
            "   macro avg       0.69      0.69      0.68       200\n",
            "weighted avg       0.69      0.69      0.68       200\n",
            "\n"
          ],
          "name": "stdout"
        }
      ]
    },
    {
      "cell_type": "code",
      "metadata": {
        "colab": {
          "base_uri": "https://localhost:8080/",
          "height": 87
        },
        "id": "0BFcXYrXN4F9",
        "outputId": "ac1949ea-cbfd-4756-b968-cf71750a52c2"
      },
      "source": [
        "\"\"\"\n",
        "Comments and Observations:\n",
        "\n",
        "Among Ridge Classifier and XgbRegressor, Ridge classifier seems to be the good fit for cardio_validation dataset.\n",
        "From classification report and confusion matrix,we could infer that\n",
        "1)Accuracy is great in Ridge\n",
        "2) True positives and True Negative classification is higher in Ridge.\n",
        "\"\"\""
      ],
      "execution_count": null,
      "outputs": [
        {
          "output_type": "execute_result",
          "data": {
            "application/vnd.google.colaboratory.intrinsic+json": {
              "type": "string"
            },
            "text/plain": [
              "'\\nComments and Observations:\\n\\nAmong Ridge Classifier and XgbRegressor, Ridge classifier seems to be the good fit for cardio_validation dataset.\\nFrom classification report and confusion matrix,we could infer that\\n1)Accuracy is great in Ridge\\n2) True positives and True Negative classification is higher in Ridge.\\n'"
            ]
          },
          "metadata": {
            "tags": []
          },
          "execution_count": 47
        }
      ]
    },
    {
      "cell_type": "code",
      "metadata": {
        "colab": {
          "base_uri": "https://localhost:8080/",
          "height": 70
        },
        "id": "6HGU6nzfKnGy",
        "outputId": "3e0cb742-a0d7-4b54-f9d5-2bf3a2447dad"
      },
      "source": [
        "# Task 3\n",
        "poly = PolynomialFeatures(degree=3)\n",
        "model = xgb.XGBRegressor(subsample=  0.8, n_estimators= 200, min_child_weight= 5, max_depth= 5, learning_rate= 0.01, gamma= 1, colsample_by_tree= 0.6)\n",
        "X_ = poly.fit_transform(X)\n",
        "X_valid_ = poly.fit_transform(X_valid)\n",
        "model.fit(X_, y)\n",
        "y_pred = model.predict(X_valid_)\n",
        "print(\"Accuracy\", accuracy_score(pd.Series([round(i) for i in y_pred.tolist()]),y_valid))\n",
        "\n",
        "\n",
        "\"\"\"\n",
        "Comments and Observations:\n",
        "Adding polynomial feature decreases the accuracy.\n",
        "\n",
        "\"\"\""
      ],
      "execution_count": 68,
      "outputs": [
        {
          "output_type": "stream",
          "text": [
            "[05:59:02] WARNING: /workspace/src/objective/regression_obj.cu:152: reg:linear is now deprecated in favor of reg:squarederror.\n",
            "Accuracy 0.69\n"
          ],
          "name": "stdout"
        },
        {
          "output_type": "execute_result",
          "data": {
            "application/vnd.google.colaboratory.intrinsic+json": {
              "type": "string"
            },
            "text/plain": [
              "'\\nComments and Observations:\\nAdding polynomial feature decreases the accuracy.\\n\\n'"
            ]
          },
          "metadata": {
            "tags": []
          },
          "execution_count": 68
        }
      ]
    },
    {
      "cell_type": "code",
      "metadata": {
        "colab": {
          "base_uri": "https://localhost:8080/",
          "height": 402
        },
        "id": "kiXOWMDTPnDC",
        "outputId": "848febb7-cfe0-44ab-9d29-863374d472c7"
      },
      "source": [
        "from sklearn.model_selection import learning_curve\n",
        "from sklearn.model_selection import ShuffleSplit\n",
        "import numpy as np\n",
        "from sklearn.linear_model import LinearRegression, LogisticRegression\n",
        "\n",
        "\n",
        "def plot_learning_curve(estimator, title, X, y, axes=None, ylim=None, cv=None,\n",
        "                        n_jobs=None, train_sizes=np.linspace(.1, 1.0, 5)):\n",
        "   \n",
        "    if axes is None:\n",
        "        _, axes = plt.subplots(1, 1, figsize=(10, 5))\n",
        "\n",
        "    axes.set_title(title)\n",
        "    if ylim is not None:\n",
        "        axes.set_ylim(*ylim)\n",
        "    axes.set_xlabel(\"Training examples\")\n",
        "    axes.set_ylabel(\"Score\")\n",
        "\n",
        "    train_sizes, train_scores, test_scores, fit_times, _ = \\\n",
        "        learning_curve(estimator, X, y, cv=cv, n_jobs=n_jobs,\n",
        "                       train_sizes=train_sizes,\n",
        "                       return_times=True)\n",
        "    train_scores_mean = np.mean(train_scores, axis=1)\n",
        "    train_scores_std = np.std(train_scores, axis=1)\n",
        "    test_scores_mean = np.mean(test_scores, axis=1)\n",
        "    test_scores_std = np.std(test_scores, axis=1)\n",
        "    fit_times_mean = np.mean(fit_times, axis=1)\n",
        "    fit_times_std = np.std(fit_times, axis=1)\n",
        "\n",
        "    # Plot learning curve\n",
        "    axes.grid()\n",
        "    axes.fill_between(train_sizes, train_scores_mean - train_scores_std,\n",
        "                         train_scores_mean + train_scores_std, alpha=0.1,\n",
        "                         color=\"r\")\n",
        "    axes.fill_between(train_sizes, test_scores_mean - test_scores_std,\n",
        "                         test_scores_mean + test_scores_std, alpha=0.1,\n",
        "                         color=\"g\")\n",
        "    axes.plot(train_sizes, train_scores_mean, 'o-', color=\"r\",\n",
        "                 label=\"Training score\")\n",
        "    axes.plot(train_sizes, test_scores_mean, 'o-', color=\"g\",\n",
        "                 label=\"Cross-validation score\")\n",
        "    axes.legend(loc=\"best\")\n",
        "    return plt\n",
        "\n",
        "\n",
        "# X = X_transform.iloc[: , :-1]\n",
        "# y = data_train.iloc[: ,-1]\n",
        "\n",
        "title = \"Learning Curves (logistic regression)\"\n",
        "cv = ShuffleSplit(n_splits=100, test_size=0.2, random_state=0)\n",
        "\n",
        "\n",
        "estimator = RidgeClassifier(alpha=0.1)\n",
        "plot_learning_curve(estimator, title, X, y, axes=None, ylim=(0.3, 1.01),\n",
        "                    cv=cv, n_jobs=4)\n",
        "\n",
        "\n",
        "\n",
        "plt.show()\n",
        "\n",
        "\"\"\"\n",
        "Comments and Observations:\n",
        "1) Apart from XgbRegressor, ridge classifier seemed to work well for me on the dataset. From the plot, I infer that in Ridgeregression\n",
        "training ssore is still the maximum and CV score could be increase. Hence there is a slight overfit in the model.\n",
        "\"\"\""
      ],
      "execution_count": 14,
      "outputs": [
        {
          "output_type": "display_data",
          "data": {
            "image/png": "[encoded data removed]",
            "text/plain": [
              "<Figure size 720x360 with 1 Axes>"
            ]
          },
          "metadata": {
            "tags": []
          }
        },
        {
          "output_type": "execute_result",
          "data": {
            "application/vnd.google.colaboratory.intrinsic+json": {
              "type": "string"
            },
            "text/plain": [
              "'\\nComments and Observations:\\n1) Apart from XgbRegressor, ridge classifier seemed to work well for me on the dataset. From the plot, I infer that in Ridgeregression\\ntraining ssore is still the maximum and CV score could be increase. Hence there is a slight overfit in the model.\\n'"
            ]
          },
          "metadata": {
            "tags": []
          },
          "execution_count": 14
        }
      ]
    }
  ]
}